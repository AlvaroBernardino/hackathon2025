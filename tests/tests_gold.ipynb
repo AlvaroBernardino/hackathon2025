{
 "cells": [
  {
   "cell_type": "code",
   "execution_count": 1,
   "metadata": {},
   "outputs": [],
   "source": [
    "# Bibliotecas\n",
    "import pandas as pd\n",
    "from sqlalchemy import create_engine, inspect, text, DDL"
   ]
  },
  {
   "cell_type": "code",
   "execution_count": 2,
   "metadata": {},
   "outputs": [],
   "source": [
    "# Conexão com o banco de dados\n",
    "engine = create_engine(f\"sqlite:///../database/gold/02_gold.db\")"
   ]
  },
  {
   "cell_type": "code",
   "execution_count": null,
   "metadata": {},
   "outputs": [],
   "source": [
    "# Verificar conteúdo da tabela g_fato_financas_mensal_alucar\n",
    "query = \"\"\"\n",
    "SELECT * FROM g_fato_financas_mensal_alucar \n",
    "WHERE id_data >= 20250101 AND id_data <= 20251231\n",
    "\"\"\"\n",
    "df = pd.read_sql(query, engine)\n",
    "\n",
    "print(\"\\nConteúdo da tabela g_fato_financas_mensal_alucar para 2025:\")\n",
    "print(df.head())\n",
    "print(\"\\nInformações da tabela:\")\n",
    "print(df.info())\n"
   ]
  },
  {
   "cell_type": "code",
   "execution_count": 6,
   "metadata": {},
   "outputs": [
    {
     "name": "stdout",
     "output_type": "stream",
     "text": [
      "\n",
      "Conteúdo da tabela g_fato_financas_mensal_consigcar para 2025:\n",
      "    id_data  receita_total  despesas_total      lucro  margem_lucro  \\\n",
      "0  20250101      388342.38        58211.18  330131.20      0.850103   \n",
      "1  20250201      416146.56        52277.40  363869.16      0.874377   \n",
      "2  20250301      517415.22        55319.92  462095.30      0.893084   \n",
      "3  20250401      908303.40        51548.02  856755.38      0.943248   \n",
      "4  20250501       66207.84        53332.47   12875.37      0.194469   \n",
      "\n",
      "   evolucao_lucro  parcelamentos_receber  receita_pagseguro  lucro_pag  \\\n",
      "0        0.000000              124379.69           35918.27  -22292.91   \n",
      "1        0.102196              154578.97           51472.94    -804.46   \n",
      "2        0.269949              190500.27           34994.22  -20325.70   \n",
      "3        0.854066              250305.31           48182.77   -3365.25   \n",
      "4       -0.984972              246269.90           41348.00  -11984.47   \n",
      "\n",
      "   margem_lucro_pag  evolucao_lucro_pag  \n",
      "0         -0.620657                -inf  \n",
      "1         -0.015629           -0.963914  \n",
      "2         -0.580830           24.266266  \n",
      "3         -0.069843           -0.834434  \n",
      "4         -0.289844            2.561242  \n",
      "\n",
      "Informações da tabela:\n",
      "<class 'pandas.core.frame.DataFrame'>\n",
      "RangeIndex: 12 entries, 0 to 11\n",
      "Data columns (total 11 columns):\n",
      " #   Column                 Non-Null Count  Dtype  \n",
      "---  ------                 --------------  -----  \n",
      " 0   id_data                12 non-null     int64  \n",
      " 1   receita_total          12 non-null     float64\n",
      " 2   despesas_total         12 non-null     float64\n",
      " 3   lucro                  12 non-null     float64\n",
      " 4   margem_lucro           12 non-null     float64\n",
      " 5   evolucao_lucro         12 non-null     float64\n",
      " 6   parcelamentos_receber  12 non-null     float64\n",
      " 7   receita_pagseguro      12 non-null     float64\n",
      " 8   lucro_pag              12 non-null     float64\n",
      " 9   margem_lucro_pag       12 non-null     float64\n",
      " 10  evolucao_lucro_pag     12 non-null     float64\n",
      "dtypes: float64(10), int64(1)\n",
      "memory usage: 1.2 KB\n",
      "None\n"
     ]
    }
   ],
   "source": [
    "# Verificar conteúdo da tabela g_fato_financas_mensal_consigcar\n",
    "query = \"\"\"\n",
    "SELECT * FROM g_fato_financas_mensal_consigcar \n",
    "WHERE id_data >= 20250101 AND id_data <= 20251231\n",
    "\"\"\"\n",
    "df = pd.read_sql(query, engine)\n",
    "\n",
    "print(\"\\nConteúdo da tabela g_fato_financas_mensal_consigcar para 2025:\")\n",
    "print(df.head())\n",
    "print(\"\\nInformações da tabela:\")\n",
    "print(df.info())\n"
   ]
  },
  {
   "cell_type": "code",
   "execution_count": null,
   "metadata": {},
   "outputs": [],
   "source": [
    "# Verificar conteúdo da tabela g_plr_vendas_ultimos_10_dias com vendas não nulas\n",
    "query = \"\"\"\n",
    "SELECT * FROM g_plr_vendas_ultimos_10_dias \n",
    "WHERE 1=1\n",
    "\"\"\"\n",
    "df = pd.read_sql(query, engine)\n",
    "\n",
    "print(\"\\nConteúdo da tabela g_plr_vendas_ultimos_10_dias (vendas não nulas):\")\n",
    "print(df)"
   ]
  }
 ],
 "metadata": {
  "kernelspec": {
   "display_name": ".venv",
   "language": "python",
   "name": "python3"
  },
  "language_info": {
   "codemirror_mode": {
    "name": "ipython",
    "version": 3
   },
   "file_extension": ".py",
   "mimetype": "text/x-python",
   "name": "python",
   "nbconvert_exporter": "python",
   "pygments_lexer": "ipython3",
   "version": "3.13.2"
  }
 },
 "nbformat": 4,
 "nbformat_minor": 2
}
