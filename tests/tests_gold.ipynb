{
 "cells": [
  {
   "cell_type": "code",
   "execution_count": 2,
   "metadata": {},
   "outputs": [],
   "source": [
    "# Bibliotecas\n",
    "import pandas as pd\n",
    "from sqlalchemy import create_engine, inspect, text, DDL"
   ]
  },
  {
   "cell_type": "code",
   "execution_count": 3,
   "metadata": {},
   "outputs": [],
   "source": [
    "# Conexão com o banco de dados\n",
    "engine = create_engine(f\"sqlite:///../database/gold/02_gold.db\")"
   ]
  },
  {
   "cell_type": "code",
   "execution_count": 4,
   "metadata": {},
   "outputs": [
    {
     "name": "stdout",
     "output_type": "stream",
     "text": [
      "\n",
      "Conteúdo da tabela g_fato_financas_mensal_alucar para 2025:\n",
      "    id_data  receita_total  despesas_total     lucro  margem_lucro  \\\n",
      "0  20250101          54121        36066.55  18054.45      0.333594   \n",
      "1  20250201          65686        35596.30  30089.70      0.458084   \n",
      "2  20250301          39107        31551.95   7555.05      0.193189   \n",
      "3  20250401          44577        53779.79  -9202.79     -0.206447   \n",
      "4  20250501           2654        54216.54 -51562.54    -19.428237   \n",
      "\n",
      "   evolucao_lucro  \n",
      "0        0.000000  \n",
      "1        0.666609  \n",
      "2       -0.748916  \n",
      "3       -2.218098  \n",
      "4        4.602925  \n",
      "\n",
      "Informações da tabela:\n",
      "<class 'pandas.core.frame.DataFrame'>\n",
      "RangeIndex: 12 entries, 0 to 11\n",
      "Data columns (total 6 columns):\n",
      " #   Column          Non-Null Count  Dtype  \n",
      "---  ------          --------------  -----  \n",
      " 0   id_data         12 non-null     int64  \n",
      " 1   receita_total   12 non-null     int64  \n",
      " 2   despesas_total  12 non-null     float64\n",
      " 3   lucro           12 non-null     float64\n",
      " 4   margem_lucro    12 non-null     float64\n",
      " 5   evolucao_lucro  12 non-null     float64\n",
      "dtypes: float64(4), int64(2)\n",
      "memory usage: 708.0 bytes\n",
      "None\n"
     ]
    }
   ],
   "source": [
    "# Verificar conteúdo da tabela g_fato_financas_mensal_alucar\n",
    "query = \"\"\"\n",
    "SELECT * FROM g_fato_financas_mensal_alucar \n",
    "WHERE id_data >= 20250101 AND id_data <= 20251231\n",
    "\"\"\"\n",
    "df = pd.read_sql(query, engine)\n",
    "\n",
    "print(\"\\nConteúdo da tabela g_fato_financas_mensal_alucar para 2025:\")\n",
    "print(df.head())\n",
    "print(\"\\nInformações da tabela:\")\n",
    "print(df.info())\n"
   ]
  },
  {
   "cell_type": "code",
   "execution_count": 5,
   "metadata": {},
   "outputs": [
    {
     "name": "stdout",
     "output_type": "stream",
     "text": [
      "\n",
      "Conteúdo da tabela g_fato_financas_mensal_consigcar para 2025:\n",
      "    id_data  receita_total  despesas_total      lucro  margem_lucro  \\\n",
      "0  20250101      388342.38        58211.18  330131.20      0.850103   \n",
      "1  20250201      416146.56        52277.40  363869.16      0.874377   \n",
      "2  20250301      517415.22        55319.92  462095.30      0.893084   \n",
      "3  20250401      908303.40        51548.02  856755.38      0.943248   \n",
      "4  20250501       66207.84        53332.47   12875.37      0.194469   \n",
      "\n",
      "   evolucao_lucro  parcelamentos_receber  faturamento_pagseguro  lucro_pag  \\\n",
      "0        0.000000              124379.69                   0.00  -58211.18   \n",
      "1        0.102196              154578.97               51472.94    -804.46   \n",
      "2        0.269949              190500.27               34994.22  -20325.70   \n",
      "3        0.854066              250305.31               48182.77   -3365.25   \n",
      "4       -0.984972              246269.90               41348.00  -11984.47   \n",
      "\n",
      "   margem_lucro_pag  evolucao_lucro_pag  \n",
      "0              -inf                -inf  \n",
      "1         -0.015629           -0.986180  \n",
      "2         -0.580830           24.266266  \n",
      "3         -0.069843           -0.834434  \n",
      "4         -0.289844            2.561242  \n",
      "\n",
      "Informações da tabela:\n",
      "<class 'pandas.core.frame.DataFrame'>\n",
      "RangeIndex: 12 entries, 0 to 11\n",
      "Data columns (total 11 columns):\n",
      " #   Column                 Non-Null Count  Dtype  \n",
      "---  ------                 --------------  -----  \n",
      " 0   id_data                12 non-null     int64  \n",
      " 1   receita_total          12 non-null     float64\n",
      " 2   despesas_total         12 non-null     float64\n",
      " 3   lucro                  12 non-null     float64\n",
      " 4   margem_lucro           12 non-null     float64\n",
      " 5   evolucao_lucro         12 non-null     float64\n",
      " 6   parcelamentos_receber  12 non-null     float64\n",
      " 7   faturamento_pagseguro  12 non-null     float64\n",
      " 8   lucro_pag              12 non-null     float64\n",
      " 9   margem_lucro_pag       12 non-null     float64\n",
      " 10  evolucao_lucro_pag     12 non-null     float64\n",
      "dtypes: float64(10), int64(1)\n",
      "memory usage: 1.2 KB\n",
      "None\n"
     ]
    }
   ],
   "source": [
    "# Verificar conteúdo da tabela g_fato_financas_mensal_consigcar\n",
    "query = \"\"\"\n",
    "SELECT * FROM g_fato_financas_mensal_consigcar \n",
    "WHERE id_data >= 20250101 AND id_data <= 20251231\n",
    "\"\"\"\n",
    "df = pd.read_sql(query, engine)\n",
    "\n",
    "print(\"\\nConteúdo da tabela g_fato_financas_mensal_consigcar para 2025:\")\n",
    "print(df.head())\n",
    "print(\"\\nInformações da tabela:\")\n",
    "print(df.info())\n"
   ]
  },
  {
   "cell_type": "code",
   "execution_count": 6,
   "metadata": {},
   "outputs": [
    {
     "name": "stdout",
     "output_type": "stream",
     "text": [
      "\n",
      "Amostra da tabela g_fato_consigcar_estimativa:\n",
      "     id_data  valor_receita_estimativa\n",
      "0   20250102                  35918.27\n",
      "1   20250201                  51472.94\n",
      "2   20250301                  34994.22\n",
      "3   20250401                  48182.77\n",
      "4   20250501                  41348.00\n",
      "5   20250601                  50000.00\n",
      "6   20250701                  59000.00\n",
      "7   20250801                  68000.00\n",
      "8   20250901                  77000.00\n",
      "9   20251001                  86000.00\n",
      "10  20251101                  95000.00\n",
      "11  20251201                 104000.00\n",
      "12  20260101                  32000.00\n",
      "\n",
      "Informações da tabela:\n",
      "<class 'pandas.core.frame.DataFrame'>\n",
      "RangeIndex: 13 entries, 0 to 12\n",
      "Data columns (total 2 columns):\n",
      " #   Column                    Non-Null Count  Dtype  \n",
      "---  ------                    --------------  -----  \n",
      " 0   id_data                   13 non-null     int64  \n",
      " 1   valor_receita_estimativa  13 non-null     float64\n",
      "dtypes: float64(1), int64(1)\n",
      "memory usage: 340.0 bytes\n",
      "None\n"
     ]
    }
   ],
   "source": [
    "# Verificar conteúdo da tabela g_fato_consigcar_estimativa\n",
    "query = \"\"\"\n",
    "SELECT * FROM g_fato_consigcar_estimativa \n",
    "\"\"\"\n",
    "df = pd.read_sql(query, engine)\n",
    "\n",
    "print(\"\\nAmostra da tabela g_fato_consigcar_estimativa:\")\n",
    "print(df)\n",
    "print(\"\\nInformações da tabela:\")\n",
    "print(df.info())\n"
   ]
  },
  {
   "cell_type": "code",
   "execution_count": 7,
   "metadata": {},
   "outputs": [
    {
     "name": "stdout",
     "output_type": "stream",
     "text": [
      "\n",
      "Amostra da tabela g_fato_vendas_alucar_estimativa:\n",
      "     id_data  valor_receita_estimativa\n",
      "0   20250102                    1432.0\n",
      "1   20250103                    4189.0\n",
      "2   20250106                     118.0\n",
      "3   20250107                    2756.0\n",
      "4   20250109                    4631.0\n",
      "..       ...                       ...\n",
      "83  20250801                   36000.0\n",
      "84  20250901                   36000.0\n",
      "85  20251001                   36000.0\n",
      "86  20251101                   36000.0\n",
      "87  20251201                   36000.0\n",
      "\n",
      "[88 rows x 2 columns]\n",
      "\n",
      "Informações da tabela:\n",
      "<class 'pandas.core.frame.DataFrame'>\n",
      "RangeIndex: 88 entries, 0 to 87\n",
      "Data columns (total 2 columns):\n",
      " #   Column                    Non-Null Count  Dtype  \n",
      "---  ------                    --------------  -----  \n",
      " 0   id_data                   88 non-null     int64  \n",
      " 1   valor_receita_estimativa  88 non-null     float64\n",
      "dtypes: float64(1), int64(1)\n",
      "memory usage: 1.5 KB\n",
      "None\n"
     ]
    }
   ],
   "source": [
    "# Verificar conteúdo da tabela g_fato_vendas_alucar_estimativa\n",
    "query = \"\"\"\n",
    "SELECT * FROM g_fato_vendas_alucar_estimativa \n",
    "\"\"\"\n",
    "df = pd.read_sql(query, engine)\n",
    "\n",
    "print(\"\\nAmostra da tabela g_fato_vendas_alucar_estimativa:\")\n",
    "print(df)\n",
    "print(\"\\nInformações da tabela:\")\n",
    "print(df.info())\n"
   ]
  },
  {
   "cell_type": "code",
   "execution_count": 8,
   "metadata": {},
   "outputs": [
    {
     "name": "stdout",
     "output_type": "stream",
     "text": [
      "\n",
      "Conteúdo da tabela g_plr_vendas_ultimos_10_dias (vendas não nulas):\n",
      "    id_vendedor   id_data  total_vendas  valor_total  ranking\n",
      "0             0  20241022             1     32972.94        1\n",
      "1             0  20241122             2     18671.58        1\n",
      "2             0  20250325             2     37378.26        1\n",
      "3             0  20250422             2      7396.02        2\n",
      "4             0  20250429             1     33225.48        1\n",
      "5             1  20241121             1     14626.08        1\n",
      "6             1  20241122             1      3799.62        2\n",
      "7             1  20241124             2     36898.26        1\n",
      "8             1  20241125             1      3731.28        1\n",
      "9             1  20241127             2     47620.98        2\n",
      "10            1  20241128             1     14973.60        1\n",
      "11            1  20241129             2     36742.44        1\n",
      "12            1  20250124             2     47682.66        2\n",
      "13            1  20250127             1     14700.72        2\n",
      "14            1  20250130             1      3882.00        1\n",
      "15            1  20250219             1      3825.00        2\n",
      "16            2  20241126             2     18474.12        1\n",
      "17            2  20241127             2     47869.20        1\n",
      "18            2  20241128             1      3890.70        2\n",
      "19            2  20241130             1     14839.92        1\n",
      "20            2  20241222             1      3688.56        1\n",
      "21            2  20241223             2     18430.20        1\n",
      "22            2  20241224             2     18384.66        1\n",
      "23            2  20241225             1     33024.60        1\n",
      "24            2  20241226             2     47715.36        1\n",
      "25            2  20241229             2     48151.32        1\n",
      "26            2  20250122             2     29445.72        1\n",
      "27            2  20250123             2     36502.26        1\n",
      "28            2  20250124             5     88733.94        1\n",
      "29            2  20250125             1      3699.48        1\n",
      "30            2  20250127             2     19042.68        1\n",
      "31            2  20250128             4     55079.34        1\n",
      "32            2  20250129             1     14608.56        1\n",
      "33            2  20250130             1      3875.10        2\n",
      "34            2  20250131             1      3668.70        1\n",
      "35            2  20250219             2     36989.04        1\n",
      "36            2  20250221             2      7601.64        1\n",
      "37            2  20250224             1     14743.20        1\n",
      "38            2  20250226             1     14673.96        1\n",
      "39            2  20250228             1     14893.56        1\n",
      "40            3  20250322             2     36908.58        1\n",
      "41            4  20250421             1     33552.00        2\n",
      "42            4  20250422             2     29275.08        1\n",
      "43            4  20250424             1     33377.40        2\n",
      "44            4  20250425             1     14867.52        1\n",
      "45            4  20250428             1     14917.20        1\n",
      "46            4  20250429             1      3674.40        2\n",
      "47            4  20250430             2     65980.80        3\n",
      "48            5  20250424             1     32686.56        3\n",
      "49            5  20250430             3     99379.98        1\n",
      "50            6  20250421             2     48193.74        1\n",
      "51            6  20250424             1     34000.20        1\n",
      "52            6  20250428             1     14571.60        2\n",
      "53            6  20250430             4     65995.98        2\n"
     ]
    }
   ],
   "source": [
    "# Verificar conteúdo da tabela g_plr_vendas_ultimos_10_dias com vendas não nulas\n",
    "query = \"\"\"\n",
    "SELECT * FROM g_plr_vendas_ultimos_10_dias \n",
    "WHERE 1=1\n",
    "\"\"\"\n",
    "df = pd.read_sql(query, engine)\n",
    "\n",
    "print(\"\\nConteúdo da tabela g_plr_vendas_ultimos_10_dias (vendas não nulas):\")\n",
    "print(df)"
   ]
  }
 ],
 "metadata": {
  "kernelspec": {
   "display_name": ".venv",
   "language": "python",
   "name": "python3"
  },
  "language_info": {
   "codemirror_mode": {
    "name": "ipython",
    "version": 3
   },
   "file_extension": ".py",
   "mimetype": "text/x-python",
   "name": "python",
   "nbconvert_exporter": "python",
   "pygments_lexer": "ipython3",
   "version": "3.13.2"
  }
 },
 "nbformat": 4,
 "nbformat_minor": 2
}
