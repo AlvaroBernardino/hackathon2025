{
 "cells": [
  {
   "cell_type": "code",
   "execution_count": 2,
   "metadata": {},
   "outputs": [],
   "source": [
    "# Bibliotecas\n",
    "import pandas as pd\n",
    "from sqlalchemy import create_engine, inspect, text, DDL"
   ]
  },
  {
   "cell_type": "code",
   "execution_count": 3,
   "metadata": {},
   "outputs": [],
   "source": [
    "# Conexão com o banco de dados\n",
    "engine = create_engine(f\"sqlite:///../database/gold/02_gold.db\")"
   ]
  },
  {
   "cell_type": "code",
   "execution_count": 4,
   "metadata": {},
   "outputs": [
    {
     "name": "stdout",
     "output_type": "stream",
     "text": [
      "\n",
      "Conteúdo da tabela g_fato_financas_mensal_alucar para 2025:\n",
      "    id_data  receita_total  despesas_total     lucro  margem_lucro  \\\n",
      "0  20250101        54121.0        36066.55  18054.45      0.333594   \n",
      "1  20250201        65686.0        35596.30  30089.70      0.458084   \n",
      "2  20250301        39107.0        31551.95   7555.05      0.193189   \n",
      "3  20250401        44577.0        53779.79  -9202.79     -0.206447   \n",
      "4  20250501         2654.0        54216.54 -51562.54    -19.428237   \n",
      "\n",
      "   evolucao_lucro  \n",
      "0        0.000000  \n",
      "1        0.666609  \n",
      "2       -0.748916  \n",
      "3       -2.218098  \n",
      "4        4.602925  \n",
      "\n",
      "Informações da tabela:\n",
      "<class 'pandas.core.frame.DataFrame'>\n",
      "RangeIndex: 12 entries, 0 to 11\n",
      "Data columns (total 6 columns):\n",
      " #   Column          Non-Null Count  Dtype  \n",
      "---  ------          --------------  -----  \n",
      " 0   id_data         12 non-null     int64  \n",
      " 1   receita_total   12 non-null     float64\n",
      " 2   despesas_total  12 non-null     float64\n",
      " 3   lucro           12 non-null     float64\n",
      " 4   margem_lucro    12 non-null     float64\n",
      " 5   evolucao_lucro  12 non-null     float64\n",
      "dtypes: float64(5), int64(1)\n",
      "memory usage: 708.0 bytes\n",
      "None\n"
     ]
    }
   ],
   "source": [
    "# Verificar conteúdo da tabela g_fato_financas_mensal_alucar\n",
    "query = \"\"\"\n",
    "SELECT * FROM g_fato_financas_mensal_alucar \n",
    "WHERE id_data >= 20250101 AND id_data <= 20251231\n",
    "\"\"\"\n",
    "df = pd.read_sql(query, engine)\n",
    "\n",
    "print(\"\\nConteúdo da tabela g_fato_financas_mensal_alucar para 2025:\")\n",
    "print(df.head())\n",
    "print(\"\\nInformações da tabela:\")\n",
    "print(df.info())\n"
   ]
  },
  {
   "cell_type": "code",
   "execution_count": 5,
   "metadata": {},
   "outputs": [
    {
     "name": "stdout",
     "output_type": "stream",
     "text": [
      "\n",
      "Conteúdo da tabela g_fato_financas_mensal_consigcar para 2025:\n",
      "    id_data  receita_total  despesas_total      lucro  margem_lucro  \\\n",
      "0  20250101      388342.38        58211.18  330131.20      0.850103   \n",
      "1  20250201      416146.56        52277.40  363869.16      0.874377   \n",
      "2  20250301      517415.22        55319.92  462095.30      0.893084   \n",
      "3  20250401      908303.40        51548.02  856755.38      0.943248   \n",
      "4  20250501       66207.84        53332.47   12875.37      0.194469   \n",
      "\n",
      "   evolucao_lucro  \n",
      "0        0.000000  \n",
      "1        0.102196  \n",
      "2        0.269949  \n",
      "3        0.854066  \n",
      "4       -0.984972  \n",
      "\n",
      "Informações da tabela:\n",
      "<class 'pandas.core.frame.DataFrame'>\n",
      "RangeIndex: 12 entries, 0 to 11\n",
      "Data columns (total 6 columns):\n",
      " #   Column          Non-Null Count  Dtype  \n",
      "---  ------          --------------  -----  \n",
      " 0   id_data         12 non-null     int64  \n",
      " 1   receita_total   12 non-null     float64\n",
      " 2   despesas_total  12 non-null     float64\n",
      " 3   lucro           12 non-null     float64\n",
      " 4   margem_lucro    12 non-null     float64\n",
      " 5   evolucao_lucro  12 non-null     float64\n",
      "dtypes: float64(5), int64(1)\n",
      "memory usage: 708.0 bytes\n",
      "None\n"
     ]
    }
   ],
   "source": [
    "# Verificar conteúdo da tabela g_fato_financas_mensal_consigcar\n",
    "query = \"\"\"\n",
    "SELECT * FROM g_fato_financas_mensal_consigcar \n",
    "WHERE id_data >= 20250101 AND id_data <= 20251231\n",
    "\"\"\"\n",
    "df = pd.read_sql(query, engine)\n",
    "\n",
    "print(\"\\nConteúdo da tabela g_fato_financas_mensal_consigcar para 2025:\")\n",
    "print(df.head())\n",
    "print(\"\\nInformações da tabela:\")\n",
    "print(df.info())\n"
   ]
  },
  {
   "cell_type": "code",
   "execution_count": 10,
   "metadata": {},
   "outputs": [
    {
     "name": "stdout",
     "output_type": "stream",
     "text": [
      "\n",
      "Conteúdo da tabela g_plr_vendas_ultimos_10_dias (vendas não nulas):\n",
      "    id_vendedor   id_data  total_vendas  valor_parcelas_total  ranking\n",
      "0             0  20241001             3              69859.32        1\n",
      "1             0  20241101             5              89353.74        2\n",
      "2             0  20241201             1              14894.40        3\n",
      "3             0  20250101             2              30199.08        3\n",
      "4             0  20250201             1              32936.40        3\n",
      "5             0  20250301            10             166212.90        2\n",
      "6             0  20250401            10             206042.88        3\n",
      "7             1  20241001             1              14875.92        2\n",
      "8             1  20241101            21             273985.14        1\n",
      "9             1  20241201             3              44292.60        2\n",
      "10            1  20250101             5              69950.64        2\n",
      "11            1  20250201             4              37531.20        2\n",
      "12            1  20250301             9             192164.28        1\n",
      "13            1  20250401             2              18645.24        6\n",
      "14            2  20241101             6              85073.94        3\n",
      "15            2  20241201            33             680093.28        1\n",
      "16            2  20250101            25             288192.66        1\n",
      "17            2  20250201            20             345678.96        1\n",
      "18            2  20250301             2              47865.24        4\n",
      "19            3  20250301             8             111172.80        3\n",
      "20            3  20250401             3              51529.44        5\n",
      "21            3  20250501             1              14707.68        2\n",
      "22            4  20250401            14             255745.20        1\n",
      "23            4  20250501             3              51500.16        1\n",
      "24            5  20250401             7             213579.12        2\n",
      "25            6  20250401             8             162761.52        4\n"
     ]
    }
   ],
   "source": [
    "# Verificar conteúdo da tabela g_plr_vendas_ultimos_10_dias com vendas não nulas\n",
    "query = \"\"\"\n",
    "SELECT * FROM g_plr_vendas_ultimos_10_dias \n",
    "WHERE 1=1\n",
    "\"\"\"\n",
    "df = pd.read_sql(query, engine)\n",
    "\n",
    "print(\"\\nConteúdo da tabela g_plr_vendas_ultimos_10_dias (vendas não nulas):\")\n",
    "print(df)"
   ]
  }
 ],
 "metadata": {
  "kernelspec": {
   "display_name": ".venv",
   "language": "python",
   "name": "python3"
  },
  "language_info": {
   "codemirror_mode": {
    "name": "ipython",
    "version": 3
   },
   "file_extension": ".py",
   "mimetype": "text/x-python",
   "name": "python",
   "nbconvert_exporter": "python",
   "pygments_lexer": "ipython3",
   "version": "3.13.2"
  }
 },
 "nbformat": 4,
 "nbformat_minor": 2
}
