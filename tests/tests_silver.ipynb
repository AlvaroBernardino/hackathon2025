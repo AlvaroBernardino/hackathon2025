{
 "cells": [
  {
   "cell_type": "code",
   "execution_count": 2,
   "metadata": {},
   "outputs": [],
   "source": [
    "# Bibliotecas\n",
    "import pandas as pd\n",
    "from sqlalchemy import create_engine, inspect, text, DDL"
   ]
  },
  {
   "cell_type": "code",
   "execution_count": 3,
   "metadata": {},
   "outputs": [],
   "source": [
    "# Conexão com o banco de dados\n",
    "db_path_silver = \"../database/silver/01_silver.db\"\n",
    "engine = create_engine(f\"sqlite:///{db_path_silver}\")"
   ]
  },
  {
   "cell_type": "code",
   "execution_count": 4,
   "id": "0754778d",
   "metadata": {},
   "outputs": [
    {
     "name": "stdout",
     "output_type": "stream",
     "text": [
      "dim_cliente:\n",
      "   id_cliente                                       nome_cliente  \\\n",
      "0           0                      Fernanda Gomes Ibrahim Campos   \n",
      "1           1               Patrícia Zanetti Jardim Campos Souza   \n",
      "2           2                Eduardo Yamada Dias Vieira Nogueira   \n",
      "3           3                        Thiago Lopes Xavier Queiroz   \n",
      "4           4              Vanessa Yamada Farias Krause Teixeira   \n",
      "5           5       Natália Oliveira Vieira Lopes Nogueira Costa   \n",
      "6           6  Patrícia Machado Teixeira Zanetti Ibrahim Queiroz   \n",
      "7           7       Kleber Nogueira Costa Teixeira Silva Esteves   \n",
      "8           8           Helena Oliveira Nogueira Esteves Zanetti   \n",
      "9           9             Fernanda Rodrigues Costa Uchoa Almeida   \n",
      "\n",
      "          whatsapp    empresa  \n",
      "0  (11) 99123-4567  Consigcar  \n",
      "1  (21) 99234-5678  Consigcar  \n",
      "2  (43) 99345-6789  Consigcar  \n",
      "3  (51) 99456-7890  Consigcar  \n",
      "4  (61) 99567-8901  Consigcar  \n",
      "5  (71) 99678-9012  Consigcar  \n",
      "6  (81) 99789-0123  Consigcar  \n",
      "7  (91) 99890-1234  Consigcar  \n",
      "8  (11) 99111-2222  Consigcar  \n",
      "9  (21) 99222-3333  Consigcar  \n",
      "\n",
      "Tipos de dados dim_cliente:\n",
      "id_cliente: int64\n",
      "nome_cliente: object\n",
      "whatsapp: object\n",
      "empresa: object\n"
     ]
    }
   ],
   "source": [
    "# 1) Verificação dim_cliente\n",
    "query_s1 = \"\"\"\n",
    "SELECT * FROM dim_cliente \n",
    "LIMIT 10;\n",
    "\"\"\"\n",
    "df_s1 = pd.read_sql(query_s1, engine)\n",
    "print(\"dim_cliente:\")\n",
    "print(df_s1)\n",
    "\n",
    "# 1.2) Verificação dos tipos de dados dim_cliente\n",
    "print(\"\\nTipos de dados dim_cliente:\")\n",
    "for col in df_s1.columns:\n",
    "    print(f\"{col}: {df_s1[col].dtype}\")\n",
    "\n"
   ]
  },
  {
   "cell_type": "code",
   "execution_count": null,
   "id": "0c9cee17",
   "metadata": {},
   "outputs": [],
   "source": [
    "# 2) Verificação fato_faturamento_pagseguro\n",
    "query_s2 = \"\"\"\n",
    "SELECT * FROM fato_faturamento_pagseguro\n",
    "LIMIT 12;\n",
    "\"\"\"\n",
    "df_s2 = pd.read_sql(query_s2, engine)\n",
    "print(\"\\nfato_faturamento_pagseguro:\")\n",
    "print(df_s2)\n",
    "\n",
    "# 2.1) Verificação dos tipos de dados fato_faturamento_pagseguro\n",
    "print(\"\\nTipos de dados fato_faturamento_pagseguro:\")\n",
    "for col in df_s2.columns:\n",
    "    print(f\"{col}: {df_s2[col].dtype}\")\n",
    "\n"
   ]
  },
  {
   "cell_type": "code",
   "execution_count": null,
   "id": "baf462c9",
   "metadata": {},
   "outputs": [],
   "source": [
    "# 3) Verificação dim_tempo\n",
    "query_s3 = \"\"\"\n",
    "SELECT * FROM dim_tempo\n",
    "LIMIT 10;\n",
    "\"\"\"\n",
    "df_s3 = pd.read_sql(query_s3, engine)\n",
    "print(\"\\ndim_tempo:\")\n",
    "print(df_s3)\n"
   ]
  },
  {
   "cell_type": "code",
   "execution_count": null,
   "id": "4dbea683",
   "metadata": {},
   "outputs": [],
   "source": [
    "# 3.2) Verificação linhas do trimestre 2\n",
    "query_s3_2 = \"\"\"\n",
    "SELECT * FROM dim_tempo \n",
    "WHERE trimestre = 2\n",
    "LIMIT 10;\n",
    "\"\"\"\n",
    "df_s3_2 = pd.read_sql(query_s3_2, engine)\n",
    "print(\"\\ndim_tempo (trimestre 2):\")\n",
    "print(df_s3_2)\n"
   ]
  },
  {
   "cell_type": "code",
   "execution_count": null,
   "id": "2ffd4c21",
   "metadata": {},
   "outputs": [],
   "source": [
    "# 3.3) Verificação linhas do trimestre 3\n",
    "query_s3_3 = \"\"\"\n",
    "SELECT * FROM dim_tempo \n",
    "WHERE trimestre = 3\n",
    "LIMIT 10;\n",
    "\"\"\"\n",
    "df_s3_3 = pd.read_sql(query_s3_3, engine)\n",
    "print(\"\\ndim_tempo (trimestre 3):\")\n",
    "print(df_s3_3)"
   ]
  },
  {
   "cell_type": "code",
   "execution_count": null,
   "id": "142e7893",
   "metadata": {},
   "outputs": [],
   "source": [
    "\n",
    "# 3.4) Verificação linhas de agosto\n",
    "query_s3_4 = \"\"\"\n",
    "SELECT * FROM dim_tempo \n",
    "WHERE nome_mes = 'agosto'\n",
    "LIMIT 10;\n",
    "\"\"\"\n",
    "df_s3_4 = pd.read_sql(query_s3_4, engine)\n",
    "print(\"\\ndim_tempo (agosto):\")\n",
    "print(df_s3_4)\n",
    "\n"
   ]
  },
  {
   "cell_type": "code",
   "execution_count": null,
   "id": "7323e9e9",
   "metadata": {},
   "outputs": [],
   "source": [
    "# 4) Verificação dim_vendedor\n",
    "query_s4 = \"\"\"\n",
    "SELECT * FROM dim_vendedor\n",
    "LIMIT 10;\n",
    "\"\"\"\n",
    "df_s4 = pd.read_sql(query_s4, engine)\n",
    "print(\"\\ndim_vendedor:\")\n",
    "print(df_s4)"
   ]
  },
  {
   "cell_type": "code",
   "execution_count": 24,
   "id": "d430c409",
   "metadata": {},
   "outputs": [
    {
     "name": "stdout",
     "output_type": "stream",
     "text": [
      "\n",
      "fato_despesas:\n",
      "     id_despesa     origem categoria            nome_despesa    valor  \\\n",
      "0             0     Alucar        NA     Lucas Pereira Costa  7325.00   \n",
      "1             1     Alucar        NA  Mariana Oliveira Souza  1892.41   \n",
      "2             2     Alucar        NA      João Henrique Lima  2600.22   \n",
      "3             3     Alucar        NA        Ana Paula Santos  1756.23   \n",
      "4             4     Alucar        NA   Aluguel de escritório  1800.00   \n",
      "..          ...        ...       ...                     ...      ...   \n",
      "415         415  Consigcar        NA              Google Ads  6215.43   \n",
      "416         416  Consigcar        NA                Meta Ads  1973.50   \n",
      "417         417  Consigcar        NA            LinkedIn Ads  4890.22   \n",
      "418         418  Consigcar        NA                     CRM  2658.90   \n",
      "419         419  Consigcar        NA             Landin page  5340.10   \n",
      "\n",
      "      id_data  \n",
      "0    20250101  \n",
      "1    20250101  \n",
      "2    20250101  \n",
      "3    20250101  \n",
      "4    20250101  \n",
      "..        ...  \n",
      "415  20251201  \n",
      "416  20251201  \n",
      "417  20251201  \n",
      "418  20251201  \n",
      "419  20251201  \n",
      "\n",
      "[420 rows x 6 columns]\n"
     ]
    }
   ],
   "source": [
    "# 5) Verificação fato_despesas\n",
    "query_s5 = \"\"\"\n",
    "SELECT * FROM fato_despesas;\n",
    "\"\"\"\n",
    "df_s5 = pd.read_sql(query_s5, engine)\n",
    "print(\"\\nfato_despesas:\")\n",
    "print(df_s5)"
   ]
  },
  {
   "cell_type": "code",
   "execution_count": null,
   "id": "1927e19e",
   "metadata": {},
   "outputs": [],
   "source": [
    "# 6) Verificação fato_vendas_alucar\n",
    "query_s6 = \"\"\"\n",
    "SELECT * FROM fato_vendas_alucar\n",
    "LIMIT 22;\n",
    "\"\"\"\n",
    "df_s6 = pd.read_sql(query_s6, engine)\n",
    "print(\"\\nfato_vendas_alucar:\")\n",
    "print(df_s6)"
   ]
  },
  {
   "cell_type": "code",
   "execution_count": null,
   "id": "bcb41fbd",
   "metadata": {},
   "outputs": [],
   "source": [
    "# 7) Verificação fato_vendas_consigcar\n",
    "query_s7 = \"\"\"\n",
    "SELECT * FROM fato_vendas_consigcar\n",
    "LIMIT 10;\n",
    "\"\"\"\n",
    "df_s7 = pd.read_sql(query_s7, engine)\n",
    "print(\"\\nfato_vendas_consigcar:\")\n",
    "print(df_s7)"
   ]
  },
  {
   "cell_type": "code",
   "execution_count": null,
   "id": "8e1beaf3",
   "metadata": {},
   "outputs": [],
   "source": [
    "# 9) Verificação fato_vendas_diarias_vendedor\n",
    "query_s9 = \"\"\"\n",
    "SELECT f.*, v.nome_vendedor, t.mes, t.nome_mes\n",
    "FROM fato_vendas_diaria_vendedor f\n",
    "JOIN dim_vendedor v ON f.id_vendedor = v.id_vendedor\n",
    "JOIN dim_tempo t ON f.id_data = t.id_data\n",
    "LIMIT 10;\n",
    "\"\"\"\n",
    "df_s9 = pd.read_sql(query_s9, engine)\n",
    "print(\"\\nfato_vendas_diaria_vendedor:\")\n",
    "print(df_s9)"
   ]
  },
  {
   "cell_type": "code",
   "execution_count": null,
   "id": "db5e1ca7",
   "metadata": {},
   "outputs": [],
   "source": [
    "# 10) Verificação dim_pagamentos_programados\n",
    "query_s10 = \"\"\"\n",
    "SELECT * FROM dim_pagamentos_programados\n",
    "LIMIT 25;\n",
    "\"\"\"\n",
    "df_s10 = pd.read_sql(query_s10, engine)\n",
    "print(\"\\ndim_pagamentos_programados:\")\n",
    "print(df_s10.head(25))\n"
   ]
  }
 ],
 "metadata": {
  "kernelspec": {
   "display_name": ".venv",
   "language": "python",
   "name": "python3"
  },
  "language_info": {
   "codemirror_mode": {
    "name": "ipython",
    "version": 3
   },
   "file_extension": ".py",
   "mimetype": "text/x-python",
   "name": "python",
   "nbconvert_exporter": "python",
   "pygments_lexer": "ipython3",
   "version": "3.13.2"
  }
 },
 "nbformat": 4,
 "nbformat_minor": 5
}
