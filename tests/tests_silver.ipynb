{
 "cells": [
  {
   "cell_type": "code",
   "execution_count": 2,
   "metadata": {},
   "outputs": [],
   "source": [
    "# Bibliotecas\n",
    "import pandas as pd\n",
    "from sqlalchemy import create_engine, inspect, text, DDL"
   ]
  },
  {
   "cell_type": "code",
   "execution_count": 3,
   "metadata": {},
   "outputs": [],
   "source": [
    "# Conexão com o banco de dados\n",
    "db_path_silver = \"../database/silver/01_silver.db\"\n",
    "engine = create_engine(f\"sqlite:///{db_path_silver}\")"
   ]
  },
  {
   "cell_type": "code",
   "execution_count": 4,
   "id": "0754778d",
   "metadata": {},
   "outputs": [
    {
     "name": "stdout",
     "output_type": "stream",
     "text": [
      "dim_cliente:\n",
      "   id_cliente                                       nome_cliente  \\\n",
      "0           0                      Fernanda Gomes Ibrahim Campos   \n",
      "1           1               Patrícia Zanetti Jardim Campos Souza   \n",
      "2           2                Eduardo Yamada Dias Vieira Nogueira   \n",
      "3           3                        Thiago Lopes Xavier Queiroz   \n",
      "4           4              Vanessa Yamada Farias Krause Teixeira   \n",
      "5           5       Natália Oliveira Vieira Lopes Nogueira Costa   \n",
      "6           6  Patrícia Machado Teixeira Zanetti Ibrahim Queiroz   \n",
      "7           7       Kleber Nogueira Costa Teixeira Silva Esteves   \n",
      "8           8           Helena Oliveira Nogueira Esteves Zanetti   \n",
      "9           9             Fernanda Rodrigues Costa Uchoa Almeida   \n",
      "\n",
      "          whatsapp    empresa  \n",
      "0  (11) 99123-4567  Consigcar  \n",
      "1  (21) 99234-5678  Consigcar  \n",
      "2  (43) 99345-6789  Consigcar  \n",
      "3  (51) 99456-7890  Consigcar  \n",
      "4  (61) 99567-8901  Consigcar  \n",
      "5  (71) 99678-9012  Consigcar  \n",
      "6  (81) 99789-0123  Consigcar  \n",
      "7  (91) 99890-1234  Consigcar  \n",
      "8  (11) 99111-2222  Consigcar  \n",
      "9  (21) 99222-3333  Consigcar  \n",
      "\n",
      "Tipos de dados dim_cliente:\n",
      "id_cliente: int64\n",
      "nome_cliente: object\n",
      "whatsapp: object\n",
      "empresa: object\n"
     ]
    }
   ],
   "source": [
    "# 1) Verificação dim_cliente\n",
    "query_s1 = \"\"\"\n",
    "SELECT * FROM dim_cliente \n",
    "LIMIT 10;\n",
    "\"\"\"\n",
    "df_s1 = pd.read_sql(query_s1, engine)\n",
    "print(\"dim_cliente:\")\n",
    "print(df_s1)\n",
    "\n",
    "# 1.2) Verificação dos tipos de dados dim_cliente\n",
    "print(\"\\nTipos de dados dim_cliente:\")\n",
    "for col in df_s1.columns:\n",
    "    print(f\"{col}: {df_s1[col].dtype}\")\n",
    "\n"
   ]
  },
  {
   "cell_type": "code",
   "execution_count": 5,
   "id": "0c9cee17",
   "metadata": {},
   "outputs": [
    {
     "name": "stdout",
     "output_type": "stream",
     "text": [
      "\n",
      "fato_faturamento_pagseguro:\n",
      "   id_faturamento   id_data  valor_faturado\n",
      "0               0  20250101        35918.27\n",
      "1               1  20250201        51472.94\n",
      "2               2  20250301        34994.22\n",
      "3               3  20250401        48182.77\n",
      "4               4  20250501        41348.00\n",
      "\n",
      "Tipos de dados fato_faturamento_pagseguro:\n",
      "id_faturamento: int64\n",
      "id_data: int64\n",
      "valor_faturado: float64\n"
     ]
    }
   ],
   "source": [
    "# 2) Verificação fato_faturamento_pagseguro\n",
    "query_s2 = \"\"\"\n",
    "SELECT * FROM fato_faturamento_pagseguro\n",
    "LIMIT 12;\n",
    "\"\"\"\n",
    "df_s2 = pd.read_sql(query_s2, engine)\n",
    "print(\"\\nfato_faturamento_pagseguro:\")\n",
    "print(df_s2)\n",
    "\n",
    "# 2.1) Verificação dos tipos de dados fato_faturamento_pagseguro\n",
    "print(\"\\nTipos de dados fato_faturamento_pagseguro:\")\n",
    "for col in df_s2.columns:\n",
    "    print(f\"{col}: {df_s2[col].dtype}\")\n",
    "\n"
   ]
  },
  {
   "cell_type": "code",
   "execution_count": 6,
   "id": "baf462c9",
   "metadata": {},
   "outputs": [
    {
     "name": "stdout",
     "output_type": "stream",
     "text": [
      "\n",
      "dim_tempo:\n",
      "    id_data                        data  dia  mes   ano nome_mes  \\\n",
      "0  20180101  2018-01-01 00:00:00.000000    1    1  2018  janeiro   \n",
      "1  20180102  2018-01-02 00:00:00.000000    2    1  2018  janeiro   \n",
      "2  20180103  2018-01-03 00:00:00.000000    3    1  2018  janeiro   \n",
      "3  20180104  2018-01-04 00:00:00.000000    4    1  2018  janeiro   \n",
      "4  20180105  2018-01-05 00:00:00.000000    5    1  2018  janeiro   \n",
      "5  20180106  2018-01-06 00:00:00.000000    6    1  2018  janeiro   \n",
      "6  20180107  2018-01-07 00:00:00.000000    7    1  2018  janeiro   \n",
      "7  20180108  2018-01-08 00:00:00.000000    8    1  2018  janeiro   \n",
      "8  20180109  2018-01-09 00:00:00.000000    9    1  2018  janeiro   \n",
      "9  20180110  2018-01-10 00:00:00.000000   10    1  2018  janeiro   \n",
      "\n",
      "   dia_da_semana  trimestre  \n",
      "0  Segunda-feira          1  \n",
      "1    Terça-feira          1  \n",
      "2   Quarta-feira          1  \n",
      "3   Quinta-feira          1  \n",
      "4    Sexta-feira          1  \n",
      "5         Sábado          1  \n",
      "6        Domingo          1  \n",
      "7  Segunda-feira          1  \n",
      "8    Terça-feira          1  \n",
      "9   Quarta-feira          1  \n"
     ]
    }
   ],
   "source": [
    "# 3) Verificação dim_tempo\n",
    "query_s3 = \"\"\"\n",
    "SELECT * FROM dim_tempo\n",
    "LIMIT 10;\n",
    "\"\"\"\n",
    "df_s3 = pd.read_sql(query_s3, engine)\n",
    "print(\"\\ndim_tempo:\")\n",
    "print(df_s3)\n"
   ]
  },
  {
   "cell_type": "code",
   "execution_count": 7,
   "id": "4dbea683",
   "metadata": {},
   "outputs": [
    {
     "name": "stdout",
     "output_type": "stream",
     "text": [
      "\n",
      "dim_tempo (trimestre 2):\n",
      "    id_data                        data  dia  mes   ano nome_mes  \\\n",
      "0  20180401  2018-04-01 00:00:00.000000    1    4  2018    abril   \n",
      "1  20180402  2018-04-02 00:00:00.000000    2    4  2018    abril   \n",
      "2  20180403  2018-04-03 00:00:00.000000    3    4  2018    abril   \n",
      "3  20180404  2018-04-04 00:00:00.000000    4    4  2018    abril   \n",
      "4  20180405  2018-04-05 00:00:00.000000    5    4  2018    abril   \n",
      "5  20180406  2018-04-06 00:00:00.000000    6    4  2018    abril   \n",
      "6  20180407  2018-04-07 00:00:00.000000    7    4  2018    abril   \n",
      "7  20180408  2018-04-08 00:00:00.000000    8    4  2018    abril   \n",
      "8  20180409  2018-04-09 00:00:00.000000    9    4  2018    abril   \n",
      "9  20180410  2018-04-10 00:00:00.000000   10    4  2018    abril   \n",
      "\n",
      "   dia_da_semana  trimestre  \n",
      "0        Domingo          2  \n",
      "1  Segunda-feira          2  \n",
      "2    Terça-feira          2  \n",
      "3   Quarta-feira          2  \n",
      "4   Quinta-feira          2  \n",
      "5    Sexta-feira          2  \n",
      "6         Sábado          2  \n",
      "7        Domingo          2  \n",
      "8  Segunda-feira          2  \n",
      "9    Terça-feira          2  \n"
     ]
    }
   ],
   "source": [
    "# 3.2) Verificação linhas do trimestre 2\n",
    "query_s3_2 = \"\"\"\n",
    "SELECT * FROM dim_tempo \n",
    "WHERE trimestre = 2\n",
    "LIMIT 10;\n",
    "\"\"\"\n",
    "df_s3_2 = pd.read_sql(query_s3_2, engine)\n",
    "print(\"\\ndim_tempo (trimestre 2):\")\n",
    "print(df_s3_2)\n"
   ]
  },
  {
   "cell_type": "code",
   "execution_count": 8,
   "id": "2ffd4c21",
   "metadata": {},
   "outputs": [
    {
     "name": "stdout",
     "output_type": "stream",
     "text": [
      "\n",
      "dim_tempo (trimestre 3):\n",
      "    id_data                        data  dia  mes   ano nome_mes  \\\n",
      "0  20180701  2018-07-01 00:00:00.000000    1    7  2018    julho   \n",
      "1  20180702  2018-07-02 00:00:00.000000    2    7  2018    julho   \n",
      "2  20180703  2018-07-03 00:00:00.000000    3    7  2018    julho   \n",
      "3  20180704  2018-07-04 00:00:00.000000    4    7  2018    julho   \n",
      "4  20180705  2018-07-05 00:00:00.000000    5    7  2018    julho   \n",
      "5  20180706  2018-07-06 00:00:00.000000    6    7  2018    julho   \n",
      "6  20180707  2018-07-07 00:00:00.000000    7    7  2018    julho   \n",
      "7  20180708  2018-07-08 00:00:00.000000    8    7  2018    julho   \n",
      "8  20180709  2018-07-09 00:00:00.000000    9    7  2018    julho   \n",
      "9  20180710  2018-07-10 00:00:00.000000   10    7  2018    julho   \n",
      "\n",
      "   dia_da_semana  trimestre  \n",
      "0        Domingo          3  \n",
      "1  Segunda-feira          3  \n",
      "2    Terça-feira          3  \n",
      "3   Quarta-feira          3  \n",
      "4   Quinta-feira          3  \n",
      "5    Sexta-feira          3  \n",
      "6         Sábado          3  \n",
      "7        Domingo          3  \n",
      "8  Segunda-feira          3  \n",
      "9    Terça-feira          3  \n"
     ]
    }
   ],
   "source": [
    "# 3.3) Verificação linhas do trimestre 3\n",
    "query_s3_3 = \"\"\"\n",
    "SELECT * FROM dim_tempo \n",
    "WHERE trimestre = 3\n",
    "LIMIT 10;\n",
    "\"\"\"\n",
    "df_s3_3 = pd.read_sql(query_s3_3, engine)\n",
    "print(\"\\ndim_tempo (trimestre 3):\")\n",
    "print(df_s3_3)"
   ]
  },
  {
   "cell_type": "code",
   "execution_count": 9,
   "id": "142e7893",
   "metadata": {},
   "outputs": [
    {
     "name": "stdout",
     "output_type": "stream",
     "text": [
      "\n",
      "dim_tempo (agosto):\n",
      "    id_data                        data  dia  mes   ano nome_mes  \\\n",
      "0  20180801  2018-08-01 00:00:00.000000    1    8  2018   agosto   \n",
      "1  20180802  2018-08-02 00:00:00.000000    2    8  2018   agosto   \n",
      "2  20180803  2018-08-03 00:00:00.000000    3    8  2018   agosto   \n",
      "3  20180804  2018-08-04 00:00:00.000000    4    8  2018   agosto   \n",
      "4  20180805  2018-08-05 00:00:00.000000    5    8  2018   agosto   \n",
      "5  20180806  2018-08-06 00:00:00.000000    6    8  2018   agosto   \n",
      "6  20180807  2018-08-07 00:00:00.000000    7    8  2018   agosto   \n",
      "7  20180808  2018-08-08 00:00:00.000000    8    8  2018   agosto   \n",
      "8  20180809  2018-08-09 00:00:00.000000    9    8  2018   agosto   \n",
      "9  20180810  2018-08-10 00:00:00.000000   10    8  2018   agosto   \n",
      "\n",
      "   dia_da_semana  trimestre  \n",
      "0   Quarta-feira          3  \n",
      "1   Quinta-feira          3  \n",
      "2    Sexta-feira          3  \n",
      "3         Sábado          3  \n",
      "4        Domingo          3  \n",
      "5  Segunda-feira          3  \n",
      "6    Terça-feira          3  \n",
      "7   Quarta-feira          3  \n",
      "8   Quinta-feira          3  \n",
      "9    Sexta-feira          3  \n"
     ]
    }
   ],
   "source": [
    "\n",
    "# 3.4) Verificação linhas de agosto\n",
    "query_s3_4 = \"\"\"\n",
    "SELECT * FROM dim_tempo \n",
    "WHERE nome_mes = 'agosto'\n",
    "LIMIT 10;\n",
    "\"\"\"\n",
    "df_s3_4 = pd.read_sql(query_s3_4, engine)\n",
    "print(\"\\ndim_tempo (agosto):\")\n",
    "print(df_s3_4)\n",
    "\n"
   ]
  },
  {
   "cell_type": "code",
   "execution_count": 10,
   "id": "7323e9e9",
   "metadata": {},
   "outputs": [
    {
     "name": "stdout",
     "output_type": "stream",
     "text": [
      "\n",
      "dim_vendedor:\n",
      "   id_vendedor nome_vendedor\n",
      "0            0        Thiago\n",
      "1            1      Fernanda\n",
      "2            2       Gustavo\n",
      "3            3        Rafael\n",
      "4            4       Leticia\n",
      "5            5       Marcelo\n",
      "6            6       Rodrigo\n"
     ]
    }
   ],
   "source": [
    "# 4) Verificação dim_vendedor\n",
    "query_s4 = \"\"\"\n",
    "SELECT * FROM dim_vendedor\n",
    "LIMIT 10;\n",
    "\"\"\"\n",
    "df_s4 = pd.read_sql(query_s4, engine)\n",
    "print(\"\\ndim_vendedor:\")\n",
    "print(df_s4)"
   ]
  },
  {
   "cell_type": "code",
   "execution_count": 11,
   "id": "d430c409",
   "metadata": {},
   "outputs": [
    {
     "name": "stdout",
     "output_type": "stream",
     "text": [
      "\n",
      "fato_despesas:\n",
      "     id_despesa     origem categoria            nome_despesa    valor  \\\n",
      "0             0     Alucar        NA     Lucas Pereira Costa  7325.00   \n",
      "1             1     Alucar        NA  Mariana Oliveira Souza  1892.41   \n",
      "2             2     Alucar        NA      João Henrique Lima  2600.22   \n",
      "3             3     Alucar        NA        Ana Paula Santos  1756.23   \n",
      "4             4     Alucar        NA   Aluguel de escritório  1800.00   \n",
      "..          ...        ...       ...                     ...      ...   \n",
      "415         415  Consigcar        NA              Google Ads  6215.43   \n",
      "416         416  Consigcar        NA                Meta Ads  1973.50   \n",
      "417         417  Consigcar        NA            LinkedIn Ads  4890.22   \n",
      "418         418  Consigcar        NA                     CRM  2658.90   \n",
      "419         419  Consigcar        NA             Landin page  5340.10   \n",
      "\n",
      "      id_data  \n",
      "0    20250101  \n",
      "1    20250101  \n",
      "2    20250101  \n",
      "3    20250101  \n",
      "4    20250101  \n",
      "..        ...  \n",
      "415  20251201  \n",
      "416  20251201  \n",
      "417  20251201  \n",
      "418  20251201  \n",
      "419  20251201  \n",
      "\n",
      "[420 rows x 6 columns]\n"
     ]
    }
   ],
   "source": [
    "# 5) Verificação fato_despesas\n",
    "query_s5 = \"\"\"\n",
    "SELECT * FROM fato_despesas;\n",
    "\"\"\"\n",
    "df_s5 = pd.read_sql(query_s5, engine)\n",
    "print(\"\\nfato_despesas:\")\n",
    "print(df_s5)"
   ]
  },
  {
   "cell_type": "code",
   "execution_count": 12,
   "id": "1927e19e",
   "metadata": {},
   "outputs": [
    {
     "name": "stdout",
     "output_type": "stream",
     "text": [
      "\n",
      "fato_vendas_alucar:\n",
      "    id_venda_alucar  id_cliente   id_data  valor_venda\n",
      "0                 1         207  20250102       1432.0\n",
      "1                 2         208  20250103       4189.0\n",
      "2                 3         209  20250106        118.0\n",
      "3                 4         210  20250107       2756.0\n",
      "4                 5         211  20250109       4631.0\n",
      "5                 6         212  20250110        982.0\n",
      "6                 7         213  20250113       1911.0\n",
      "7                 8         214  20250114       3678.0\n",
      "8                 9         215  20250116       2198.0\n",
      "9                10         216  20250120        149.0\n",
      "10               11         217  20250121       4211.0\n",
      "11               12         218  20250125       2891.0\n",
      "12               13         219  20250127       1734.0\n",
      "13               14         220  20250127       3982.0\n",
      "14               15         221  20250127        654.0\n",
      "15               16         222  20250131       2357.0\n",
      "16               17         223  20250131       4819.0\n",
      "17               18         224  20250131       1278.0\n",
      "18               19         225  20250131       3491.0\n",
      "19               20         226  20250131       1987.0\n",
      "20               21         227  20250131       4673.0\n",
      "21               22         228  20250201        823.0\n"
     ]
    }
   ],
   "source": [
    "# 6) Verificação fato_vendas_alucar\n",
    "query_s6 = \"\"\"\n",
    "SELECT * FROM fato_vendas_alucar\n",
    "LIMIT 22;\n",
    "\"\"\"\n",
    "df_s6 = pd.read_sql(query_s6, engine)\n",
    "print(\"\\nfato_vendas_alucar:\")\n",
    "print(df_s6)"
   ]
  },
  {
   "cell_type": "code",
   "execution_count": 13,
   "id": "bcb41fbd",
   "metadata": {},
   "outputs": [
    {
     "name": "stdout",
     "output_type": "stream",
     "text": [
      "\n",
      "fato_vendas_consigcar:\n",
      "   id_venda_consigcar  id_cliente tipo_produto  id_vendedor  num_parcelas  \\\n",
      "0                   1           0     Completa            0            18   \n",
      "1                   2           1     Completa            0             6   \n",
      "2                   3           2     Completa            0            18   \n",
      "3                   4           3     Completa            0            18   \n",
      "4                   5           4     Completa            0             6   \n",
      "5                   6           5     Completa            0             6   \n",
      "6                   7           6     Completa            1            12   \n",
      "7                   8           7     Completa            0            18   \n",
      "8                   9           8     Completa            1             6   \n",
      "9                  10           9     Completa            1             6   \n",
      "\n",
      "   valor_parcela  valor_total  data_primeira_parcela  data_ultima_parcela  \n",
      "0        1834.66     33023.88               20241111             20260411  \n",
      "1         641.33      3847.98               20241122             20250422  \n",
      "2        1879.30     33827.40               20241118             20260418  \n",
      "3        1831.83     32972.94               20241022             20260322  \n",
      "4         645.73      3874.38               20241020             20250320  \n",
      "5         638.48      3830.88               20241101             20250401  \n",
      "6        1239.66     14875.92               20241001             20250901  \n",
      "7        1834.00     33012.00               20241007             20260307  \n",
      "8         648.10      3888.60               20241106             20250406  \n",
      "9         625.15      3750.90               20241109             20250409  \n",
      "\n",
      "Formatos das colunas:\n",
      "\n",
      "dim_vendedor:\n",
      "id_vendedor       int64\n",
      "nome_vendedor    object\n",
      "dtype: object\n",
      "\n",
      "fato_despesas:\n",
      "id_despesa        int64\n",
      "origem           object\n",
      "categoria        object\n",
      "nome_despesa     object\n",
      "valor           float64\n",
      "id_data           int64\n",
      "dtype: object\n",
      "\n",
      "fato_vendas_alucar:\n",
      "id_venda_alucar      int64\n",
      "id_cliente           int64\n",
      "id_data              int64\n",
      "valor_venda        float64\n",
      "dtype: object\n",
      "\n",
      "fato_vendas_consigcar:\n",
      "id_venda_consigcar         int64\n",
      "id_cliente                 int64\n",
      "tipo_produto              object\n",
      "id_vendedor                int64\n",
      "num_parcelas               int64\n",
      "valor_parcela            float64\n",
      "valor_total              float64\n",
      "data_primeira_parcela      int64\n",
      "data_ultima_parcela        int64\n",
      "dtype: object\n"
     ]
    }
   ],
   "source": [
    "# 7) Verificação fato_vendas_consigcar\n",
    "query_s7 = \"\"\"\n",
    "SELECT * FROM fato_vendas_consigcar\n",
    "LIMIT 10;\n",
    "\"\"\"\n",
    "df_s7 = pd.read_sql(query_s7, engine)\n",
    "print(\"\\nfato_vendas_consigcar:\")\n",
    "print(df_s7)\n",
    "\n",
    "# Verificação formatos das colunas\n",
    "# Formato mais elegante para verificar tipos de colunas\n",
    "tables = {\n",
    "    \"dim_vendedor\": df_s4,\n",
    "    \"fato_despesas\": df_s5, \n",
    "    \"fato_vendas_alucar\": df_s6,\n",
    "    \"fato_vendas_consigcar\": df_s7\n",
    "}\n",
    "\n",
    "print(\"\\nFormatos das colunas:\")\n",
    "for name, df in tables.items():\n",
    "    print(f\"\\n{name}:\")\n",
    "    print(df.dtypes)\n",
    "\n"
   ]
  },
  {
   "cell_type": "code",
   "execution_count": 14,
   "id": "8e1beaf3",
   "metadata": {},
   "outputs": [
    {
     "name": "stdout",
     "output_type": "stream",
     "text": [
      "\n",
      "fato_vendas_diaria_vendedor:\n",
      "   id_vendedor   id_data  total_vendas  valor_total nome_vendedor  mes  \\\n",
      "0            0  20241007             1     33012.00        Thiago   10   \n",
      "1            0  20241020             1      3874.38        Thiago   10   \n",
      "2            0  20241022             1     32972.94        Thiago   10   \n",
      "3            0  20241101             1      3830.88        Thiago   11   \n",
      "4            0  20241111             1     33023.88        Thiago   11   \n",
      "5            0  20241118             1     33827.40        Thiago   11   \n",
      "6            0  20241122             2     18671.58        Thiago   11   \n",
      "7            0  20241206             1     14894.40        Thiago   12   \n",
      "8            0  20250114             1     14857.08        Thiago    1   \n",
      "9            0  20250115             1     15342.00        Thiago    1   \n",
      "\n",
      "   nome_mes  \n",
      "0   outubro  \n",
      "1   outubro  \n",
      "2   outubro  \n",
      "3  novembro  \n",
      "4  novembro  \n",
      "5  novembro  \n",
      "6  novembro  \n",
      "7  dezembro  \n",
      "8   janeiro  \n",
      "9   janeiro  \n"
     ]
    }
   ],
   "source": [
    "# 9) Verificação fato_vendas_diarias_vendedor\n",
    "query_s9 = \"\"\"\n",
    "SELECT f.*, v.nome_vendedor, t.mes, t.nome_mes\n",
    "FROM fato_vendas_diaria_vendedor f\n",
    "JOIN dim_vendedor v ON f.id_vendedor = v.id_vendedor\n",
    "JOIN dim_tempo t ON f.id_data = t.id_data\n",
    "LIMIT 10;\n",
    "\"\"\"\n",
    "df_s9 = pd.read_sql(query_s9, engine)\n",
    "print(\"\\nfato_vendas_diaria_vendedor:\")\n",
    "print(df_s9)"
   ]
  },
  {
   "cell_type": "code",
   "execution_count": 15,
   "id": "db5e1ca7",
   "metadata": {},
   "outputs": [
    {
     "name": "stdout",
     "output_type": "stream",
     "text": [
      "\n",
      "dim_pagamentos_programados:\n",
      "    id_venda_consigcar    valor   id_data\n",
      "0                    1  1834.66  20241111\n",
      "1                    1  1834.66  20241211\n",
      "2                    1  1834.66  20250111\n",
      "3                    1  1834.66  20250211\n",
      "4                    1  1834.66  20250311\n",
      "5                    1  1834.66  20250411\n",
      "6                    1  1834.66  20250511\n",
      "7                    1  1834.66  20250611\n",
      "8                    1  1834.66  20250711\n",
      "9                    1  1834.66  20250811\n",
      "10                   1  1834.66  20250911\n",
      "11                   1  1834.66  20251011\n",
      "12                   1  1834.66  20251111\n",
      "13                   1  1834.66  20251211\n",
      "14                   1  1834.66  20260111\n",
      "15                   1  1834.66  20260211\n",
      "16                   1  1834.66  20260311\n",
      "17                   1  1834.66  20260411\n",
      "18                   2   641.33  20241122\n",
      "19                   2   641.33  20241222\n",
      "20                   2   641.33  20250122\n",
      "21                   2   641.33  20250222\n",
      "22                   2   641.33  20250322\n",
      "23                   2   641.33  20250422\n",
      "24                   3  1879.30  20241118\n"
     ]
    }
   ],
   "source": [
    "# 10) Verificação dim_pagamentos_programados\n",
    "query_s10 = \"\"\"\n",
    "SELECT * FROM dim_pagamentos_programados\n",
    "LIMIT 25;\n",
    "\"\"\"\n",
    "df_s10 = pd.read_sql(query_s10, engine)\n",
    "print(\"\\ndim_pagamentos_programados:\")\n",
    "print(df_s10.head(25))\n"
   ]
  }
 ],
 "metadata": {
  "kernelspec": {
   "display_name": ".venv",
   "language": "python",
   "name": "python3"
  },
  "language_info": {
   "codemirror_mode": {
    "name": "ipython",
    "version": 3
   },
   "file_extension": ".py",
   "mimetype": "text/x-python",
   "name": "python",
   "nbconvert_exporter": "python",
   "pygments_lexer": "ipython3",
   "version": "3.13.2"
  }
 },
 "nbformat": 4,
 "nbformat_minor": 5
}
