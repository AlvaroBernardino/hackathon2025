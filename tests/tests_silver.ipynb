{
 "cells": [
  {
   "cell_type": "code",
   "execution_count": 1,
   "metadata": {},
   "outputs": [],
   "source": [
    "# Bibliotecas\n",
    "import pandas as pd\n",
    "from sqlalchemy import create_engine, inspect, text, DDL"
   ]
  },
  {
   "cell_type": "code",
   "execution_count": 2,
   "metadata": {},
   "outputs": [],
   "source": [
    "# Conexão com o banco de dados\n",
    "db_path_silver = \"../database/silver/01_silver.db\"\n",
    "engine = create_engine(f\"sqlite:///{db_path_silver}\")"
   ]
  },
  {
   "cell_type": "code",
   "execution_count": null,
   "id": "0754778d",
   "metadata": {},
   "outputs": [],
   "source": [
    "# 1) Verificação dim_cliente\n",
    "query_s1 = \"\"\"\n",
    "SELECT * FROM dim_cliente \n",
    "LIMIT 10;\n",
    "\"\"\"\n",
    "df_s1 = pd.read_sql(query_s1, engine)\n",
    "print(\"dim_cliente:\")\n",
    "print(df_s1)\n",
    "\n",
    "# 1.2) Verificação dos tipos de dados dim_cliente\n",
    "print(\"\\nTipos de dados dim_cliente:\")\n",
    "for col in df_s1.columns:\n",
    "    print(f\"{col}: {df_s1[col].dtype}\")\n",
    "\n"
   ]
  },
  {
   "cell_type": "code",
   "execution_count": null,
   "id": "0c9cee17",
   "metadata": {},
   "outputs": [],
   "source": [
    "# 2) Verificação fato_faturamento_pagseguro\n",
    "query_s2 = \"\"\"\n",
    "SELECT * FROM fato_faturamento_pagseguro\n",
    "LIMIT 12;\n",
    "\"\"\"\n",
    "df_s2 = pd.read_sql(query_s2, engine)\n",
    "print(\"\\nfato_faturamento_pagseguro:\")\n",
    "print(df_s2)\n",
    "\n",
    "# 2.1) Verificação dos tipos de dados fato_faturamento_pagseguro\n",
    "print(\"\\nTipos de dados fato_faturamento_pagseguro:\")\n",
    "for col in df_s2.columns:\n",
    "    print(f\"{col}: {df_s2[col].dtype}\")\n",
    "\n"
   ]
  },
  {
   "cell_type": "code",
   "execution_count": null,
   "id": "baf462c9",
   "metadata": {},
   "outputs": [],
   "source": [
    "# 3) Verificação dim_tempo\n",
    "query_s3 = \"\"\"\n",
    "SELECT * FROM dim_tempo\n",
    "LIMIT 10;\n",
    "\"\"\"\n",
    "df_s3 = pd.read_sql(query_s3, engine)\n",
    "print(\"\\ndim_tempo:\")\n",
    "print(df_s3)\n"
   ]
  },
  {
   "cell_type": "code",
   "execution_count": null,
   "id": "4dbea683",
   "metadata": {},
   "outputs": [],
   "source": [
    "# 3.2) Verificação linhas do trimestre 2\n",
    "query_s3_2 = \"\"\"\n",
    "SELECT * FROM dim_tempo \n",
    "WHERE trimestre = 2\n",
    "LIMIT 10;\n",
    "\"\"\"\n",
    "df_s3_2 = pd.read_sql(query_s3_2, engine)\n",
    "print(\"\\ndim_tempo (trimestre 2):\")\n",
    "print(df_s3_2)\n"
   ]
  },
  {
   "cell_type": "code",
   "execution_count": null,
   "id": "2ffd4c21",
   "metadata": {},
   "outputs": [],
   "source": [
    "# 3.3) Verificação linhas do trimestre 3\n",
    "query_s3_3 = \"\"\"\n",
    "SELECT * FROM dim_tempo \n",
    "WHERE trimestre = 3\n",
    "LIMIT 10;\n",
    "\"\"\"\n",
    "df_s3_3 = pd.read_sql(query_s3_3, engine)\n",
    "print(\"\\ndim_tempo (trimestre 3):\")\n",
    "print(df_s3_3)"
   ]
  },
  {
   "cell_type": "code",
   "execution_count": null,
   "id": "142e7893",
   "metadata": {},
   "outputs": [],
   "source": [
    "\n",
    "# 3.4) Verificação linhas de agosto\n",
    "query_s3_4 = \"\"\"\n",
    "SELECT * FROM dim_tempo \n",
    "WHERE nome_mes = 'agosto'\n",
    "LIMIT 10;\n",
    "\"\"\"\n",
    "df_s3_4 = pd.read_sql(query_s3_4, engine)\n",
    "print(\"\\ndim_tempo (agosto):\")\n",
    "print(df_s3_4)\n",
    "\n"
   ]
  },
  {
   "cell_type": "code",
   "execution_count": null,
   "id": "7323e9e9",
   "metadata": {},
   "outputs": [],
   "source": [
    "# 4) Verificação dim_vendedor\n",
    "query_s4 = \"\"\"\n",
    "SELECT * FROM dim_vendedor\n",
    "LIMIT 10;\n",
    "\"\"\"\n",
    "df_s4 = pd.read_sql(query_s4, engine)\n",
    "print(\"\\ndim_vendedor:\")\n",
    "print(df_s4)"
   ]
  },
  {
   "cell_type": "code",
   "execution_count": null,
   "id": "d430c409",
   "metadata": {},
   "outputs": [],
   "source": [
    "# 5) Verificação fato_despesas\n",
    "query_s5 = \"\"\"\n",
    "SELECT * FROM fato_despesas;\n",
    "\"\"\"\n",
    "df_s5 = pd.read_sql(query_s5, engine)\n",
    "print(\"\\nfato_despesas:\")\n",
    "print(df_s5)"
   ]
  },
  {
   "cell_type": "code",
   "execution_count": null,
   "id": "1927e19e",
   "metadata": {},
   "outputs": [],
   "source": [
    "# 6) Verificação fato_vendas_alucar\n",
    "query_s6 = \"\"\"\n",
    "SELECT * FROM fato_vendas_alucar\n",
    "LIMIT 22;\n",
    "\"\"\"\n",
    "df_s6 = pd.read_sql(query_s6, engine)\n",
    "print(\"\\nfato_vendas_alucar:\")\n",
    "print(df_s6)"
   ]
  },
  {
   "cell_type": "code",
   "execution_count": null,
   "id": "bcb41fbd",
   "metadata": {},
   "outputs": [],
   "source": [
    "# 7) Verificação fato_vendas_consigcar\n",
    "query_s7 = \"\"\"\n",
    "SELECT * FROM fato_vendas_consigcar\n",
    "LIMIT 10;\n",
    "\"\"\"\n",
    "df_s7 = pd.read_sql(query_s7, engine)\n",
    "print(\"\\nfato_vendas_consigcar:\")\n",
    "print(df_s7)\n",
    "\n",
    "# Verificação formatos das colunas\n",
    "# Formato mais elegante para verificar tipos de colunas\n",
    "tables = {\n",
    "    \"dim_vendedor\": df_s4,\n",
    "    \"fato_despesas\": df_s5, \n",
    "    \"fato_vendas_alucar\": df_s6,\n",
    "    \"fato_vendas_consigcar\": df_s7\n",
    "}\n",
    "\n",
    "print(\"\\nFormatos das colunas:\")\n",
    "for name, df in tables.items():\n",
    "    print(f\"\\n{name}:\")\n",
    "    print(df.dtypes)\n",
    "\n"
   ]
  },
  {
   "cell_type": "code",
   "execution_count": null,
   "id": "8e1beaf3",
   "metadata": {},
   "outputs": [],
   "source": [
    "# 9) Verificação fato_vendas_diarias_vendedor\n",
    "query_s9 = \"\"\"\n",
    "SELECT f.*, v.nome_vendedor, t.mes, t.nome_mes\n",
    "FROM fato_vendas_diaria_vendedor f\n",
    "JOIN dim_vendedor v ON f.id_vendedor = v.id_vendedor\n",
    "JOIN dim_tempo t ON f.id_data = t.id_data\n",
    "LIMIT 10;\n",
    "\"\"\"\n",
    "df_s9 = pd.read_sql(query_s9, engine)\n",
    "print(\"\\nfato_vendas_diaria_vendedor:\")\n",
    "print(df_s9)"
   ]
  },
  {
   "cell_type": "code",
   "execution_count": null,
   "id": "db5e1ca7",
   "metadata": {},
   "outputs": [],
   "source": [
    "# 10) Verificação dim_pagamentos_programados\n",
    "query_s10 = \"\"\"\n",
    "SELECT * FROM dim_pagamentos_programados\n",
    "LIMIT 25;\n",
    "\"\"\"\n",
    "df_s10 = pd.read_sql(query_s10, engine)\n",
    "print(\"\\ndim_pagamentos_programados:\")\n",
    "print(df_s10.head(25))\n"
   ]
  },
  {
   "cell_type": "code",
   "execution_count": null,
   "id": "560c6ca5",
   "metadata": {},
   "outputs": [],
   "source": [
    "# 11) Verificação fato_vendas_clientes_alucar_estimativa\n",
    "query_s11 = \"\"\"\n",
    "SELECT * FROM fato_vendas_clientes_alucar_estimativa\n",
    "LIMIT 10;\n",
    "\"\"\"\n",
    "df_s11 = pd.read_sql(query_s11, engine)\n",
    "print(\"\\nfato_vendas_clientes_alucar_estimativa:\")\n",
    "print(df_s11)\n",
    "\n",
    "# Verificação dos tipos de dados\n",
    "print(\"\\nTipos de dados:\")\n",
    "print(df_s11.dtypes)\n"
   ]
  },
  {
   "cell_type": "code",
   "execution_count": 16,
   "id": "a10f539a",
   "metadata": {},
   "outputs": [
    {
     "name": "stdout",
     "output_type": "stream",
     "text": [
      "\n",
      "fato_consigcar_estimativa:\n",
      "    id_data  valor_receita_estimativa\n",
      "0  20250101                  35918.27\n",
      "1  20250102                  51472.94\n",
      "2  20250103                  34994.22\n",
      "3  20250104                  48182.77\n",
      "4  20250105                  41348.00\n",
      "5  20250106                  50000.00\n",
      "6  20250107                  59000.00\n",
      "7  20250108                  68000.00\n",
      "8  20250109                  77000.00\n",
      "9  20250110                  86000.00\n",
      "\n",
      "Tipos de dados:\n",
      "id_data                       int64\n",
      "valor_receita_estimativa    float64\n",
      "dtype: object\n"
     ]
    }
   ],
   "source": [
    "# 12) Verificação fato_consigcar_estimativa\n",
    "query_s12 = \"\"\"\n",
    "SELECT * FROM fato_consigcar_estimativa\n",
    "LIMIT 10;\n",
    "\"\"\"\n",
    "df_s12 = pd.read_sql(query_s12, engine)\n",
    "print(\"\\nfato_consigcar_estimativa:\")\n",
    "print(df_s12)\n",
    "\n",
    "# Verificação dos tipos de dados\n",
    "print(\"\\nTipos de dados:\")\n",
    "print(df_s12.dtypes)\n"
   ]
  }
 ],
 "metadata": {
  "kernelspec": {
   "display_name": ".venv",
   "language": "python",
   "name": "python3"
  },
  "language_info": {
   "codemirror_mode": {
    "name": "ipython",
    "version": 3
   },
   "file_extension": ".py",
   "mimetype": "text/x-python",
   "name": "python",
   "nbconvert_exporter": "python",
   "pygments_lexer": "ipython3",
   "version": "3.13.2"
  }
 },
 "nbformat": 4,
 "nbformat_minor": 5
}
