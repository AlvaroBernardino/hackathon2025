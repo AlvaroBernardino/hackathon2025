{
 "cells": [
  {
   "cell_type": "code",
   "execution_count": 3,
   "metadata": {},
   "outputs": [
    {
     "name": "stdout",
     "output_type": "stream",
     "text": [
      "Converted 00_extract_bronze.ipynb to 00_extract_bronze.py (overwritten if existed)\n",
      "Converted 01_tranform_silver.ipynb to 01_tranform_silver.py (overwritten if existed)\n",
      "Converted 02_load_gold.ipynb to 02_load_gold.py (overwritten if existed)\n",
      "Converted convert.ipynb to convert.py (overwritten if existed)\n"
     ]
    }
   ],
   "source": [
    "import os\n",
    "import nbformat\n",
    "from nbconvert import PythonExporter\n",
    "\n",
    "def convert_notebooks_to_scripts():\n",
    "    # Get all .ipynb files in current directory\n",
    "    notebooks = [f for f in os.listdir('.') if f.endswith('.ipynb')]\n",
    "    \n",
    "    # Get the current notebook name (works in Jupyter)\n",
    "    current_notebook = os.environ.get('JPY_SESSION_NAME', '')\n",
    "    if current_notebook:\n",
    "        notebooks = [f for f in notebooks if f != current_notebook]\n",
    "    \n",
    "    for notebook in notebooks:\n",
    "        # Read notebook\n",
    "        with open(notebook, 'r', encoding='utf-8') as f:\n",
    "            nb = nbformat.read(f, as_version=4)\n",
    "            \n",
    "        # Convert to python script\n",
    "        exporter = PythonExporter()\n",
    "        script, _ = exporter.from_notebook_node(nb)\n",
    "        \n",
    "        # Write python script (will overwrite if exists)\n",
    "        py_filename = notebook.replace('.ipynb', '.py')\n",
    "        with open(py_filename, 'w', encoding='utf-8') as f:\n",
    "            f.write(script)\n",
    "            \n",
    "        print(f\"Converted {notebook} to {py_filename} (overwritten if existed)\")\n",
    "\n",
    "if __name__ == '__main__':\n",
    "    convert_notebooks_to_scripts()\n"
   ]
  }
 ],
 "metadata": {
  "kernelspec": {
   "display_name": ".venv",
   "language": "python",
   "name": "python3"
  },
  "language_info": {
   "codemirror_mode": {
    "name": "ipython",
    "version": 3
   },
   "file_extension": ".py",
   "mimetype": "text/x-python",
   "name": "python",
   "nbconvert_exporter": "python",
   "pygments_lexer": "ipython3",
   "version": "3.13.2"
  }
 },
 "nbformat": 4,
 "nbformat_minor": 2
}
