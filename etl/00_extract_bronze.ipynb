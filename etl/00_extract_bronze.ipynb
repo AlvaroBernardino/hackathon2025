{
 "cells": [
  {
   "cell_type": "markdown",
   "id": "e41d36d6-6e5f-41aa-93d2-a4e38072a5d1",
   "metadata": {
    "microsoft": {
     "language": "python",
     "language_group": "synapse_pyspark"
    },
    "nteract": {
     "transient": {
      "deleting": false
     }
    }
   },
   "source": [
    "## Importando Bibliotecas"
   ]
  },
  {
   "cell_type": "code",
   "execution_count": 12,
   "id": "da528f74-c80d-4508-914e-676fa48a0e5d",
   "metadata": {
    "microsoft": {
     "language": "python",
     "language_group": "synapse_pyspark"
    }
   },
   "outputs": [
    {
     "data": {
      "application/vnd.livy.statement-meta+json": {
       "execution_finish_time": "2025-06-12T18:00:38.0414872Z",
       "execution_start_time": "2025-06-12T18:00:37.6905774Z",
       "livy_statement_state": "available",
       "normalized_state": "finished",
       "parent_msg_id": "12083b08-2712-4242-8d02-cdf16a136cd2",
       "queued_time": "2025-06-12T18:00:37.6893949Z",
       "session_id": "6a815165-26f0-48f5-9e14-a4fc5dd00115",
       "session_start_time": null,
       "spark_pool": null,
       "state": "finished",
       "statement_id": 14,
       "statement_ids": [
        14
       ]
      },
      "text/plain": [
       "StatementMeta(, 6a815165-26f0-48f5-9e14-a4fc5dd00115, 14, Finished, Available, Finished)"
      ]
     },
     "metadata": {},
     "output_type": "display_data"
    }
   ],
   "source": [
    "import pandas as pd\n",
    "import os\n",
    "from io import BytesIO\n",
    "import requests"
   ]
  },
  {
   "cell_type": "markdown",
   "id": "f4a7bfa7-5058-4e85-9bb3-6815e70088d9",
   "metadata": {
    "microsoft": {
     "language": "python",
     "language_group": "synapse_pyspark"
    },
    "nteract": {
     "transient": {
      "deleting": false
     }
    }
   },
   "source": [
    "## Funções"
   ]
  },
  {
   "cell_type": "markdown",
   "id": "98619640-ed10-4780-b79e-e5473c98c1ef",
   "metadata": {
    "microsoft": {
     "language": "python",
     "language_group": "synapse_pyspark"
    },
    "nteract": {
     "transient": {
      "deleting": false
     }
    }
   },
   "source": [
    "#### Função para editar dataframe"
   ]
  },
  {
   "cell_type": "code",
   "execution_count": 13,
   "id": "7c0f3a29-fc7e-4fa6-80cd-40cf384fd742",
   "metadata": {
    "microsoft": {
     "language": "python",
     "language_group": "synapse_pyspark"
    }
   },
   "outputs": [
    {
     "data": {
      "application/vnd.livy.statement-meta+json": {
       "execution_finish_time": "2025-06-12T18:00:41.0023811Z",
       "execution_start_time": "2025-06-12T18:00:40.7218454Z",
       "livy_statement_state": "available",
       "normalized_state": "finished",
       "parent_msg_id": "8a0bb1ff-9025-4c34-ad20-b8f35667dfb6",
       "queued_time": "2025-06-12T18:00:40.7206267Z",
       "session_id": "6a815165-26f0-48f5-9e14-a4fc5dd00115",
       "session_start_time": null,
       "spark_pool": null,
       "state": "finished",
       "statement_id": 15,
       "statement_ids": [
        15
       ]
      },
      "text/plain": [
       "StatementMeta(, 6a815165-26f0-48f5-9e14-a4fc5dd00115, 15, Finished, Available, Finished)"
      ]
     },
     "metadata": {},
     "output_type": "display_data"
    }
   ],
   "source": [
    "def edit_sheet(df):\n",
    "    df = df.loc[:, ~df.columns.str.contains('^Unnamed')]  \n",
    "    df.columns = df.columns.str.replace('\\n', '_', regex=True)\n",
    "    df.columns = df.columns.str.replace(' ', '_', regex=True)\n",
    "    return df"
   ]
  },
  {
   "cell_type": "markdown",
   "id": "542003c9-f5d6-4323-b026-c35a81098d98",
   "metadata": {
    "microsoft": {
     "language": "python",
     "language_group": "synapse_pyspark"
    },
    "nteract": {
     "transient": {
      "deleting": false
     }
    }
   },
   "source": [
    "#### Função para salvar dataframe em parquet no lakehouse"
   ]
  },
  {
   "cell_type": "code",
   "execution_count": 3,
   "id": "6515cad4-9a2d-406f-810e-a0c2bd6ddc9c",
   "metadata": {
    "microsoft": {
     "language": "python",
     "language_group": "synapse_pyspark"
    }
   },
   "outputs": [
    {
     "data": {
      "application/vnd.livy.statement-meta+json": {
       "execution_finish_time": "2025-06-12T17:42:58.388646Z",
       "execution_start_time": "2025-06-12T17:42:58.0563662Z",
       "livy_statement_state": "available",
       "normalized_state": "finished",
       "parent_msg_id": "d2dc4647-4734-48e7-a17b-5c12a048a18f",
       "queued_time": "2025-06-12T17:42:58.0551519Z",
       "session_id": "6a815165-26f0-48f5-9e14-a4fc5dd00115",
       "session_start_time": null,
       "spark_pool": null,
       "state": "finished",
       "statement_id": 5,
       "statement_ids": [
        5
       ]
      },
      "text/plain": [
       "StatementMeta(, 6a815165-26f0-48f5-9e14-a4fc5dd00115, 5, Finished, Available, Finished)"
      ]
     },
     "metadata": {},
     "output_type": "display_data"
    }
   ],
   "source": [
    "def save_to_lake(df, path, filename):\n",
    "    full_path = f\"{path}{filename}\"\n",
    "    df.to_parquet(full_path, index=False)\n",
    "    print(f\"Salvo em: {full_path}\")"
   ]
  },
  {
   "cell_type": "markdown",
   "id": "337ea55a-2d05-4530-a338-c6feca4affdc",
   "metadata": {
    "microsoft": {
     "language": "python",
     "language_group": "synapse_pyspark"
    },
    "nteract": {
     "transient": {
      "deleting": false
     }
    }
   },
   "source": [
    "#### Função para converter data"
   ]
  },
  {
   "cell_type": "code",
   "execution_count": 4,
   "id": "0a409c3f-7c52-4281-b4ea-100a4f6d6c93",
   "metadata": {
    "microsoft": {
     "language": "python",
     "language_group": "synapse_pyspark"
    }
   },
   "outputs": [
    {
     "data": {
      "application/vnd.livy.statement-meta+json": {
       "execution_finish_time": "2025-06-12T17:43:00.1907611Z",
       "execution_start_time": "2025-06-12T17:42:59.8714199Z",
       "livy_statement_state": "available",
       "normalized_state": "finished",
       "parent_msg_id": "0658af97-f0e3-4cda-8a33-b794ffe5977a",
       "queued_time": "2025-06-12T17:42:59.8701517Z",
       "session_id": "6a815165-26f0-48f5-9e14-a4fc5dd00115",
       "session_start_time": null,
       "spark_pool": null,
       "state": "finished",
       "statement_id": 6,
       "statement_ids": [
        6
       ]
      },
      "text/plain": [
       "StatementMeta(, 6a815165-26f0-48f5-9e14-a4fc5dd00115, 6, Finished, Available, Finished)"
      ]
     },
     "metadata": {},
     "output_type": "display_data"
    }
   ],
   "source": [
    "def convert_iddata(df, col_name):\n",
    "    return pd.to_datetime(df[col_name], format=\"%Y%m%d\").dt.strftime(\"%Y%m%d\").astype(\"Int64\")"
   ]
  },
  {
   "cell_type": "markdown",
   "id": "6d8f2c2b-de35-4161-a688-7247a5701531",
   "metadata": {
    "microsoft": {
     "language": "python",
     "language_group": "synapse_pyspark"
    },
    "nteract": {
     "transient": {
      "deleting": false
     }
    }
   },
   "source": [
    "#### Função para salvar em tabela delta"
   ]
  },
  {
   "cell_type": "code",
   "execution_count": 5,
   "id": "d9159c68-d31d-44b3-af27-fc50ced64bf3",
   "metadata": {
    "microsoft": {
     "language": "python",
     "language_group": "synapse_pyspark"
    }
   },
   "outputs": [
    {
     "data": {
      "application/vnd.livy.statement-meta+json": {
       "execution_finish_time": "2025-06-12T17:43:03.3166207Z",
       "execution_start_time": "2025-06-12T17:43:03.0370855Z",
       "livy_statement_state": "available",
       "normalized_state": "finished",
       "parent_msg_id": "eb214ee1-d6eb-4c99-a791-1b965653c607",
       "queued_time": "2025-06-12T17:43:03.0357033Z",
       "session_id": "6a815165-26f0-48f5-9e14-a4fc5dd00115",
       "session_start_time": null,
       "spark_pool": null,
       "state": "finished",
       "statement_id": 7,
       "statement_ids": [
        7
       ]
      },
      "text/plain": [
       "StatementMeta(, 6a815165-26f0-48f5-9e14-a4fc5dd00115, 7, Finished, Available, Finished)"
      ]
     },
     "metadata": {},
     "output_type": "display_data"
    }
   ],
   "source": [
    "def convert_delta(df, nome):\n",
    "    # Converter para Spark\n",
    "    df_spark = spark.createDataFrame(df)\n",
    "\n",
    "    # Substitui caracteres inválidos nos nomes das colunas\n",
    "    invalid_chars = [' ', ',', ';', '{', '}', '(', ')', '\\n', '\\t', '=']\n",
    "    for char in invalid_chars:\n",
    "        df_spark = df_spark.toDF(*[col.replace(char, \"_\") for col in df_spark.columns])\n",
    "\n",
    "    # Salvar como tabela Delta no Lakehouse\n",
    "    df_spark.write.mode(\"overwrite\").format(\"delta\").saveAsTable(nome)"
   ]
  },
  {
   "cell_type": "markdown",
   "id": "98c7149f-745e-46de-985a-0c76c7d15361",
   "metadata": {
    "microsoft": {
     "language": "python",
     "language_group": "synapse_pyspark"
    },
    "nteract": {
     "transient": {
      "deleting": false
     }
    }
   },
   "source": [
    "## Parâmetros"
   ]
  },
  {
   "cell_type": "code",
   "execution_count": 6,
   "id": "41965d2a-8e82-4bad-ad9a-93381124d008",
   "metadata": {
    "microsoft": {
     "language": "python",
     "language_group": "synapse_pyspark"
    }
   },
   "outputs": [
    {
     "data": {
      "application/vnd.livy.statement-meta+json": {
       "execution_finish_time": "2025-06-12T17:43:05.7313093Z",
       "execution_start_time": "2025-06-12T17:43:05.3977766Z",
       "livy_statement_state": "available",
       "normalized_state": "finished",
       "parent_msg_id": "6cb6010a-e41d-4883-9e1c-b72bed37008c",
       "queued_time": "2025-06-12T17:43:05.3966558Z",
       "session_id": "6a815165-26f0-48f5-9e14-a4fc5dd00115",
       "session_start_time": null,
       "spark_pool": null,
       "state": "finished",
       "statement_id": 8,
       "statement_ids": [
        8
       ]
      },
      "text/plain": [
       "StatementMeta(, 6a815165-26f0-48f5-9e14-a4fc5dd00115, 8, Finished, Available, Finished)"
      ]
     },
     "metadata": {},
     "output_type": "display_data"
    }
   ],
   "source": [
    "base1 = {\n",
    "    \"sheet_id\": \"1cucnW4yVosO5n5BFgwXYv6rVy8yj6NTasM83RTCMOug\",\n",
    "    \"gid_receita\": \"373473243\",\n",
    "    \"gid_despesas\": \"1859279676\",\n",
    "    \"gid_PLR\": \"835809915\",\n",
    "    \"encoding\": \"utf-8\",\n",
    "    \"lake_path\": \"abfss://Hackathon_Emprega_Dados@onelake.dfs.fabric.microsoft.com/lakehouse_vendas.Lakehouse/Files/bronze/\",  # Substituir pelo caminho correto no lake\n",
    "    \"dbml_path\": \"lakehouse://File/bronze/base1.dbml\",  # Se quiser salvar dbml no lake\n",
    "}\n",
    "\n",
    "base2 = {\n",
    "    \"url\": \"https://empregadados-my.sharepoint.com/personal/bianca_empregadados_com_br/_layouts/15/download.aspx?share=EZYutqfo5ldNhDw2lMYRxrIBnpPI6c7OTjBBS_F5yz860Q\",\n",
    "    \"lake_path\": \"abfss://Hackathon_Emprega_Dados@onelake.dfs.fabric.microsoft.com/lakehouse_vendas.Lakehouse/Files/bronze/\",\n",
    "    \"dbml_path\": \"lakehouse://path_to_your_modeling/base2.dbml\",\n",
    "    \"encoding\": \"utf-8\",\n",
    "}\n"
   ]
  },
  {
   "cell_type": "markdown",
   "id": "99b55ec1-650e-49d3-a127-08cd9036de8c",
   "metadata": {
    "microsoft": {
     "language": "python",
     "language_group": "synapse_pyspark"
    },
    "nteract": {
     "transient": {
      "deleting": false
     }
    }
   },
   "source": [
    "## Extração Base 1 - Receita"
   ]
  },
  {
   "cell_type": "code",
   "execution_count": 7,
   "id": "a4ba4e1b-fa05-404b-a614-83e00e13e312",
   "metadata": {
    "microsoft": {
     "language": "python",
     "language_group": "synapse_pyspark"
    }
   },
   "outputs": [
    {
     "data": {
      "application/vnd.livy.statement-meta+json": {
       "execution_finish_time": "2025-06-12T17:43:57.4993108Z",
       "execution_start_time": "2025-06-12T17:43:10.8703189Z",
       "livy_statement_state": "available",
       "normalized_state": "finished",
       "parent_msg_id": "b8d74fdb-64f7-4f6d-96cd-3782a0d92d55",
       "queued_time": "2025-06-12T17:43:10.8689577Z",
       "session_id": "6a815165-26f0-48f5-9e14-a4fc5dd00115",
       "session_start_time": null,
       "spark_pool": null,
       "state": "finished",
       "statement_id": 9,
       "statement_ids": [
        9
       ]
      },
      "text/plain": [
       "StatementMeta(, 6a815165-26f0-48f5-9e14-a4fc5dd00115, 9, Finished, Available, Finished)"
      ]
     },
     "metadata": {},
     "output_type": "display_data"
    },
    {
     "name": "stdout",
     "output_type": "stream",
     "text": [
      "Salvo em: abfss://Hackathon_Emprega_Dados@onelake.dfs.fabric.microsoft.com/lakehouse_vendas.Lakehouse/Files/bronze/b_vendas_clientes_alucar.parquet\n",
      "Salvo em: abfss://Hackathon_Emprega_Dados@onelake.dfs.fabric.microsoft.com/lakehouse_vendas.Lakehouse/Files/bronze/b_vendas_clientes_alucar_estimativa.parquet\n",
      "Salvo em: abfss://Hackathon_Emprega_Dados@onelake.dfs.fabric.microsoft.com/lakehouse_vendas.Lakehouse/Files/bronze/b_receita_pagseguro_consigcar.parquet\n",
      "Salvo em: abfss://Hackathon_Emprega_Dados@onelake.dfs.fabric.microsoft.com/lakehouse_vendas.Lakehouse/Files/bronze/b_receita_consigcar_estimativa.parquet\n"
     ]
    }
   ],
   "source": [
    "url_receita = f\"https://docs.google.com/spreadsheets/d/{base1['sheet_id']}/export?format=csv&gid={base1['gid_receita']}\"\n",
    "df_Receita = pd.read_csv(url_receita, encoding=base1['encoding'])\n",
    "df_Receita = edit_sheet(df_Receita)\n",
    "\n",
    "\n",
    "df_Receita_ConsigCar_estimativa = df_Receita[df_Receita[\"Faturamento_ConsigCar\"] == \"Pagseguro\"] \\\n",
    "                                .iloc[:, [1,6]].reset_index(drop = True)\n",
    "\n",
    "for i in range(1,len(df_Receita_ConsigCar_estimativa)):\n",
    "    if pd.isna(df_Receita_ConsigCar_estimativa.loc[i,'Data']):\n",
    "        prev_date = pd.to_datetime(df_Receita_ConsigCar_estimativa.loc[i-1, 'Data'], format='%d/%m/%Y')\n",
    "        next_date = prev_date + pd.DateOffset(months=1)\n",
    "        if i == 1:  # Caso especial para a primeira data\n",
    "            df_Receita_ConsigCar_estimativa.loc[i,'Data'] = prev_date.strftime('%d/%m/%Y')\n",
    "        else:\n",
    "            df_Receita_ConsigCar_estimativa.loc[i,'Data'] = next_date.strftime('%d/%m/%Y')\n",
    "\n",
    "############# Verificar isso depois #############\n",
    "# Gambiarra para corrigir o problema com a primeira data da tabela\n",
    "# df_Receita_ConsigCar_estimativa.loc[0, 'Data'] = pd.to_datetime('2025-01-01').date()\n",
    "\n",
    "df_Receita_ConsigCar_estimativa['Data'] = pd.to_datetime(df_Receita_ConsigCar_estimativa['Data'], format='%d/%m/%Y').dt.strftime('%Y-%m-%d')\n",
    "\n",
    "# Exclusão de linhas sem dados nas colunas Data e Mês\n",
    "df_Receita = df_Receita.dropna(subset=[\"Data\", \"Mes\"])\n",
    "\n",
    "# Transformação da coluna data\n",
    "df_Receita['Data'] = pd.to_datetime(df_Receita['Data'], dayfirst = True).dt.date\n",
    "\n",
    "# Transformação das colunas Mês e Ano para inteiro\n",
    "df_Receita[\"Mes\"] = df_Receita[\"Mes\"].astype(int)\n",
    "df_Receita[\"Ano\"] = df_Receita[\"Ano\"].astype(int)\n",
    "\n",
    "# Separação das colunas da Alucar e Consigcar\n",
    "df_Receita_Alucar = df_Receita.iloc[:, 0:5] \\\n",
    "                    .reset_index(drop = True)\n",
    "\n",
    "df_Receita_ConsigCar = df_Receita.iloc[:, [1,6]] \\\n",
    "                        .dropna(subset=[\"Valor\"]) \\\n",
    "                        .reset_index(drop = True)\n",
    "\n",
    "############# Verificar isso depois #############\n",
    "# Gambiarra para corrigir o problema com a primeira data da tabela\n",
    "# df_Receita_ConsigCar.loc[0, 'Data'] = pd.to_datetime('2025-01-01').date()\n",
    "\n",
    "#     \n",
    "df_Receita_Alucar_estimativa = df_Receita_Alucar.reset_index(drop = True)\n",
    "\n",
    "df_Receita_Alucar = df_Receita_Alucar[df_Receita_Alucar[\"Nome_(Alucar)\"] != 'Estimativa']\n",
    "\n",
    "save_to_lake(df_Receita_Alucar, base1['lake_path'], \"b_vendas_clientes_alucar.parquet\")\n",
    "save_to_lake(df_Receita_Alucar_estimativa, base1['lake_path'], \"b_vendas_clientes_alucar_estimativa.parquet\")\n",
    "save_to_lake(df_Receita_ConsigCar, base1['lake_path'], \"b_receita_pagseguro_consigcar.parquet\")\n",
    "save_to_lake(df_Receita_ConsigCar_estimativa, base1['lake_path'], \"b_receita_consigcar_estimativa.parquet\")\n",
    "\n",
    "convert_delta(df_Receita_Alucar, \"b_vendas_clientes_alucar\")\n",
    "convert_delta(df_Receita_Alucar_estimativa, \"b_vendas_clientes_alucar_estimativa\")\n",
    "convert_delta(df_Receita_ConsigCar,\"b_receita_pagseguro_consigcar\")\n",
    "convert_delta(df_Receita_ConsigCar_estimativa,\"b_receita_consigcar_estimativa\")"
   ]
  },
  {
   "cell_type": "code",
   "execution_count": 11,
   "id": "9519d0b5-23da-4126-ba34-fae2f01d7dc9",
   "metadata": {
    "microsoft": {
     "language": "python",
     "language_group": "synapse_pyspark"
    }
   },
   "outputs": [
    {
     "data": {
      "application/vnd.livy.statement-meta+json": {
       "execution_finish_time": "2025-06-12T17:45:32.0847258Z",
       "execution_start_time": "2025-06-12T17:45:31.7208695Z",
       "livy_statement_state": "available",
       "normalized_state": "finished",
       "parent_msg_id": "7e7b8402-d7b8-4a12-aadc-0ef4f131171a",
       "queued_time": "2025-06-12T17:45:31.7197104Z",
       "session_id": "6a815165-26f0-48f5-9e14-a4fc5dd00115",
       "session_start_time": null,
       "spark_pool": null,
       "state": "finished",
       "statement_id": 13,
       "statement_ids": [
        13
       ]
      },
      "text/plain": [
       "StatementMeta(, 6a815165-26f0-48f5-9e14-a4fc5dd00115, 13, Finished, Available, Finished)"
      ]
     },
     "metadata": {},
     "output_type": "display_data"
    },
    {
     "name": "stdout",
     "output_type": "stream",
     "text": [
      "                    Nome_(Alucar)        Data  Mes   Ano Valor_Receita\n",
      "0       João Carlos Silva Pereira  2025-01-02    1  2025   R$ 1.432,00\n",
      "1   Maria Fernanda Souza Oliveira  2025-01-03    1  2025   R$ 4.189,00\n",
      "2     Marcos Vinícius Silva Costa  2025-01-06    1  2025     R$ 118,00\n",
      "3        Ana Beatriz Almeida Lima  2025-01-07    1  2025   R$ 2.756,00\n",
      "4        Luiz Felipe Rocha Santos  2025-01-09    1  2025   R$ 4.631,00\n",
      "..                            ...         ...  ...   ...           ...\n",
      "83                     Estimativa  2025-08-01    8  2025  R$ 36.000,00\n",
      "84                     Estimativa  2025-09-01    9  2025  R$ 36.000,00\n",
      "85                     Estimativa  2025-10-01   10  2025  R$ 36.000,00\n",
      "86                     Estimativa  2025-11-01   11  2025  R$ 36.000,00\n",
      "87                     Estimativa  2025-12-01   12  2025  R$ 36.000,00\n",
      "\n",
      "[88 rows x 5 columns]\n"
     ]
    }
   ],
   "source": [
    "print(df_Receita_Alucar_estimativa)"
   ]
  },
  {
   "cell_type": "markdown",
   "id": "a97d6624-5b57-4aa8-955c-143c2fa1ae0b",
   "metadata": {
    "microsoft": {
     "language": "python",
     "language_group": "synapse_pyspark"
    },
    "nteract": {
     "transient": {
      "deleting": false
     }
    }
   },
   "source": [
    "## Extração Base 1 - Despesa"
   ]
  },
  {
   "cell_type": "code",
   "execution_count": 8,
   "id": "667b9661-390e-4049-af2b-79c2ba945315",
   "metadata": {
    "microsoft": {
     "language": "python",
     "language_group": "synapse_pyspark"
    }
   },
   "outputs": [
    {
     "data": {
      "application/vnd.livy.statement-meta+json": {
       "execution_finish_time": "2025-06-12T12:10:25.9647616Z",
       "execution_start_time": "2025-06-12T12:10:07.5945141Z",
       "livy_statement_state": "available",
       "normalized_state": "finished",
       "parent_msg_id": "94e310f1-2e2c-4199-9ef0-c096bf9fe12b",
       "queued_time": "2025-06-12T12:08:58.2672501Z",
       "session_id": "8aefcb5f-7a22-46e9-87bb-93965e6e0ac1",
       "session_start_time": null,
       "spark_pool": null,
       "state": "finished",
       "statement_id": 10,
       "statement_ids": [
        10
       ]
      },
      "text/plain": [
       "StatementMeta(, 8aefcb5f-7a22-46e9-87bb-93965e6e0ac1, 10, Finished, Available, Finished)"
      ]
     },
     "metadata": {},
     "output_type": "display_data"
    },
    {
     "name": "stdout",
     "output_type": "stream",
     "text": [
      "Salvo em: abfss://Hackathon_Emprega_Dados@onelake.dfs.fabric.microsoft.com/lakehouse_vendas.Lakehouse/Files/bronze/b_despesas_alucar.parquet\n",
      "Salvo em: abfss://Hackathon_Emprega_Dados@onelake.dfs.fabric.microsoft.com/lakehouse_vendas.Lakehouse/Files/bronze/b_despesas_consigcar.parquet\n"
     ]
    }
   ],
   "source": [
    "\n",
    "url_despesas = f\"https://docs.google.com/spreadsheets/d/{base1['sheet_id']}/export?format=csv&gid={base1['gid_despesas']}\"\n",
    "\n",
    "df_Despesas = pd.read_csv(url_despesas, encoding=base1['encoding'])\n",
    "\n",
    "df_Despesas.columns = df_Despesas.iloc[0]\n",
    "df_Despesas = df_Despesas[1:].reset_index(drop=True)\n",
    "\n",
    "index_total = df_Despesas[df_Despesas['DESPESAS'].str.contains(\"TOTAL\", na=False)].index.min()\n",
    "\n",
    "df_Despesas_Alucar = df_Despesas.iloc[:index_total].copy().reset_index(drop=True) \\\n",
    "    .melt(id_vars=[\"DESPESAS\"], var_name=\"Mês\", value_name=\"Valor\")\n",
    "\n",
    "df_Despesas_ConsigCar = df_Despesas.iloc[index_total + 4:-1].copy().reset_index(drop=True) \\\n",
    "    .melt(id_vars=[\"DESPESAS\"], var_name=\"Mês\", value_name=\"Valor\")\n",
    "\n",
    "# Salvar despesas\n",
    "save_to_lake(df_Despesas_Alucar, base1['lake_path'], \"b_despesas_alucar.parquet\")\n",
    "save_to_lake(df_Despesas_ConsigCar, base1['lake_path'], \"b_despesas_consigcar.parquet\")\n",
    "\n",
    "convert_delta(df_Despesas_Alucar,\"b_despesas_alucar\")\n",
    "convert_delta(df_Despesas_ConsigCar,\"b_despesas_consigcar\")"
   ]
  },
  {
   "cell_type": "markdown",
   "id": "f0df9c2d-414e-4cc2-9b1e-558e39c9f47e",
   "metadata": {
    "microsoft": {
     "language": "python",
     "language_group": "synapse_pyspark"
    },
    "nteract": {
     "transient": {
      "deleting": false
     }
    }
   },
   "source": [
    "## Metas"
   ]
  },
  {
   "cell_type": "code",
   "execution_count": 15,
   "id": "7d256ad8-8078-4eae-9737-6571c7785b4f",
   "metadata": {
    "microsoft": {
     "language": "python",
     "language_group": "synapse_pyspark"
    }
   },
   "outputs": [
    {
     "data": {
      "application/vnd.livy.statement-meta+json": {
       "execution_finish_time": "2025-06-12T12:16:00.445542Z",
       "execution_start_time": "2025-06-12T12:15:54.2286996Z",
       "livy_statement_state": "available",
       "normalized_state": "finished",
       "parent_msg_id": "2d36338a-ab81-4bfe-a4f9-95c5926217d0",
       "queued_time": "2025-06-12T12:15:54.2274189Z",
       "session_id": "8aefcb5f-7a22-46e9-87bb-93965e6e0ac1",
       "session_start_time": null,
       "spark_pool": null,
       "state": "finished",
       "statement_id": 17,
       "statement_ids": [
        17
       ]
      },
      "text/plain": [
       "StatementMeta(, 8aefcb5f-7a22-46e9-87bb-93965e6e0ac1, 17, Finished, Available, Finished)"
      ]
     },
     "metadata": {},
     "output_type": "display_data"
    },
    {
     "name": "stdout",
     "output_type": "stream",
     "text": [
      "Salvo em: abfss://Hackathon_Emprega_Dados@onelake.dfs.fabric.microsoft.com/lakehouse_vendas.Lakehouse/Files/bronze/b_metas_plr.parquet\n"
     ]
    }
   ],
   "source": [
    "url_plr = f\"https://docs.google.com/spreadsheets/d/{base1['sheet_id']}/export?format=csv&gid={base1['gid_PLR']}\"\n",
    "\n",
    "df_metas = pd.read_csv(url_plr, index_col=False, header=2, encoding=base1['encoding'])\n",
    "\n",
    "#Tratamento dos dados relacionados as metas\n",
    "df_metas.columns = df_metas.columns.map(str)\n",
    "df_metas = df_metas.loc[:, ~df_metas.columns.str.contains('^Unnamed')]\n",
    "df_metas = df_metas.iloc[:-1].fillna(0)\n",
    "df_metas = edit_sheet(df_metas)\n",
    "df_metas['Mês'] = df_metas['Mês'].astype(int)\n",
    "df_metas = df_metas.rename(columns={'Meta_1': 'Meta_1_ALUCAR', 'Meta_2': 'Meta_2_ALUCAR', 'Meta_1.1': 'Meta_1_ConsigCar', 'Meta_2.1': 'Meta_2_ConsigCar'})\n",
    "df_metas = df_metas[['Ano','Mês', 'Meta_1_ALUCAR', 'Meta_2_ALUCAR', 'Meta_1_ConsigCar', 'Meta_2_ConsigCar']]\n",
    "df_metas['Ano'] = df_metas['Ano'].iloc[0]\n",
    "df_metas['Data'] = pd.to_datetime({\n",
    "    'year': df_metas['Ano'].astype(int),\n",
    "    'month': df_metas['Mês'].astype(int),\n",
    "    'day': 1\n",
    "})\n",
    "\n",
    "save_to_lake(df_metas, base1['lake_path'], \"b_metas_plr.parquet\")\n",
    "\n",
    "convert_delta(df_metas,\"b_metas_plr\")"
   ]
  },
  {
   "cell_type": "markdown",
   "id": "c2cc35c2-9de6-4bd7-8732-eb41fab108a8",
   "metadata": {
    "microsoft": {
     "language": "python",
     "language_group": "synapse_pyspark"
    },
    "nteract": {
     "transient": {
      "deleting": false
     }
    }
   },
   "source": [
    "## Extração Base 2"
   ]
  },
  {
   "cell_type": "code",
   "execution_count": 16,
   "id": "c5ae6dbe-1cc2-4c7c-8c8c-123275b5d741",
   "metadata": {
    "microsoft": {
     "language": "python",
     "language_group": "synapse_pyspark"
    }
   },
   "outputs": [
    {
     "data": {
      "application/vnd.livy.statement-meta+json": {
       "execution_finish_time": "2025-06-12T12:16:13.1692027Z",
       "execution_start_time": "2025-06-12T12:16:03.2974855Z",
       "livy_statement_state": "available",
       "normalized_state": "finished",
       "parent_msg_id": "dca5142c-00dc-4b87-b674-ade4afe0db45",
       "queued_time": "2025-06-12T12:16:03.2963823Z",
       "session_id": "8aefcb5f-7a22-46e9-87bb-93965e6e0ac1",
       "session_start_time": null,
       "spark_pool": null,
       "state": "finished",
       "statement_id": 18,
       "statement_ids": [
        18
       ]
      },
      "text/plain": [
       "StatementMeta(, 8aefcb5f-7a22-46e9-87bb-93965e6e0ac1, 18, Finished, Available, Finished)"
      ]
     },
     "metadata": {},
     "output_type": "display_data"
    },
    {
     "name": "stdout",
     "output_type": "stream",
     "text": [
      "Salvo em: abfss://Hackathon_Emprega_Dados@onelake.dfs.fabric.microsoft.com/lakehouse_vendas.Lakehouse/Files/bronze/b_vendas_clientes_consigcar.parquet\n"
     ]
    }
   ],
   "source": [
    "\n",
    "response = requests.get(base2[\"url\"])\n",
    "df_base2 = pd.read_excel(BytesIO(response.content))\n",
    "\n",
    "df_base2['Valor parcela'] = df_base2['Valor parcela'].replace({'R\\$': '', '\\.': '', ',': '.'}, regex=True).astype(float)\n",
    "df_base2['Data do Pagamento'] = pd.to_datetime(df_base2['Data do Pagamento']).dt.date\n",
    "\n",
    "save_to_lake(df_base2, base2['lake_path'], \"b_vendas_clientes_consigcar.parquet\")\n",
    "\n",
    "convert_delta(df_base2,\"b_vendas_clientes_consigcar\")"
   ]
  },
  {
   "cell_type": "code",
   "execution_count": 5,
   "id": "9dbbb5a8-6436-4e2e-a180-e417dd1ee15a",
   "metadata": {
    "microsoft": {
     "language": "python",
     "language_group": "synapse_pyspark"
    }
   },
   "outputs": [
    {
     "data": {
      "application/vnd.livy.statement-meta+json": {
       "execution_finish_time": "2025-06-12T18:54:48.854978Z",
       "execution_start_time": "2025-06-12T18:54:32.7751248Z",
       "livy_statement_state": "available",
       "normalized_state": "finished",
       "parent_msg_id": "1902e066-5005-4b14-bf6d-52522c7ea0ae",
       "queued_time": "2025-06-12T18:54:32.7740029Z",
       "session_id": "c1295b89-4747-4614-aa18-9d1df48f8b91",
       "session_start_time": null,
       "spark_pool": null,
       "state": "finished",
       "statement_id": 7,
       "statement_ids": [
        7
       ]
      },
      "text/plain": [
       "StatementMeta(, c1295b89-4747-4614-aa18-9d1df48f8b91, 7, Finished, Available, Finished)"
      ]
     },
     "metadata": {},
     "output_type": "display_data"
    }
   ],
   "source": [
    "import pandas as pd\n",
    "\n",
    "# Caminho para o arquivo Excel dentro do Lakehouse (ajuste o nome)\n",
    "file_path = \"/lakehouse/default/Files/DRE_Estimado.xlsx\"\n",
    "\n",
    "# Carrega com pandas\n",
    "pdf = pd.read_excel(file_path, dtype={\"CodGrupo\": str})\n",
    "\n",
    "# Converte para Spark\n",
    "df = spark.createDataFrame(pdf)\n",
    "\n",
    "# Salva como tabela Delta no Lakehouse (aba Tables)\n",
    "df.write.mode(\"overwrite\").saveAsTable(\"b_dre_estimado\")"
   ]
  },
  {
   "cell_type": "code",
   "execution_count": null,
   "id": "78fb665c-6ffe-4527-9887-5df601dd6ec3",
   "metadata": {
    "microsoft": {
     "language": "python",
     "language_group": "synapse_pyspark"
    }
   },
   "outputs": [],
   "source": []
  }
 ],
 "metadata": {
  "dependencies": {
   "lakehouse": {
    "default_lakehouse": "4a780a82-5b79-440f-b832-289c5aa59c04",
    "default_lakehouse_name": "lakehouse_vendas",
    "default_lakehouse_workspace_id": "9192c1ef-ef1d-4e27-8495-7193eb001d77",
    "known_lakehouses": [
     {
      "id": "4a780a82-5b79-440f-b832-289c5aa59c04"
     }
    ]
   }
  },
  "kernel_info": {
   "name": "synapse_pyspark"
  },
  "kernelspec": {
   "display_name": ".venv",
   "language": "python",
   "name": "python3"
  },
  "language_info": {
   "name": "python",
   "version": "3.13.2"
  },
  "microsoft": {
   "language": "python",
   "language_group": "synapse_pyspark",
   "ms_spell_check": {
    "ms_spell_check_language": "en"
   }
  },
  "nteract": {
   "version": "nteract-front-end@1.0.0"
  },
  "spark_compute": {
   "compute_id": "/trident/default",
   "session_options": {
    "conf": {
     "spark.synapse.nbs.session.timeout": "1200000"
    }
   }
  }
 },
 "nbformat": 4,
 "nbformat_minor": 5
}
