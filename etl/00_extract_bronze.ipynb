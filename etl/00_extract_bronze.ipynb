{
 "cells": [
  {
   "cell_type": "code",
   "execution_count": 12,
   "id": "1e210583",
   "metadata": {},
   "outputs": [],
   "source": [
    "# Bibliotecas\n",
    "import pandas as pd\n",
    "import os\n",
    "from sqlalchemy import create_engine, inspect\n",
    "from io import BytesIO\n",
    "import requests"
   ]
  },
  {
   "cell_type": "code",
   "execution_count": 5,
   "id": "b7dc7492",
   "metadata": {},
   "outputs": [],
   "source": [
    "# Funções\n",
    "## Função para editar a tabela de Receita\n",
    "def edit_sheet(df):\n",
    "    df = df.loc[:, ~df.columns.str.contains('^Unnamed')]  \n",
    "    df.columns = df.columns.str.replace('\\n', '_')\n",
    "    df.columns = df.columns.str.replace(' ', '_')\n",
    "    return df\n",
    "\n",
    "## Função para gerar um DBML a partir dos arquivos DB\n",
    "def sql_to_dbml(engine):\n",
    "    inspector = inspect(engine)\n",
    "    dbml = \"\"\n",
    "\n",
    "    for table_name in inspector.get_table_names():\n",
    "        dbml += f\"Table {table_name} {{\\n\"\n",
    "\n",
    "        # Pega as colunas\n",
    "        for column in inspector.get_columns(table_name):\n",
    "            name = column['name']\n",
    "            dtype = column['type']\n",
    "            nullable = column['nullable']\n",
    "            default = column['default']\n",
    "            is_primary = name in [pk['constrained_columns'][0] for pk in inspector.get_pk_constraint(table_name).get('constrained_columns', [])]\n",
    "\n",
    "            dbml += f\"  {name} {dtype}\"\n",
    "\n",
    "            if is_primary:\n",
    "                dbml += \" [pk]\"\n",
    "            if not nullable:\n",
    "                dbml += \" [not null]\"\n",
    "            if default is not None:\n",
    "                dbml += f\" [default: {default}]\"\n",
    "            dbml += \"\\n\"\n",
    "\n",
    "        dbml += \"}\\n\\n\"\n",
    "\n",
    "    return dbml"
   ]
  },
  {
   "cell_type": "code",
   "execution_count": 6,
   "id": "ce90ccf8",
   "metadata": {},
   "outputs": [],
   "source": [
    "# Dicionários\n",
    "# com os caminhos do arquivos e atributos da tabela\n",
    "\n",
    "base1 = {\n",
    "    \"sheet_id\": '1cucnW4yVosO5n5BFgwXYv6rVy8yj6NTasM83RTCMOug',\n",
    "    \"gid_receita\": \"373473243\",\n",
    "    \"gid_despesas\": \"1859279676\",\n",
    "    \"encoding\": \"latin1\",\n",
    "    \"db_path\": os.path.abspath(\"../database/bronze/base1.db\"),\n",
    "    \"dbml_path\": os.path.abspath(\"../modelagem/base1.dbml\"),\n",
    "}\n",
    "\n",
    "base2 = {\n",
    "    \"nome_tabela\": \"vendas_clientes_consigcar\",\n",
    "    \"file_path\": os.path.abspath(\"..\\\\data\\\\Base 2 - Vendas Clientes ConsigCar(Vendas).csv\"),\n",
    "    \"db_path\": os.path.abspath(\"../database/bronze/base2.db\"),\n",
    "    \"dbml_path\": os.path.abspath(\"../modelagem/base2.dbml\"),\n",
    "    \"encoding\": \"latin1\",\n",
    "}"
   ]
  },
  {
   "cell_type": "markdown",
   "id": "cd207722",
   "metadata": {},
   "source": [
    "## Extraindo Base 1 (Vendas)"
   ]
  },
  {
   "cell_type": "markdown",
   "id": "db74cfe7",
   "metadata": {},
   "source": [
    "### Aba Receita"
   ]
  },
  {
   "cell_type": "code",
   "execution_count": 8,
   "id": "73e7e9de",
   "metadata": {},
   "outputs": [],
   "source": [
    "#Lendo e armazenando em um dataframe as tabelas\n",
    "df_Receita = pd.read_csv(f\"https://docs.google.com/spreadsheets/d/{base1['sheet_id']}/export?format=csv&gid={base1['gid_receita']}\", index_col=False)\n",
    "df_Receita = edit_sheet(df_Receita)"
   ]
  },
  {
   "cell_type": "code",
   "execution_count": 10,
   "id": "4fcca908",
   "metadata": {},
   "outputs": [
    {
     "data": {
      "text/plain": [
       "4"
      ]
     },
     "execution_count": 10,
     "metadata": {},
     "output_type": "execute_result"
    }
   ],
   "source": [
    "# Inciando tratamento\n",
    "# Exclusão de linhas sem dados nas colunas Data e Mês\n",
    "df_Receita = df_Receita.dropna(subset=[\"Data\", \"Mes\"])\n",
    "\n",
    "# Transformação da coluna data\n",
    "df_Receita['Data'] = pd.to_datetime(df_Receita['Data'], dayfirst = True).dt.date\n",
    "\n",
    "# Transformação das colunas Mês e Ano para inteiro\n",
    "df_Receita[\"Mes\"] = df_Receita[\"Mes\"].astype(int)\n",
    "df_Receita[\"Ano\"] = df_Receita[\"Ano\"].astype(int)\n",
    "\n",
    "# Separação das colunas da Alucar e Consigcar\n",
    "df_Receita_Alucar = df_Receita.iloc[:, 0:5] \\\n",
    "                    .reset_index(drop = True)\n",
    "\n",
    "df_Receita_ConsigCar = df_Receita.iloc[:, [1,6]] \\\n",
    "                        .dropna(subset=[\"Valor\"]) \\\n",
    "                        .reset_index(drop = True)\n",
    "\n",
    "# Separação do dataframe da Receita da Alucar e estimativa da Alucar\n",
    "df_Receita_Alucar_estimativa = df_Receita_Alucar[df_Receita_Alucar[\"Nome_(Alucar)\"] == 'Estimativa'] \\\n",
    "                                .reset_index(drop = True)\n",
    "\n",
    "df_Receita_Alucar = df_Receita_Alucar[df_Receita_Alucar[\"Nome_(Alucar)\"] != 'Estimativa']\n",
    "\n",
    "# Cria conexão com banco de dados SQLite\n",
    "engine = create_engine(f\"sqlite:///{base1['db_path']}\")\n",
    "\n",
    "# Insere as tabelas no banco\n",
    "df_Receita_Alucar.to_sql(\"00_vendas_clientes_alucar\", con=engine, if_exists=\"replace\", index=False)\n",
    "df_Receita_Alucar_estimativa.to_sql(\"00_vendas_clientes_alucar_estimativa\", con=engine, if_exists=\"replace\", index=False)\n",
    "df_Receita_ConsigCar.to_sql(\"00_receita_pagseguro_consigcar\", con=engine, if_exists=\"replace\", index=False)\n"
   ]
  },
  {
   "cell_type": "markdown",
   "id": "2f4a2fce",
   "metadata": {},
   "source": [
    "### Aba Despesas "
   ]
  },
  {
   "cell_type": "code",
   "execution_count": null,
   "id": "187a90a7",
   "metadata": {},
   "outputs": [
    {
     "data": {
      "text/plain": [
       "156"
      ]
     },
     "execution_count": 106,
     "metadata": {},
     "output_type": "execute_result"
    }
   ],
   "source": [
    "# Lendo e armazenando em um dataframe as tabelas\n",
    "df_Despesas = pd.read_csv(f\"https://docs.google.com/spreadsheets/d/{base1[\"sheet_id\"]}/export?format=csv&gid={base1[\"gid_despesas\"]}\", index_col=False)\n",
    "\n",
    "# Excluindo colunas desnecessárias\n",
    "df_Despesas.columns = df_Despesas.iloc[0]\n",
    "df_Despesas = df_Despesas[1:]\n",
    "df_Despesas.reset_index(drop = True, inplace = True)\n",
    "\n",
    "#Separando Despesas da Alucar e ConsigCar\n",
    "\n",
    "# Encontrar o índice da linha que contém TOTAL na coluna Despesa\n",
    "index_total = df_Despesas[df_Despesas['DESPESAS'].str.contains(\"TOTAL\", na=False)].index.min()\n",
    "\n",
    "# Selecionar todas as linhas até a linha anterior à que contém TOTAL\n",
    "df_Despesas_Alucar = df_Despesas.iloc[:index_total].copy()\n",
    "df_Despesas_Alucar = df_Despesas_Alucar.reset_index(drop = True) \\\n",
    "                                       .melt(id_vars=[\"DESPESAS\"], var_name=\"Mês\", value_name=\"Valor\")\n",
    "\n",
    "# Selecionar as linhas referentes a ConsigCar\n",
    "df_Despesas_ConsigCar = df_Despesas.iloc[index_total+4:-1] \\\n",
    "                        .copy().reset_index(drop = True) \\\n",
    "                        .melt(id_vars=[\"DESPESAS\"], var_name=\"Mês\", value_name=\"Valor\")\n",
    "\n",
    "# Cria conexão com banco de dados SQLite\n",
    "engine = create_engine(f\"sqlite:///{base1[\"db_path\"]}\")\n",
    "\n",
    "# Insere as tabelas no banco\n",
    "df_Despesas_Alucar.to_sql(\"00_despesas_alucar\", con=engine, if_exists=\"replace\", index=False)\n",
    "df_Despesas_ConsigCar.to_sql(\"00_despesas_consigcar\", con=engine, if_exists=\"replace\", index=False)\n"
   ]
  },
  {
   "cell_type": "code",
   "execution_count": 107,
   "id": "7c8d12db",
   "metadata": {},
   "outputs": [],
   "source": [
    "# Transformar o banco de dados em DBML para acompanhamento da modelagem\n",
    "dbml = sql_to_dbml(engine)\n",
    "\n",
    "with open(base1[\"dbml_path\"], \"w\", encoding=\"utf-8\") as f:\n",
    "    f.write(dbml)"
   ]
  },
  {
   "cell_type": "markdown",
   "id": "06682d62",
   "metadata": {},
   "source": [
    "### Extraindo Base 2"
   ]
  },
  {
   "cell_type": "code",
   "execution_count": null,
   "id": "0b78cf61",
   "metadata": {},
   "outputs": [
    {
     "data": {
      "text/plain": [
       "207"
      ]
     },
     "execution_count": 14,
     "metadata": {},
     "output_type": "execute_result"
    }
   ],
   "source": [
    "# Lendo e aramazenando em um dataframe as tabelas\n",
    "url = 'https://empregadados-my.sharepoint.com/personal/bianca_empregadados_com_br/_layouts/15/download.aspx?share=EZYutqfo5ldNhDw2lMYRxrIBnpPI6c7OTjBBS_F5yz860Q'\n",
    "\n",
    "response = requests.get(url)\n",
    "df = pd.read_excel(BytesIO(response.content))\n",
    "#df = pd.read_csv(base2[\"file_path\"], encoding=base2[\"encoding\"])\n",
    "\n",
    "# Remove 'R$', pontos e converte a vírgula decimal para ponto\n",
    "df['Valor parcela'] = df['Valor parcela'].replace({'R\\$': '', '\\.': '', ',': '.'}, regex=True).astype(float)\n",
    "\n",
    "# Converte a coluna de data e remove a hora\n",
    "df['Data do Pagamento'] = pd.to_datetime(df['Data do Pagamento']).dt.date\n",
    "\n",
    "# Cria conexão com banco de dados SQLite\n",
    "engine = create_engine(f\"sqlite:///{base2['db_path']}\")\n",
    "\n",
    "# Insere a tabela no banco\n",
    "df.to_sql(\"00_vendas_clientes_consigcar\", con=engine, if_exists=\"replace\", index=False)"
   ]
  },
  {
   "cell_type": "code",
   "execution_count": 109,
   "id": "dd61f061",
   "metadata": {},
   "outputs": [],
   "source": [
    "# Transformar o banco de dados em DBML para acompanhamento da modelagem\n",
    "dbml = sql_to_dbml(engine)\n",
    "\n",
    "with open(base2[\"dbml_path\"], \"w\", encoding=\"utf-8\") as f:\n",
    "    f.write(dbml)"
   ]
  }
 ],
 "metadata": {
  "kernelspec": {
   "display_name": "Python 3",
   "language": "python",
   "name": "python3"
  },
  "language_info": {
   "codemirror_mode": {
    "name": "ipython",
    "version": 3
   },
   "file_extension": ".py",
   "mimetype": "text/x-python",
   "name": "python",
   "nbconvert_exporter": "python",
   "pygments_lexer": "ipython3",
   "version": "3.11.4"
  }
 },
 "nbformat": 4,
 "nbformat_minor": 5
}
