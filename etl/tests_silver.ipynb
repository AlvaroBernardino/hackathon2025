{
 "cells": [
  {
   "cell_type": "code",
   "execution_count": null,
   "metadata": {},
   "outputs": [],
   "source": [
    "# Bibliotecas\n",
    "import pandas as pd\n",
    "from sqlalchemy import create_engine, inspect, text"
   ]
  },
  {
   "cell_type": "code",
   "execution_count": null,
   "metadata": {},
   "outputs": [],
   "source": [
    "# Conexão com o banco de dados\n",
    "db_path_silver = \"../database/silver/01_silver.db\"\n",
    "engine = create_engine(f\"sqlite:///{db_path_silver}\")"
   ]
  },
  {
   "cell_type": "code",
   "execution_count": null,
   "metadata": {},
   "outputs": [],
   "source": [
    "# 1) Verificação dim_cliente\n",
    "query_s1 = \"\"\"\n",
    "SELECT * FROM dim_cliente \n",
    "LIMIT 10;\n",
    "\"\"\"\n",
    "df_s1 = pd.read_sql(query_s1, engine)\n",
    "print(\"dim_cliente:\")\n",
    "print(df_s1)"
   ]
  },
  {
   "cell_type": "code",
   "execution_count": null,
   "metadata": {},
   "outputs": [],
   "source": [
    "# 2) Verificação dim_parcelamento\n",
    "query_s2 = \"\"\"\n",
    "SELECT * FROM dim_parcelamento\n",
    "LIMIT 10;\n",
    "\"\"\"\n",
    "df_s2 = pd.read_sql(query_s2, engine)\n",
    "print(\"\\ndim_parcelamento:\")\n",
    "print(df_s2)"
   ]
  },
  {
   "cell_type": "code",
   "execution_count": null,
   "metadata": {},
   "outputs": [],
   "source": [
    "# 3) Verificação dim_tempo\n",
    "query_s3 = \"\"\"\n",
    "SELECT * FROM dim_tempo\n",
    "LIMIT 10;\n",
    "\"\"\"\n",
    "df_s3 = pd.read_sql(query_s3, engine)\n",
    "print(\"\\ndim_tempo:\")\n",
    "print(df_s3)"
   ]
  },
  {
   "cell_type": "code",
   "execution_count": null,
   "metadata": {},
   "outputs": [],
   "source": [
    "# 4) Verificação dim_vendedor\n",
    "query_s4 = \"\"\"\n",
    "SELECT * FROM dim_vendedor\n",
    "LIMIT 10;\n",
    "\"\"\"\n",
    "df_s4 = pd.read_sql(query_s4, engine)\n",
    "print(\"\\ndim_vendedor:\")\n",
    "print(df_s4)"
   ]
  },
  {
   "cell_type": "code",
   "execution_count": null,
   "metadata": {},
   "outputs": [],
   "source": [
    "# 5) Verificação fato_despesas\n",
    "query_s5 = \"\"\"\n",
    "SELECT * FROM fato_despesas\n",
    "LIMIT 10;\n",
    "\"\"\"\n",
    "df_s5 = pd.read_sql(query_s5, engine)\n",
    "print(\"\\nfato_despesas:\")\n",
    "print(df_s5)"
   ]
  },
  {
   "cell_type": "code",
   "execution_count": null,
   "metadata": {},
   "outputs": [],
   "source": [
    "# 6) Verificação fato_vendas_alucar\n",
    "query_s6 = \"\"\"\n",
    "SELECT * FROM fato_vendas_alucar\n",
    "LIMIT 10;\n",
    "\"\"\"\n",
    "df_s6 = pd.read_sql(query_s6, engine)\n",
    "print(\"\\nfato_vendas_alucar:\")\n",
    "print(df_s6)"
   ]
  },
  {
   "cell_type": "code",
   "execution_count": null,
   "metadata": {},
   "outputs": [],
   "source": [
    "# 7) Verificação fato_vendas_consigcar\n",
    "query_s7 = \"\"\"\n",
    "SELECT * FROM fato_vendas_consigcar\n",
    "LIMIT 10;\n",
    "\"\"\"\n",
    "df_s7 = pd.read_sql(query_s7, engine)\n",
    "print(\"\\nfato_vendas_consigcar:\")\n",
    "print(df_s7)"
   ]
  },
  {
   "cell_type": "code",
   "execution_count": null,
   "metadata": {},
   "outputs": [],
   "source": [
    "# 8) Verificação fato_vendas_mensais_consigcar\n",
    "query_s8 = \"\"\"\n",
    "SELECT * FROM fato_vendas_mensais_consigcar\n",
    "LIMIT 10;\n",
    "\"\"\"\n",
    "df_s8 = pd.read_sql(query_s8, engine)\n",
    "print(\"\\nfato_vendas_mensais_consigcar:\")\n",
    "print(df_s8)"
   ]
  }
 ],
 "metadata": {
  "kernelspec": {
   "display_name": ".venv",
   "language": "python",
   "name": "python3"
  },
  "language_info": {
   "codemirror_mode": {
    "name": "ipython",
    "version": 3
   },
   "file_extension": ".py",
   "mimetype": "text/x-python",
   "name": "python",
   "nbconvert_exporter": "python",
   "pygments_lexer": "ipython3",
   "version": "3.13.2"
  }
 },
 "nbformat": 4,
 "nbformat_minor": 5
}