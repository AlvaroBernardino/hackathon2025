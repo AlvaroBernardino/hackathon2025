{
 "cells": [
  {
   "cell_type": "markdown",
   "id": "25963ce1",
   "metadata": {},
   "source": [
    "### Verificação dos dados na camada Silver"
   ]
  },
  {
   "cell_type": "code",
   "execution_count": 1,
   "id": "a0fb8616",
   "metadata": {},
   "outputs": [],
   "source": [
    "# Bibliotecas\n",
    "import pandas as pd\n",
    "from sqlalchemy import create_engine, inspect, text\n"
   ]
  },
  {
   "cell_type": "code",
   "execution_count": null,
   "id": "beed2a4f",
   "metadata": {},
   "outputs": [],
   "source": [
    "# Conexão com o banco de dados\n",
    "db_path_silver = \"../database/silver/01_silver.db\"\n",
    "engine = create_engine(f\"sqlite:///{db_path_silver}\")"
   ]
  },
  {
   "cell_type": "code",
   "execution_count": null,
   "id": "4281c2cc",
   "metadata": {},
   "outputs": [],
   "source": [
    "# 1) Total de vendas ConsigCar por tipo de produto\n",
    "query1 = \"\"\"\n",
    "SELECT tipo_produto, COUNT(*) AS quantidade_vendas, SUM(p.valor_total) AS valor_total_vendas\n",
    "FROM fato_vendas_consigcar f\n",
    "LEFT JOIN dim_parcelamento p ON f.id_parcelamento = p.id_parcelamento\n",
    "GROUP BY tipo_produto\n",
    "ORDER BY valor_total_vendas DESC\n",
    "LIMIT 8;\n",
    "\"\"\"\n",
    "\n",
    "df1 = pd.read_sql(query1, engine)\n",
    "print(df1)"
   ]
  },
  {
   "cell_type": "code",
   "execution_count": null,
   "id": "828ecea9",
   "metadata": {},
   "outputs": [],
   "source": [
    "# X)Vendas mensais por vendedor com nome do mês\n",
    "query_2 = \"\"\"\n",
    "SELECT\n",
    "  v.id_vendedor,\n",
    "  v.nome_vendedor,\n",
    "  t.mes,\n",
    "  t.nome_mes,\n",
    "  SUM(f.quantidade_vendas)    AS total_vendas,\n",
    "  SUM(CAST(f.valor_total AS FLOAT)) AS total_valor_vendido\n",
    "FROM fato_vendas_mensais_consigcar f\n",
    "JOIN dim_vendedor v ON f.id_vendedor = v.id_vendedor\n",
    "JOIN dim_tempo t     ON f.id_data    = t.id_data\n",
    "GROUP BY v.id_vendedor, v.nome_vendedor, t.mes, t.nome_mes\n",
    "ORDER BY t.ano DESC, t.mes DESC\n",
    "LIMIT 8;\n",
    "\"\"\"\n",
    "\n",
    "df2 = pd.read_sql(query_2, engine)\n",
    "print(df2)"
   ]
  },
  {
   "cell_type": "code",
   "execution_count": 17,
   "id": "4725bae4",
   "metadata": {},
   "outputs": [
    {
     "data": {
      "application/vnd.microsoft.datawrangler.viewer.v0+json": {
       "columns": [
        {
         "name": "index",
         "rawType": "int64",
         "type": "integer"
        },
        {
         "name": "id_parcelamento",
         "rawType": "int64",
         "type": "integer"
        },
        {
         "name": "num_parcelas",
         "rawType": "int64",
         "type": "integer"
        },
        {
         "name": "valor_parcela",
         "rawType": "float64",
         "type": "float"
        },
        {
         "name": "valor_total",
         "rawType": "float64",
         "type": "float"
        },
        {
         "name": "data_primeira_parcela",
         "rawType": "int64",
         "type": "integer"
        },
        {
         "name": "data_ultima_parcela",
         "rawType": "int64",
         "type": "integer"
        }
       ],
       "conversionMethod": "pd.DataFrame",
       "ref": "b27e9ece-650a-44c4-8d92-94d506c8b8f5",
       "rows": [
        [
         "0",
         "105",
         "6",
         "611.45",
         "3668.7",
         "20310125",
         "20310624"
        ],
        [
         "1",
         "36",
         "12",
         "1236.66",
         "14839.92",
         "20301124",
         "20311020"
        ],
        [
         "2",
         "195",
         "12",
         "1225.62",
         "14707.44",
         "20300425",
         "20310321"
        ],
        [
         "3",
         "196",
         "6",
         "627.75",
         "3766.5",
         "20300425",
         "20300922"
        ],
        [
         "4",
         "197",
         "18",
         "1841.9",
         "33154.2",
         "20300425",
         "20310917"
        ],
        [
         "5",
         "198",
         "18",
         "1839.9",
         "33118.2",
         "20300425",
         "20310917"
        ],
        [
         "6",
         "199",
         "18",
         "1830.5",
         "32949.0",
         "20300425",
         "20310917"
        ],
        [
         "7",
         "200",
         "18",
         "1848.71",
         "33276.78",
         "20300425",
         "20310917"
        ]
       ],
       "shape": {
        "columns": 6,
        "rows": 8
       }
      },
      "text/html": [
       "<div>\n",
       "<style scoped>\n",
       "    .dataframe tbody tr th:only-of-type {\n",
       "        vertical-align: middle;\n",
       "    }\n",
       "\n",
       "    .dataframe tbody tr th {\n",
       "        vertical-align: top;\n",
       "    }\n",
       "\n",
       "    .dataframe thead th {\n",
       "        text-align: right;\n",
       "    }\n",
       "</style>\n",
       "<table border=\"1\" class=\"dataframe\">\n",
       "  <thead>\n",
       "    <tr style=\"text-align: right;\">\n",
       "      <th></th>\n",
       "      <th>id_parcelamento</th>\n",
       "      <th>num_parcelas</th>\n",
       "      <th>valor_parcela</th>\n",
       "      <th>valor_total</th>\n",
       "      <th>data_primeira_parcela</th>\n",
       "      <th>data_ultima_parcela</th>\n",
       "    </tr>\n",
       "  </thead>\n",
       "  <tbody>\n",
       "    <tr>\n",
       "      <th>0</th>\n",
       "      <td>105</td>\n",
       "      <td>6</td>\n",
       "      <td>611.45</td>\n",
       "      <td>3668.70</td>\n",
       "      <td>20310125</td>\n",
       "      <td>20310624</td>\n",
       "    </tr>\n",
       "    <tr>\n",
       "      <th>1</th>\n",
       "      <td>36</td>\n",
       "      <td>12</td>\n",
       "      <td>1236.66</td>\n",
       "      <td>14839.92</td>\n",
       "      <td>20301124</td>\n",
       "      <td>20311020</td>\n",
       "    </tr>\n",
       "    <tr>\n",
       "      <th>2</th>\n",
       "      <td>195</td>\n",
       "      <td>12</td>\n",
       "      <td>1225.62</td>\n",
       "      <td>14707.44</td>\n",
       "      <td>20300425</td>\n",
       "      <td>20310321</td>\n",
       "    </tr>\n",
       "    <tr>\n",
       "      <th>3</th>\n",
       "      <td>196</td>\n",
       "      <td>6</td>\n",
       "      <td>627.75</td>\n",
       "      <td>3766.50</td>\n",
       "      <td>20300425</td>\n",
       "      <td>20300922</td>\n",
       "    </tr>\n",
       "    <tr>\n",
       "      <th>4</th>\n",
       "      <td>197</td>\n",
       "      <td>18</td>\n",
       "      <td>1841.90</td>\n",
       "      <td>33154.20</td>\n",
       "      <td>20300425</td>\n",
       "      <td>20310917</td>\n",
       "    </tr>\n",
       "    <tr>\n",
       "      <th>5</th>\n",
       "      <td>198</td>\n",
       "      <td>18</td>\n",
       "      <td>1839.90</td>\n",
       "      <td>33118.20</td>\n",
       "      <td>20300425</td>\n",
       "      <td>20310917</td>\n",
       "    </tr>\n",
       "    <tr>\n",
       "      <th>6</th>\n",
       "      <td>199</td>\n",
       "      <td>18</td>\n",
       "      <td>1830.50</td>\n",
       "      <td>32949.00</td>\n",
       "      <td>20300425</td>\n",
       "      <td>20310917</td>\n",
       "    </tr>\n",
       "    <tr>\n",
       "      <th>7</th>\n",
       "      <td>200</td>\n",
       "      <td>18</td>\n",
       "      <td>1848.71</td>\n",
       "      <td>33276.78</td>\n",
       "      <td>20300425</td>\n",
       "      <td>20310917</td>\n",
       "    </tr>\n",
       "  </tbody>\n",
       "</table>\n",
       "</div>"
      ],
      "text/plain": [
       "   id_parcelamento  num_parcelas  valor_parcela  valor_total  \\\n",
       "0              105             6         611.45      3668.70   \n",
       "1               36            12        1236.66     14839.92   \n",
       "2              195            12        1225.62     14707.44   \n",
       "3              196             6         627.75      3766.50   \n",
       "4              197            18        1841.90     33154.20   \n",
       "5              198            18        1839.90     33118.20   \n",
       "6              199            18        1830.50     32949.00   \n",
       "7              200            18        1848.71     33276.78   \n",
       "\n",
       "   data_primeira_parcela  data_ultima_parcela  \n",
       "0               20310125             20310624  \n",
       "1               20301124             20311020  \n",
       "2               20300425             20310321  \n",
       "3               20300425             20300922  \n",
       "4               20300425             20310917  \n",
       "5               20300425             20310917  \n",
       "6               20300425             20310917  \n",
       "7               20300425             20310917  "
      ]
     },
     "execution_count": 17,
     "metadata": {},
     "output_type": "execute_result"
    }
   ],
   "source": [
    "# 3) Parcelamentos ativos e valores totais\n",
    "query3 = \"\"\"\n",
    "SELECT id_parcelamento, num_parcelas, valor_parcela, valor_total, data_primeira_parcela, data_ultima_parcela\n",
    "FROM dim_parcelamento\n",
    "ORDER BY data_primeira_parcela DESC\n",
    "LIMIT 8;\n",
    "\"\"\"\n",
    "df3 = pd.read_sql(query3, engine)\n",
    "df3"
   ]
  },
  {
   "cell_type": "code",
   "execution_count": null,
   "id": "fa47b6e7",
   "metadata": {},
   "outputs": [
    {
     "ename": "OperationalError",
     "evalue": "(sqlite3.OperationalError) ambiguous column name: id_data\n[SQL: \nSELECT ano, mes, SUM(d.valor) AS total_despesas\nFROM fato_despesas d\nJOIN dim_tempo t ON id_data\nGROUP BY ano, mes\nORDER BY ano DESC, mes DESC\nLIMIT 8;\n]\n(Background on this error at: https://sqlalche.me/e/20/e3q8)",
     "output_type": "error",
     "traceback": [
      "\u001b[31m---------------------------------------------------------------------------\u001b[39m",
      "\u001b[31mOperationalError\u001b[39m                          Traceback (most recent call last)",
      "\u001b[36mFile \u001b[39m\u001b[32mc:\\Users\\alvar\\git\\alu_consig_car\\hackathon2025\\.venv\\Lib\\site-packages\\sqlalchemy\\engine\\base.py:1963\u001b[39m, in \u001b[36mConnection._exec_single_context\u001b[39m\u001b[34m(self, dialect, context, statement, parameters)\u001b[39m\n\u001b[32m   1962\u001b[39m     \u001b[38;5;28;01mif\u001b[39;00m \u001b[38;5;129;01mnot\u001b[39;00m evt_handled:\n\u001b[32m-> \u001b[39m\u001b[32m1963\u001b[39m         \u001b[38;5;28;43mself\u001b[39;49m\u001b[43m.\u001b[49m\u001b[43mdialect\u001b[49m\u001b[43m.\u001b[49m\u001b[43mdo_execute\u001b[49m\u001b[43m(\u001b[49m\n\u001b[32m   1964\u001b[39m \u001b[43m            \u001b[49m\u001b[43mcursor\u001b[49m\u001b[43m,\u001b[49m\u001b[43m \u001b[49m\u001b[43mstr_statement\u001b[49m\u001b[43m,\u001b[49m\u001b[43m \u001b[49m\u001b[43meffective_parameters\u001b[49m\u001b[43m,\u001b[49m\u001b[43m \u001b[49m\u001b[43mcontext\u001b[49m\n\u001b[32m   1965\u001b[39m \u001b[43m        \u001b[49m\u001b[43m)\u001b[49m\n\u001b[32m   1967\u001b[39m \u001b[38;5;28;01mif\u001b[39;00m \u001b[38;5;28mself\u001b[39m._has_events \u001b[38;5;129;01mor\u001b[39;00m \u001b[38;5;28mself\u001b[39m.engine._has_events:\n",
      "\u001b[36mFile \u001b[39m\u001b[32mc:\\Users\\alvar\\git\\alu_consig_car\\hackathon2025\\.venv\\Lib\\site-packages\\sqlalchemy\\engine\\default.py:943\u001b[39m, in \u001b[36mDefaultDialect.do_execute\u001b[39m\u001b[34m(self, cursor, statement, parameters, context)\u001b[39m\n\u001b[32m    942\u001b[39m \u001b[38;5;28;01mdef\u001b[39;00m\u001b[38;5;250m \u001b[39m\u001b[34mdo_execute\u001b[39m(\u001b[38;5;28mself\u001b[39m, cursor, statement, parameters, context=\u001b[38;5;28;01mNone\u001b[39;00m):\n\u001b[32m--> \u001b[39m\u001b[32m943\u001b[39m     \u001b[43mcursor\u001b[49m\u001b[43m.\u001b[49m\u001b[43mexecute\u001b[49m\u001b[43m(\u001b[49m\u001b[43mstatement\u001b[49m\u001b[43m,\u001b[49m\u001b[43m \u001b[49m\u001b[43mparameters\u001b[49m\u001b[43m)\u001b[49m\n",
      "\u001b[31mOperationalError\u001b[39m: ambiguous column name: id_data",
      "\nThe above exception was the direct cause of the following exception:\n",
      "\u001b[31mOperationalError\u001b[39m                          Traceback (most recent call last)",
      "\u001b[36mCell\u001b[39m\u001b[36m \u001b[39m\u001b[32mIn[19]\u001b[39m\u001b[32m, line 11\u001b[39m\n\u001b[32m      1\u001b[39m \u001b[38;5;66;03m# X) Despesas por categoria e mês\u001b[39;00m\n\u001b[32m      2\u001b[39m query4 = \u001b[33m\"\"\"\u001b[39m\n\u001b[32m      3\u001b[39m \u001b[33mSELECT ano, mes, SUM(d.valor) AS total_despesas\u001b[39m\n\u001b[32m      4\u001b[39m \u001b[33mFROM fato_despesas d\u001b[39m\n\u001b[32m   (...)\u001b[39m\u001b[32m      8\u001b[39m \u001b[33mLIMIT 8;\u001b[39m\n\u001b[32m      9\u001b[39m \u001b[33m\"\"\"\u001b[39m\n\u001b[32m---> \u001b[39m\u001b[32m11\u001b[39m df4 = \u001b[43mpd\u001b[49m\u001b[43m.\u001b[49m\u001b[43mread_sql\u001b[49m\u001b[43m(\u001b[49m\u001b[43mquery4\u001b[49m\u001b[43m,\u001b[49m\u001b[43m \u001b[49m\u001b[43mengine\u001b[49m\u001b[43m)\u001b[49m\n\u001b[32m     12\u001b[39m \u001b[38;5;28mprint\u001b[39m(df4)\n",
      "\u001b[36mFile \u001b[39m\u001b[32mc:\\Users\\alvar\\git\\alu_consig_car\\hackathon2025\\.venv\\Lib\\site-packages\\pandas\\io\\sql.py:734\u001b[39m, in \u001b[36mread_sql\u001b[39m\u001b[34m(sql, con, index_col, coerce_float, params, parse_dates, columns, chunksize, dtype_backend, dtype)\u001b[39m\n\u001b[32m    724\u001b[39m     \u001b[38;5;28;01mreturn\u001b[39;00m pandas_sql.read_table(\n\u001b[32m    725\u001b[39m         sql,\n\u001b[32m    726\u001b[39m         index_col=index_col,\n\u001b[32m   (...)\u001b[39m\u001b[32m    731\u001b[39m         dtype_backend=dtype_backend,\n\u001b[32m    732\u001b[39m     )\n\u001b[32m    733\u001b[39m \u001b[38;5;28;01melse\u001b[39;00m:\n\u001b[32m--> \u001b[39m\u001b[32m734\u001b[39m     \u001b[38;5;28;01mreturn\u001b[39;00m \u001b[43mpandas_sql\u001b[49m\u001b[43m.\u001b[49m\u001b[43mread_query\u001b[49m\u001b[43m(\u001b[49m\n\u001b[32m    735\u001b[39m \u001b[43m        \u001b[49m\u001b[43msql\u001b[49m\u001b[43m,\u001b[49m\n\u001b[32m    736\u001b[39m \u001b[43m        \u001b[49m\u001b[43mindex_col\u001b[49m\u001b[43m=\u001b[49m\u001b[43mindex_col\u001b[49m\u001b[43m,\u001b[49m\n\u001b[32m    737\u001b[39m \u001b[43m        \u001b[49m\u001b[43mparams\u001b[49m\u001b[43m=\u001b[49m\u001b[43mparams\u001b[49m\u001b[43m,\u001b[49m\n\u001b[32m    738\u001b[39m \u001b[43m        \u001b[49m\u001b[43mcoerce_float\u001b[49m\u001b[43m=\u001b[49m\u001b[43mcoerce_float\u001b[49m\u001b[43m,\u001b[49m\n\u001b[32m    739\u001b[39m \u001b[43m        \u001b[49m\u001b[43mparse_dates\u001b[49m\u001b[43m=\u001b[49m\u001b[43mparse_dates\u001b[49m\u001b[43m,\u001b[49m\n\u001b[32m    740\u001b[39m \u001b[43m        \u001b[49m\u001b[43mchunksize\u001b[49m\u001b[43m=\u001b[49m\u001b[43mchunksize\u001b[49m\u001b[43m,\u001b[49m\n\u001b[32m    741\u001b[39m \u001b[43m        \u001b[49m\u001b[43mdtype_backend\u001b[49m\u001b[43m=\u001b[49m\u001b[43mdtype_backend\u001b[49m\u001b[43m,\u001b[49m\n\u001b[32m    742\u001b[39m \u001b[43m        \u001b[49m\u001b[43mdtype\u001b[49m\u001b[43m=\u001b[49m\u001b[43mdtype\u001b[49m\u001b[43m,\u001b[49m\n\u001b[32m    743\u001b[39m \u001b[43m    \u001b[49m\u001b[43m)\u001b[49m\n",
      "\u001b[36mFile \u001b[39m\u001b[32mc:\\Users\\alvar\\git\\alu_consig_car\\hackathon2025\\.venv\\Lib\\site-packages\\pandas\\io\\sql.py:1836\u001b[39m, in \u001b[36mSQLDatabase.read_query\u001b[39m\u001b[34m(self, sql, index_col, coerce_float, parse_dates, params, chunksize, dtype, dtype_backend)\u001b[39m\n\u001b[32m   1779\u001b[39m \u001b[38;5;28;01mdef\u001b[39;00m\u001b[38;5;250m \u001b[39m\u001b[34mread_query\u001b[39m(\n\u001b[32m   1780\u001b[39m     \u001b[38;5;28mself\u001b[39m,\n\u001b[32m   1781\u001b[39m     sql: \u001b[38;5;28mstr\u001b[39m,\n\u001b[32m   (...)\u001b[39m\u001b[32m   1788\u001b[39m     dtype_backend: DtypeBackend | Literal[\u001b[33m\"\u001b[39m\u001b[33mnumpy\u001b[39m\u001b[33m\"\u001b[39m] = \u001b[33m\"\u001b[39m\u001b[33mnumpy\u001b[39m\u001b[33m\"\u001b[39m,\n\u001b[32m   1789\u001b[39m ) -> DataFrame | Iterator[DataFrame]:\n\u001b[32m   1790\u001b[39m \u001b[38;5;250m    \u001b[39m\u001b[33;03m\"\"\"\u001b[39;00m\n\u001b[32m   1791\u001b[39m \u001b[33;03m    Read SQL query into a DataFrame.\u001b[39;00m\n\u001b[32m   1792\u001b[39m \n\u001b[32m   (...)\u001b[39m\u001b[32m   1834\u001b[39m \n\u001b[32m   1835\u001b[39m \u001b[33;03m    \"\"\"\u001b[39;00m\n\u001b[32m-> \u001b[39m\u001b[32m1836\u001b[39m     result = \u001b[38;5;28;43mself\u001b[39;49m\u001b[43m.\u001b[49m\u001b[43mexecute\u001b[49m\u001b[43m(\u001b[49m\u001b[43msql\u001b[49m\u001b[43m,\u001b[49m\u001b[43m \u001b[49m\u001b[43mparams\u001b[49m\u001b[43m)\u001b[49m\n\u001b[32m   1837\u001b[39m     columns = result.keys()\n\u001b[32m   1839\u001b[39m     \u001b[38;5;28;01mif\u001b[39;00m chunksize \u001b[38;5;129;01mis\u001b[39;00m \u001b[38;5;129;01mnot\u001b[39;00m \u001b[38;5;28;01mNone\u001b[39;00m:\n",
      "\u001b[36mFile \u001b[39m\u001b[32mc:\\Users\\alvar\\git\\alu_consig_car\\hackathon2025\\.venv\\Lib\\site-packages\\pandas\\io\\sql.py:1659\u001b[39m, in \u001b[36mSQLDatabase.execute\u001b[39m\u001b[34m(self, sql, params)\u001b[39m\n\u001b[32m   1657\u001b[39m args = [] \u001b[38;5;28;01mif\u001b[39;00m params \u001b[38;5;129;01mis\u001b[39;00m \u001b[38;5;28;01mNone\u001b[39;00m \u001b[38;5;28;01melse\u001b[39;00m [params]\n\u001b[32m   1658\u001b[39m \u001b[38;5;28;01mif\u001b[39;00m \u001b[38;5;28misinstance\u001b[39m(sql, \u001b[38;5;28mstr\u001b[39m):\n\u001b[32m-> \u001b[39m\u001b[32m1659\u001b[39m     \u001b[38;5;28;01mreturn\u001b[39;00m \u001b[38;5;28;43mself\u001b[39;49m\u001b[43m.\u001b[49m\u001b[43mcon\u001b[49m\u001b[43m.\u001b[49m\u001b[43mexec_driver_sql\u001b[49m\u001b[43m(\u001b[49m\u001b[43msql\u001b[49m\u001b[43m,\u001b[49m\u001b[43m \u001b[49m\u001b[43m*\u001b[49m\u001b[43margs\u001b[49m\u001b[43m)\u001b[49m\n\u001b[32m   1660\u001b[39m \u001b[38;5;28;01mreturn\u001b[39;00m \u001b[38;5;28mself\u001b[39m.con.execute(sql, *args)\n",
      "\u001b[36mFile \u001b[39m\u001b[32mc:\\Users\\alvar\\git\\alu_consig_car\\hackathon2025\\.venv\\Lib\\site-packages\\sqlalchemy\\engine\\base.py:1775\u001b[39m, in \u001b[36mConnection.exec_driver_sql\u001b[39m\u001b[34m(self, statement, parameters, execution_options)\u001b[39m\n\u001b[32m   1770\u001b[39m execution_options = \u001b[38;5;28mself\u001b[39m._execution_options.merge_with(\n\u001b[32m   1771\u001b[39m     execution_options\n\u001b[32m   1772\u001b[39m )\n\u001b[32m   1774\u001b[39m dialect = \u001b[38;5;28mself\u001b[39m.dialect\n\u001b[32m-> \u001b[39m\u001b[32m1775\u001b[39m ret = \u001b[38;5;28;43mself\u001b[39;49m\u001b[43m.\u001b[49m\u001b[43m_execute_context\u001b[49m\u001b[43m(\u001b[49m\n\u001b[32m   1776\u001b[39m \u001b[43m    \u001b[49m\u001b[43mdialect\u001b[49m\u001b[43m,\u001b[49m\n\u001b[32m   1777\u001b[39m \u001b[43m    \u001b[49m\u001b[43mdialect\u001b[49m\u001b[43m.\u001b[49m\u001b[43mexecution_ctx_cls\u001b[49m\u001b[43m.\u001b[49m\u001b[43m_init_statement\u001b[49m\u001b[43m,\u001b[49m\n\u001b[32m   1778\u001b[39m \u001b[43m    \u001b[49m\u001b[43mstatement\u001b[49m\u001b[43m,\u001b[49m\n\u001b[32m   1779\u001b[39m \u001b[43m    \u001b[49m\u001b[38;5;28;43;01mNone\u001b[39;49;00m\u001b[43m,\u001b[49m\n\u001b[32m   1780\u001b[39m \u001b[43m    \u001b[49m\u001b[43mexecution_options\u001b[49m\u001b[43m,\u001b[49m\n\u001b[32m   1781\u001b[39m \u001b[43m    \u001b[49m\u001b[43mstatement\u001b[49m\u001b[43m,\u001b[49m\n\u001b[32m   1782\u001b[39m \u001b[43m    \u001b[49m\u001b[43mdistilled_parameters\u001b[49m\u001b[43m,\u001b[49m\n\u001b[32m   1783\u001b[39m \u001b[43m\u001b[49m\u001b[43m)\u001b[49m\n\u001b[32m   1785\u001b[39m \u001b[38;5;28;01mreturn\u001b[39;00m ret\n",
      "\u001b[36mFile \u001b[39m\u001b[32mc:\\Users\\alvar\\git\\alu_consig_car\\hackathon2025\\.venv\\Lib\\site-packages\\sqlalchemy\\engine\\base.py:1842\u001b[39m, in \u001b[36mConnection._execute_context\u001b[39m\u001b[34m(self, dialect, constructor, statement, parameters, execution_options, *args, **kw)\u001b[39m\n\u001b[32m   1840\u001b[39m     \u001b[38;5;28;01mreturn\u001b[39;00m \u001b[38;5;28mself\u001b[39m._exec_insertmany_context(dialect, context)\n\u001b[32m   1841\u001b[39m \u001b[38;5;28;01melse\u001b[39;00m:\n\u001b[32m-> \u001b[39m\u001b[32m1842\u001b[39m     \u001b[38;5;28;01mreturn\u001b[39;00m \u001b[38;5;28;43mself\u001b[39;49m\u001b[43m.\u001b[49m\u001b[43m_exec_single_context\u001b[49m\u001b[43m(\u001b[49m\n\u001b[32m   1843\u001b[39m \u001b[43m        \u001b[49m\u001b[43mdialect\u001b[49m\u001b[43m,\u001b[49m\u001b[43m \u001b[49m\u001b[43mcontext\u001b[49m\u001b[43m,\u001b[49m\u001b[43m \u001b[49m\u001b[43mstatement\u001b[49m\u001b[43m,\u001b[49m\u001b[43m \u001b[49m\u001b[43mparameters\u001b[49m\n\u001b[32m   1844\u001b[39m \u001b[43m    \u001b[49m\u001b[43m)\u001b[49m\n",
      "\u001b[36mFile \u001b[39m\u001b[32mc:\\Users\\alvar\\git\\alu_consig_car\\hackathon2025\\.venv\\Lib\\site-packages\\sqlalchemy\\engine\\base.py:1982\u001b[39m, in \u001b[36mConnection._exec_single_context\u001b[39m\u001b[34m(self, dialect, context, statement, parameters)\u001b[39m\n\u001b[32m   1979\u001b[39m     result = context._setup_result_proxy()\n\u001b[32m   1981\u001b[39m \u001b[38;5;28;01mexcept\u001b[39;00m \u001b[38;5;167;01mBaseException\u001b[39;00m \u001b[38;5;28;01mas\u001b[39;00m e:\n\u001b[32m-> \u001b[39m\u001b[32m1982\u001b[39m     \u001b[38;5;28;43mself\u001b[39;49m\u001b[43m.\u001b[49m\u001b[43m_handle_dbapi_exception\u001b[49m\u001b[43m(\u001b[49m\n\u001b[32m   1983\u001b[39m \u001b[43m        \u001b[49m\u001b[43me\u001b[49m\u001b[43m,\u001b[49m\u001b[43m \u001b[49m\u001b[43mstr_statement\u001b[49m\u001b[43m,\u001b[49m\u001b[43m \u001b[49m\u001b[43meffective_parameters\u001b[49m\u001b[43m,\u001b[49m\u001b[43m \u001b[49m\u001b[43mcursor\u001b[49m\u001b[43m,\u001b[49m\u001b[43m \u001b[49m\u001b[43mcontext\u001b[49m\n\u001b[32m   1984\u001b[39m \u001b[43m    \u001b[49m\u001b[43m)\u001b[49m\n\u001b[32m   1986\u001b[39m \u001b[38;5;28;01mreturn\u001b[39;00m result\n",
      "\u001b[36mFile \u001b[39m\u001b[32mc:\\Users\\alvar\\git\\alu_consig_car\\hackathon2025\\.venv\\Lib\\site-packages\\sqlalchemy\\engine\\base.py:2351\u001b[39m, in \u001b[36mConnection._handle_dbapi_exception\u001b[39m\u001b[34m(self, e, statement, parameters, cursor, context, is_sub_exec)\u001b[39m\n\u001b[32m   2349\u001b[39m \u001b[38;5;28;01melif\u001b[39;00m should_wrap:\n\u001b[32m   2350\u001b[39m     \u001b[38;5;28;01massert\u001b[39;00m sqlalchemy_exception \u001b[38;5;129;01mis\u001b[39;00m \u001b[38;5;129;01mnot\u001b[39;00m \u001b[38;5;28;01mNone\u001b[39;00m\n\u001b[32m-> \u001b[39m\u001b[32m2351\u001b[39m     \u001b[38;5;28;01mraise\u001b[39;00m sqlalchemy_exception.with_traceback(exc_info[\u001b[32m2\u001b[39m]) \u001b[38;5;28;01mfrom\u001b[39;00m\u001b[38;5;250m \u001b[39m\u001b[34;01me\u001b[39;00m\n\u001b[32m   2352\u001b[39m \u001b[38;5;28;01melse\u001b[39;00m:\n\u001b[32m   2353\u001b[39m     \u001b[38;5;28;01massert\u001b[39;00m exc_info[\u001b[32m1\u001b[39m] \u001b[38;5;129;01mis\u001b[39;00m \u001b[38;5;129;01mnot\u001b[39;00m \u001b[38;5;28;01mNone\u001b[39;00m\n",
      "\u001b[36mFile \u001b[39m\u001b[32mc:\\Users\\alvar\\git\\alu_consig_car\\hackathon2025\\.venv\\Lib\\site-packages\\sqlalchemy\\engine\\base.py:1963\u001b[39m, in \u001b[36mConnection._exec_single_context\u001b[39m\u001b[34m(self, dialect, context, statement, parameters)\u001b[39m\n\u001b[32m   1961\u001b[39m                 \u001b[38;5;28;01mbreak\u001b[39;00m\n\u001b[32m   1962\u001b[39m     \u001b[38;5;28;01mif\u001b[39;00m \u001b[38;5;129;01mnot\u001b[39;00m evt_handled:\n\u001b[32m-> \u001b[39m\u001b[32m1963\u001b[39m         \u001b[38;5;28;43mself\u001b[39;49m\u001b[43m.\u001b[49m\u001b[43mdialect\u001b[49m\u001b[43m.\u001b[49m\u001b[43mdo_execute\u001b[49m\u001b[43m(\u001b[49m\n\u001b[32m   1964\u001b[39m \u001b[43m            \u001b[49m\u001b[43mcursor\u001b[49m\u001b[43m,\u001b[49m\u001b[43m \u001b[49m\u001b[43mstr_statement\u001b[49m\u001b[43m,\u001b[49m\u001b[43m \u001b[49m\u001b[43meffective_parameters\u001b[49m\u001b[43m,\u001b[49m\u001b[43m \u001b[49m\u001b[43mcontext\u001b[49m\n\u001b[32m   1965\u001b[39m \u001b[43m        \u001b[49m\u001b[43m)\u001b[49m\n\u001b[32m   1967\u001b[39m \u001b[38;5;28;01mif\u001b[39;00m \u001b[38;5;28mself\u001b[39m._has_events \u001b[38;5;129;01mor\u001b[39;00m \u001b[38;5;28mself\u001b[39m.engine._has_events:\n\u001b[32m   1968\u001b[39m     \u001b[38;5;28mself\u001b[39m.dispatch.after_cursor_execute(\n\u001b[32m   1969\u001b[39m         \u001b[38;5;28mself\u001b[39m,\n\u001b[32m   1970\u001b[39m         cursor,\n\u001b[32m   (...)\u001b[39m\u001b[32m   1974\u001b[39m         context.executemany,\n\u001b[32m   1975\u001b[39m     )\n",
      "\u001b[36mFile \u001b[39m\u001b[32mc:\\Users\\alvar\\git\\alu_consig_car\\hackathon2025\\.venv\\Lib\\site-packages\\sqlalchemy\\engine\\default.py:943\u001b[39m, in \u001b[36mDefaultDialect.do_execute\u001b[39m\u001b[34m(self, cursor, statement, parameters, context)\u001b[39m\n\u001b[32m    942\u001b[39m \u001b[38;5;28;01mdef\u001b[39;00m\u001b[38;5;250m \u001b[39m\u001b[34mdo_execute\u001b[39m(\u001b[38;5;28mself\u001b[39m, cursor, statement, parameters, context=\u001b[38;5;28;01mNone\u001b[39;00m):\n\u001b[32m--> \u001b[39m\u001b[32m943\u001b[39m     \u001b[43mcursor\u001b[49m\u001b[43m.\u001b[49m\u001b[43mexecute\u001b[49m\u001b[43m(\u001b[49m\u001b[43mstatement\u001b[49m\u001b[43m,\u001b[49m\u001b[43m \u001b[49m\u001b[43mparameters\u001b[49m\u001b[43m)\u001b[49m\n",
      "\u001b[31mOperationalError\u001b[39m: (sqlite3.OperationalError) ambiguous column name: id_data\n[SQL: \nSELECT ano, mes, SUM(d.valor) AS total_despesas\nFROM fato_despesas d\nJOIN dim_tempo t ON id_data\nGROUP BY ano, mes\nORDER BY ano DESC, mes DESC\nLIMIT 8;\n]\n(Background on this error at: https://sqlalche.me/e/20/e3q8)"
     ]
    }
   ],
   "source": [
    "# X) Despesas por categoria e mês\n",
    "query4 = \"\"\"\n",
    "SELECT ano, mes, SUM(valor) AS total_despesas\n",
    "FROM fato_despesas d\n",
    "JOIN dim_tempo t ON id_data\n",
    "GROUP BY ano, mes\n",
    "ORDER BY ano DESC, mes DESC\n",
    "LIMIT 8;\n",
    "\"\"\"\n",
    "\n",
    "df4 = pd.read_sql(query4, engine)\n",
    "print(df4)"
   ]
  },
  {
   "cell_type": "code",
   "execution_count": 21,
   "id": "aa8e8a9e",
   "metadata": {},
   "outputs": [
    {
     "data": {
      "application/vnd.microsoft.datawrangler.viewer.v0+json": {
       "columns": [
        {
         "name": "index",
         "rawType": "int64",
         "type": "integer"
        },
        {
         "name": "id_venda_consigcar",
         "rawType": "int64",
         "type": "integer"
        },
        {
         "name": "id_cliente",
         "rawType": "object",
         "type": "string"
        },
        {
         "name": "tipo_produto",
         "rawType": "object",
         "type": "string"
        },
        {
         "name": "id_parcelamento",
         "rawType": "int64",
         "type": "integer"
        },
        {
         "name": "id_vendedor",
         "rawType": "object",
         "type": "string"
        },
        {
         "name": "id_data",
         "rawType": "float64",
         "type": "float"
        }
       ],
       "conversionMethod": "pd.DataFrame",
       "ref": "35e71733-9373-423e-8512-332d48dda209",
       "rows": [
        [
         "0",
         "1",
         "Fernanda Gomes Ibrahim Campos",
         "Completa",
         "1",
         "Thiago",
         "20241111.0"
        ],
        [
         "1",
         "2",
         "Patrícia Zanetti Jardim Campos Souza",
         "Completa",
         "2",
         "Thiago",
         null
        ],
        [
         "2",
         "3",
         "Eduardo Yamada Dias Vieira Nogueira",
         "Completa",
         "3",
         "Thiago",
         null
        ],
        [
         "3",
         "4",
         "Thiago Lopes Xavier Queiroz",
         "Completa",
         "4",
         "Thiago",
         null
        ],
        [
         "4",
         "5",
         "Vanessa Yamada Farias Krause Teixeira",
         "Completa",
         "5",
         "Thiago",
         null
        ],
        [
         "5",
         "6",
         "Natália Oliveira Vieira Lopes Nogueira Costa",
         "Completa",
         "6",
         "Thiago",
         "20240111.0"
        ],
        [
         "6",
         "7",
         "Patrícia Machado Teixeira Zanetti Ibrahim Queiroz",
         "Completa",
         "7",
         "Fernanda",
         "20240110.0"
        ],
        [
         "7",
         "8",
         "Kleber Nogueira Costa Teixeira Silva Esteves",
         "Completa",
         "8",
         "Thiago",
         "20240710.0"
        ],
        [
         "8",
         "9",
         "Helena Oliveira Nogueira Esteves Zanetti",
         "Completa",
         "9",
         "Fernanda",
         "20240611.0"
        ],
        [
         "9",
         "10",
         "Fernanda Rodrigues Costa Uchoa Almeida",
         "Completa",
         "10",
         "Fernanda",
         "20240911.0"
        ]
       ],
       "shape": {
        "columns": 6,
        "rows": 10
       }
      },
      "text/html": [
       "<div>\n",
       "<style scoped>\n",
       "    .dataframe tbody tr th:only-of-type {\n",
       "        vertical-align: middle;\n",
       "    }\n",
       "\n",
       "    .dataframe tbody tr th {\n",
       "        vertical-align: top;\n",
       "    }\n",
       "\n",
       "    .dataframe thead th {\n",
       "        text-align: right;\n",
       "    }\n",
       "</style>\n",
       "<table border=\"1\" class=\"dataframe\">\n",
       "  <thead>\n",
       "    <tr style=\"text-align: right;\">\n",
       "      <th></th>\n",
       "      <th>id_venda_consigcar</th>\n",
       "      <th>id_cliente</th>\n",
       "      <th>tipo_produto</th>\n",
       "      <th>id_parcelamento</th>\n",
       "      <th>id_vendedor</th>\n",
       "      <th>id_data</th>\n",
       "    </tr>\n",
       "  </thead>\n",
       "  <tbody>\n",
       "    <tr>\n",
       "      <th>0</th>\n",
       "      <td>1</td>\n",
       "      <td>Fernanda Gomes Ibrahim Campos</td>\n",
       "      <td>Completa</td>\n",
       "      <td>1</td>\n",
       "      <td>Thiago</td>\n",
       "      <td>20241111.0</td>\n",
       "    </tr>\n",
       "    <tr>\n",
       "      <th>1</th>\n",
       "      <td>2</td>\n",
       "      <td>Patrícia Zanetti Jardim Campos Souza</td>\n",
       "      <td>Completa</td>\n",
       "      <td>2</td>\n",
       "      <td>Thiago</td>\n",
       "      <td>NaN</td>\n",
       "    </tr>\n",
       "    <tr>\n",
       "      <th>2</th>\n",
       "      <td>3</td>\n",
       "      <td>Eduardo Yamada Dias Vieira Nogueira</td>\n",
       "      <td>Completa</td>\n",
       "      <td>3</td>\n",
       "      <td>Thiago</td>\n",
       "      <td>NaN</td>\n",
       "    </tr>\n",
       "    <tr>\n",
       "      <th>3</th>\n",
       "      <td>4</td>\n",
       "      <td>Thiago Lopes Xavier Queiroz</td>\n",
       "      <td>Completa</td>\n",
       "      <td>4</td>\n",
       "      <td>Thiago</td>\n",
       "      <td>NaN</td>\n",
       "    </tr>\n",
       "    <tr>\n",
       "      <th>4</th>\n",
       "      <td>5</td>\n",
       "      <td>Vanessa Yamada Farias Krause Teixeira</td>\n",
       "      <td>Completa</td>\n",
       "      <td>5</td>\n",
       "      <td>Thiago</td>\n",
       "      <td>NaN</td>\n",
       "    </tr>\n",
       "    <tr>\n",
       "      <th>5</th>\n",
       "      <td>6</td>\n",
       "      <td>Natália Oliveira Vieira Lopes Nogueira Costa</td>\n",
       "      <td>Completa</td>\n",
       "      <td>6</td>\n",
       "      <td>Thiago</td>\n",
       "      <td>20240111.0</td>\n",
       "    </tr>\n",
       "    <tr>\n",
       "      <th>6</th>\n",
       "      <td>7</td>\n",
       "      <td>Patrícia Machado Teixeira Zanetti Ibrahim Queiroz</td>\n",
       "      <td>Completa</td>\n",
       "      <td>7</td>\n",
       "      <td>Fernanda</td>\n",
       "      <td>20240110.0</td>\n",
       "    </tr>\n",
       "    <tr>\n",
       "      <th>7</th>\n",
       "      <td>8</td>\n",
       "      <td>Kleber Nogueira Costa Teixeira Silva Esteves</td>\n",
       "      <td>Completa</td>\n",
       "      <td>8</td>\n",
       "      <td>Thiago</td>\n",
       "      <td>20240710.0</td>\n",
       "    </tr>\n",
       "    <tr>\n",
       "      <th>8</th>\n",
       "      <td>9</td>\n",
       "      <td>Helena Oliveira Nogueira Esteves Zanetti</td>\n",
       "      <td>Completa</td>\n",
       "      <td>9</td>\n",
       "      <td>Fernanda</td>\n",
       "      <td>20240611.0</td>\n",
       "    </tr>\n",
       "    <tr>\n",
       "      <th>9</th>\n",
       "      <td>10</td>\n",
       "      <td>Fernanda Rodrigues Costa Uchoa Almeida</td>\n",
       "      <td>Completa</td>\n",
       "      <td>10</td>\n",
       "      <td>Fernanda</td>\n",
       "      <td>20240911.0</td>\n",
       "    </tr>\n",
       "  </tbody>\n",
       "</table>\n",
       "</div>"
      ],
      "text/plain": [
       "   id_venda_consigcar                                         id_cliente  \\\n",
       "0                   1                      Fernanda Gomes Ibrahim Campos   \n",
       "1                   2               Patrícia Zanetti Jardim Campos Souza   \n",
       "2                   3                Eduardo Yamada Dias Vieira Nogueira   \n",
       "3                   4                        Thiago Lopes Xavier Queiroz   \n",
       "4                   5              Vanessa Yamada Farias Krause Teixeira   \n",
       "5                   6       Natália Oliveira Vieira Lopes Nogueira Costa   \n",
       "6                   7  Patrícia Machado Teixeira Zanetti Ibrahim Queiroz   \n",
       "7                   8       Kleber Nogueira Costa Teixeira Silva Esteves   \n",
       "8                   9           Helena Oliveira Nogueira Esteves Zanetti   \n",
       "9                  10             Fernanda Rodrigues Costa Uchoa Almeida   \n",
       "\n",
       "  tipo_produto  id_parcelamento id_vendedor     id_data  \n",
       "0     Completa                1      Thiago  20241111.0  \n",
       "1     Completa                2      Thiago         NaN  \n",
       "2     Completa                3      Thiago         NaN  \n",
       "3     Completa                4      Thiago         NaN  \n",
       "4     Completa                5      Thiago         NaN  \n",
       "5     Completa                6      Thiago  20240111.0  \n",
       "6     Completa                7    Fernanda  20240110.0  \n",
       "7     Completa                8      Thiago  20240710.0  \n",
       "8     Completa                9    Fernanda  20240611.0  \n",
       "9     Completa               10    Fernanda  20240911.0  "
      ]
     },
     "execution_count": 21,
     "metadata": {},
     "output_type": "execute_result"
    }
   ],
   "source": [
    "# 5) Select simples\n",
    "query5 = \"\"\"\n",
    "SELECT * FROM fato_vendas_consigcar\n",
    "\"\"\"\n",
    "df5 = pd.read_sql(query5, engine)\n",
    "df5.head(10)"
   ]
  }
 ],
 "metadata": {
  "kernelspec": {
   "display_name": ".venv",
   "language": "python",
   "name": "python3"
  },
  "language_info": {
   "codemirror_mode": {
    "name": "ipython",
    "version": 3
   },
   "file_extension": ".py",
   "mimetype": "text/x-python",
   "name": "python",
   "nbconvert_exporter": "python",
   "pygments_lexer": "ipython3",
   "version": "3.13.2"
  }
 },
 "nbformat": 4,
 "nbformat_minor": 5
}
