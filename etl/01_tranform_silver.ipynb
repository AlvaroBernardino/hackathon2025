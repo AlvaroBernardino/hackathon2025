{
 "cells": [
  {
   "cell_type": "code",
   "execution_count": 120,
   "id": "dc579002",
   "metadata": {},
   "outputs": [],
   "source": [
    "# Bibliotecas\n",
    "\n",
    "import pandas as pd\n",
    "import os\n",
    "from sqlalchemy import create_engine, inspect, text\n",
    "from io import BytesIO\n",
    "import requests\n",
    "from datetime import datetime\n",
    "from dateutil.relativedelta import relativedelta\n",
    "from utils import sql_to_dbml # Importando a função sql_to_dbml do arquivo utils.py"
   ]
  },
  {
   "cell_type": "code",
   "execution_count": 121,
   "id": "bfc76ab0",
   "metadata": {},
   "outputs": [],
   "source": [
    "# Dicionários e variáveis\n",
    "db_path_silver = \"../database/silver/01_silver.db\"\n",
    "dbml_path = \"../modelagem/01_silver.dbml\""
   ]
  },
  {
   "cell_type": "markdown",
   "id": "5d799863",
   "metadata": {},
   "source": [
    "## Criação das tabelas"
   ]
  },
  {
   "cell_type": "code",
   "execution_count": 122,
   "id": "12b0fff1",
   "metadata": {},
   "outputs": [],
   "source": [
    "# Cria conexão com banco de dados SQLite\n",
    "engine = create_engine(f\"sqlite:///{db_path_silver}\")"
   ]
  },
  {
   "cell_type": "code",
   "execution_count": 123,
   "id": "cb0da085",
   "metadata": {},
   "outputs": [],
   "source": [
    "# Cria as tabelas no banco de dados\n",
    "\n",
    "create_scripts = [\n",
    "    \"\"\"\n",
    "    CREATE TABLE IF NOT EXISTS dim_tempo (\n",
    "        id_data INTEGER PRIMARY KEY,\n",
    "        data DATE,\n",
    "        dia INTEGER,\n",
    "        mes INTEGER,\n",
    "        ano INTEGER,\n",
    "        nome_mes TEXT,\n",
    "        dia_da_semana TEXT,\n",
    "        trimestre INTEGER\n",
    "    );\n",
    "    \"\"\",\n",
    "    \"\"\"\n",
    "    CREATE TABLE IF NOT EXISTS dim_cliente (\n",
    "        id_cliente INTEGER PRIMARY KEY,\n",
    "        nome_cliente TEXT,\n",
    "        whatsapp TEXT\n",
    "    );\n",
    "    \"\"\",\n",
    "    \"\"\"\n",
    "    CREATE TABLE IF NOT EXISTS dim_vendedor (\n",
    "        id_vendedor INTEGER PRIMARY KEY,\n",
    "        nome_vendedor TEXT\n",
    "    );\n",
    "    \"\"\",\n",
    "    \"\"\"\n",
    "    CREATE TABLE IF NOT EXISTS dim_parcelamento (\n",
    "        id_parcelamento INTEGER PRIMARY KEY,\n",
    "        num_parcelas INTEGER,\n",
    "        valor_parcela REAL,\n",
    "        valor_total REAL,\n",
    "        data_primeira_parcela INTEGER,\n",
    "        data_ultima_parcela INTEGER\n",
    "    );\n",
    "    \"\"\",\n",
    "    \"\"\"\n",
    "    CREATE TABLE IF NOT EXISTS fato_vendas_alucar (\n",
    "        id_venda_alucar INTEGER PRIMARY KEY,\n",
    "        id_cliente INTEGER,\n",
    "        id_data INTEGER,\n",
    "        valor_venda REAL,\n",
    "        FOREIGN KEY(id_cliente) REFERENCES dim_cliente(id_cliente),\n",
    "        FOREIGN KEY(id_data) REFERENCES dim_tempo(id_data)\n",
    "    );\n",
    "    \"\"\",\n",
    "    \"\"\"\n",
    "    CREATE TABLE IF NOT EXISTS fato_vendas_consigcar (\n",
    "        id_venda_consigcar INTEGER PRIMARY KEY,\n",
    "        id_cliente INTEGER,\n",
    "        tipo_produto TEXT,\n",
    "        id_parcelamento INTEGER,\n",
    "        id_vendedor INTEGER,\n",
    "        id_data INTEGER,\n",
    "        FOREIGN KEY(id_cliente) REFERENCES dim_cliente(id_cliente),\n",
    "        FOREIGN KEY(id_parcelamento) REFERENCES dim_parcelamento(id_parcelamento),\n",
    "        FOREIGN KEY(id_vendedor) REFERENCES dim_vendedor(id_vendedor),\n",
    "        FOREIGN KEY(id_data) REFERENCES dim_tempo(id_data)\n",
    "    );\n",
    "    \"\"\",\n",
    "    \"\"\"\n",
    "    CREATE TABLE IF NOT EXISTS fato_despesas (\n",
    "        id_despesa INTEGER PRIMARY KEY,\n",
    "        origem TEXT,\n",
    "        categoria TEXT,\n",
    "        nome_despesa TEXT,\n",
    "        valor REAL,\n",
    "        id_data INTEGER,\n",
    "        FOREIGN KEY(id_data) REFERENCES dim_tempo(id_data)\n",
    "    );\n",
    "    \"\"\",\n",
    "    \"\"\"\n",
    "    CREATE TABLE IF NOT EXISTS fato_faturamento_pagseguro (\n",
    "        id_faturamento INTEGER PRIMARY KEY,\n",
    "        id_data INTEGER,\n",
    "        valor_faturado REAL,\n",
    "        FOREIGN KEY(id_data) REFERENCES dim_tempo(id_data)\n",
    "    );\n",
    "    \"\"\",\n",
    "    \"\"\"\n",
    "    CREATE TABLE IF NOT EXISTS fato_vendas_mensais_consigcar (\n",
    "        id_vendedor INTEGER,\n",
    "        id_data INTEGER,\n",
    "        valor_total REAL,\n",
    "        quantidade_vendas INTEGER,\n",
    "        bonus_salario REAL,\n",
    "        PRIMARY KEY (id_vendedor, id_data),\n",
    "        FOREIGN KEY(id_vendedor) REFERENCES dim_vendedor(id_vendedor),\n",
    "        FOREIGN KEY(id_data) REFERENCES dim_tempo(id_data)\n",
    "    );\n",
    "    \"\"\"\n",
    "]\n",
    "\n",
    "# Executa cada comando separadamente\n",
    "with engine.begin() as conn:\n",
    "    for stmt in create_scripts:\n",
    "        conn.execute(text(stmt))"
   ]
  },
  {
   "cell_type": "code",
   "execution_count": 124,
   "id": "ab2c911c",
   "metadata": {},
   "outputs": [],
   "source": [
    "# Transformar o banco de dados em DBML para acompanhamento da modelagem\n",
    "dbml = sql_to_dbml(engine)\n",
    "\n",
    "with open(dbml_path, \"w\", encoding=\"utf-8\") as f:\n",
    "    f.write(dbml)"
   ]
  },
  {
   "cell_type": "markdown",
   "id": "5d462284",
   "metadata": {},
   "source": [
    "## Carregamento e transformação dos dados da camada Bronze"
   ]
  },
  {
   "cell_type": "code",
   "execution_count": 125,
   "id": "5f3d224b",
   "metadata": {},
   "outputs": [],
   "source": [
    "# Paths dos bancos Bronze e Silver\n",
    "db_path_bronze1 = \"../database/bronze/00_base1.db\"\n",
    "db_path_bronze2 = \"../database/bronze/00_base2.db\"\n",
    "db_path_silver  = \"../database/silver/01_silver.db\""
   ]
  },
  {
   "cell_type": "code",
   "execution_count": 126,
   "id": "865b7f18",
   "metadata": {},
   "outputs": [],
   "source": [
    "# Engines de conexão\n",
    "engine_bronze1 = create_engine(f\"sqlite:///{db_path_bronze1}\")\n",
    "engine_bronze2 = create_engine(f\"sqlite:///{db_path_bronze2}\")\n",
    "engine_silver  = create_engine(f\"sqlite:///{db_path_silver}\")"
   ]
  },
  {
   "cell_type": "code",
   "execution_count": 127,
   "id": "021f026f",
   "metadata": {},
   "outputs": [
    {
     "data": {
      "text/plain": [
       "207"
      ]
     },
     "execution_count": 127,
     "metadata": {},
     "output_type": "execute_result"
    }
   ],
   "source": [
    "# 1) dim_cliente\n",
    "# Vem de: 00_base2.db.\"00_vendas_clientes_consigcar\".Nome, .WhatsApp\n",
    "df_clientes = pd.read_sql(\n",
    "    'SELECT DISTINCT Nome AS nome_cliente, WhatsApp AS whatsapp '\n",
    "    'FROM \"00_vendas_clientes_consigcar\"',\n",
    "    engine_bronze2\n",
    ")\n",
    "df_clientes.to_sql(\"dim_cliente\", engine_silver, if_exists=\"replace\", index_label=\"id_cliente\")"
   ]
  },
  {
   "cell_type": "code",
   "execution_count": 128,
   "id": "b944035b",
   "metadata": {},
   "outputs": [
    {
     "data": {
      "text/plain": [
       "7"
      ]
     },
     "execution_count": 128,
     "metadata": {},
     "output_type": "execute_result"
    }
   ],
   "source": [
    "# 2) dim_vendedor\n",
    "# Vem de: 00_base2.db.Vendedor\n",
    "df_vend = pd.read_sql(\n",
    "    'SELECT DISTINCT Vendedor AS nome_vendedor '\n",
    "    'FROM \"00_vendas_clientes_consigcar\"',\n",
    "    engine_bronze2\n",
    ")\n",
    "df_vend.to_sql(\"dim_vendedor\", engine_silver, if_exists=\"replace\", index_label=\"id_vendedor\")"
   ]
  },
  {
   "cell_type": "code",
   "execution_count": 129,
   "id": "aaecb2e7",
   "metadata": {},
   "outputs": [
    {
     "data": {
      "text/plain": [
       "4748"
      ]
     },
     "execution_count": 129,
     "metadata": {},
     "output_type": "execute_result"
    }
   ],
   "source": [
    "# 3) dim_tempo\n",
    "# Gera calendário de 2018-01-01 a 2030-12-31\n",
    "start = datetime(2018,1,1)\n",
    "end   = datetime(2030,12,31)\n",
    "dates = []\n",
    "while start <= end:\n",
    "    dates.append(start)\n",
    "    start += relativedelta(days=1)\n",
    "\n",
    "df_tempo = pd.DataFrame({\n",
    "    \"id_data\": [int(d.strftime(\"%Y%m%d\")) for d in dates],\n",
    "    \"data\": dates,\n",
    "})\n",
    "df_tempo[\"dia\"]           = df_tempo[\"data\"].dt.day\n",
    "df_tempo[\"mes\"]           = df_tempo[\"data\"].dt.month\n",
    "df_tempo[\"ano\"]           = df_tempo[\"data\"].dt.year\n",
    "df_tempo[\"nome_mes\"]      = df_tempo[\"data\"].dt.strftime(\"%B\")\n",
    "df_tempo[\"dia_da_semana\"] = df_tempo[\"data\"].dt.strftime(\"%A\")\n",
    "df_tempo[\"trimestre\"]     = df_tempo[\"data\"].dt.quarter\n",
    "\n",
    "df_tempo.to_sql(\"dim_tempo\", engine_silver, if_exists=\"replace\", index=False)"
   ]
  },
  {
   "cell_type": "code",
   "execution_count": 130,
   "id": "1b1c3488",
   "metadata": {},
   "outputs": [
    {
     "data": {
      "text/plain": [
       "207"
      ]
     },
     "execution_count": 130,
     "metadata": {},
     "output_type": "execute_result"
    }
   ],
   "source": [
    "# 4) dim_parcelamento\n",
    "# Vem de: 00_base2.db.\"00_vendas_clientes_consigcar\"\n",
    "\n",
    "df_parc = pd.read_sql(\n",
    "    'SELECT rowid AS id_parcelamento, '\n",
    "    '\"Quantidade de vezes\" AS num_parcelas, '\n",
    "    '\"Valor parcela\" AS valor_parcela, '\n",
    "    '\"Data do Pagamento\" AS data_pagamento '\n",
    "    'FROM \"00_vendas_clientes_consigcar\"',\n",
    "    engine_bronze2\n",
    ")\n",
    "\n",
    "# Limpeza prévia de strings suspeitas e conversão robusta de datas\n",
    "df_parc[\"data_pagamento\"] = df_parc[\"data_pagamento\"].astype(str).str.extract(\n",
    "    r'(\\d{1,2}[/\\-]\\d{1,2}[/\\-]\\d{2,4})'\n",
    ")[0]\n",
    "\n",
    "# Converte a data do pagamento para formato AAAAMMDD\n",
    "df_parc[\"data_primeira_parcela\"] = (\n",
    "    pd.to_datetime(df_parc[\"data_pagamento\"], format=\"mixed\", dayfirst=True, errors=\"coerce\")\n",
    "    .dt.strftime(\"%Y%m%d\")\n",
    "    .astype(\"Int64\")\n",
    ")\n",
    "\n",
    "# Calcula a data da última parcela com base na quantidade de parcelas\n",
    "df_parc[\"data_ultima_parcela\"] = (\n",
    "    pd.to_datetime(df_parc[\"data_pagamento\"], format=\"mixed\", dayfirst=True, errors=\"coerce\")\n",
    "    + pd.to_timedelta((df_parc[\"num_parcelas\"] - 1) * 30, unit=\"D\")  # Aproximação: 1 mês = 30 dias\n",
    ")\n",
    "df_parc[\"data_ultima_parcela\"] = (\n",
    "    df_parc[\"data_ultima_parcela\"].dt.strftime(\"%Y%m%d\").astype(\"Int64\")\n",
    ")\n",
    "\n",
    "# Calcula o valor total da compra (parcela * quantidade)\n",
    "df_parc[\"valor_total\"] = (df_parc[\"num_parcelas\"] * df_parc[\"valor_parcela\"]).round(2)\n",
    "\n",
    "# Exporta a tabela para a camada silver\n",
    "df_parc[[\n",
    "    \"id_parcelamento\", \"num_parcelas\", \"valor_parcela\",\n",
    "    \"valor_total\", \"data_primeira_parcela\", \"data_ultima_parcela\"\n",
    "]].to_sql(\"dim_parcelamento\", engine_silver, if_exists=\"replace\", index=False)\n"
   ]
  },
  {
   "cell_type": "code",
   "execution_count": 131,
   "id": "dbcb2a73",
   "metadata": {},
   "outputs": [
    {
     "data": {
      "text/plain": [
       "420"
      ]
     },
     "execution_count": 131,
     "metadata": {},
     "output_type": "execute_result"
    }
   ],
   "source": [
    "# 5) fato_despesas\n",
    "# Vem de: 00_base1.db.\"00_despesas_alucar\", \"00_despesas_consigcar\"\n",
    "\n",
    "# Leitura dos dados de despesas da Alucar\n",
    "df_alucar = pd.read_sql(\n",
    "    'SELECT DESPESAS AS nome_despesa, Valor AS valor, Mês AS mes '\n",
    "    'FROM \"00_despesas_alucar\"',\n",
    "    engine_bronze1\n",
    ")\n",
    "df_alucar[\"origem\"] = \"Alucar\"\n",
    "\n",
    "# Leitura dos dados de despesas da ConsigCar\n",
    "df_consig = pd.read_sql(\n",
    "    'SELECT DESPESAS AS nome_despesa, Valor AS valor, Mês AS mes '\n",
    "    'FROM \"00_despesas_consigcar\"',\n",
    "    engine_bronze1\n",
    ")\n",
    "df_consig[\"origem\"] = \"ConsigCar\"\n",
    "\n",
    "# Junta ambas as tabelas\n",
    "df_desp = pd.concat([df_alucar, df_consig], ignore_index=True)\n",
    "\n",
    "# Extrai data robustamente e cria id_data no formato YYYYMM01\n",
    "df_desp[\"mes\"] = df_desp[\"mes\"].astype(str).str.extract(\n",
    "    r'(\\d{1,2}[/\\-]\\d{2,4}|\\d{4}[/\\-]\\d{1,2})'\n",
    ")[0]\n",
    "df_desp[\"id_data\"] = (\n",
    "    pd.to_datetime(df_desp[\"mes\"], format=\"mixed\", dayfirst=True, errors=\"coerce\")\n",
    "    .dt.strftime(\"%Y%m01\")\n",
    "    .astype(\"Int64\")\n",
    ")\n",
    "\n",
    "# Coluna categoria (placeholder)\n",
    "df_desp[\"categoria\"] = \"NA\"  # Atualizar futuramente se a info vier do Excel\n",
    "\n",
    "# Exporta para camada silver\n",
    "df_desp[[\"origem\", \"categoria\", \"nome_despesa\", \"valor\", \"id_data\"]].to_sql(\n",
    "    \"fato_despesas\", engine_silver, if_exists=\"replace\", index_label=\"id_despesa\"\n",
    ")\n"
   ]
  },
  {
   "cell_type": "code",
   "execution_count": 132,
   "id": "87a7b738",
   "metadata": {},
   "outputs": [
    {
     "data": {
      "text/plain": [
       "4"
      ]
     },
     "execution_count": 132,
     "metadata": {},
     "output_type": "execute_result"
    }
   ],
   "source": [
    "# 6) fato_faturamento_pagseguro\n",
    "# Vem de: 00_base1.db.\"00_receita_pagseguro_consigcar\"\n",
    "df_pag = pd.read_sql(\n",
    "    'SELECT Data AS data, Valor AS valor_faturado '\n",
    "    'FROM \"00_receita_pagseguro_consigcar\"',\n",
    "    engine_bronze1\n",
    ")\n",
    "df_pag[\"id_data\"] = (\n",
    "    pd.to_datetime(df_pag[\"data\"], dayfirst=True)\n",
    "    .dt.strftime(\"%Y%m%d\")\n",
    "    .astype(int)\n",
    ")\n",
    "\n",
    "df_pag[[\"id_data\",\"valor_faturado\"]].to_sql(\n",
    "    \"fato_faturamento_pagseguro\", engine_silver, if_exists=\"replace\", index_label=\"id_faturamento\"\n",
    ")"
   ]
  },
  {
   "cell_type": "code",
   "execution_count": 133,
   "id": "7f4d95f8",
   "metadata": {},
   "outputs": [
    {
     "data": {
      "text/plain": [
       "81"
      ]
     },
     "execution_count": 133,
     "metadata": {},
     "output_type": "execute_result"
    }
   ],
   "source": [
    "# 7) fato_vendas_alucar\n",
    "# Vem de: 00_base1.db.\"00_vendas_clientes_alucar\"\n",
    "df_val = pd.read_sql(\n",
    "    'SELECT rowid AS id_venda_alucar, '\n",
    "    'Data AS data, '\n",
    "    '\"Valor Receita\" AS valor_venda '\n",
    "    'FROM \"00_vendas_clientes_alucar\"',\n",
    "    engine_bronze1\n",
    ")\n",
    "\n",
    "# Tratamento da data para criar id_data\n",
    "df_val[\"id_data\"] = (\n",
    "    pd.to_datetime(df_val[\"data\"], errors=\"coerce\", dayfirst=True)\n",
    "    .dt.strftime(\"%Y%m%d\")\n",
    "    .astype(\"Int64\")  # Usamos Int64 p/ permitir nulos se houver erro no parsing\n",
    ")\n",
    "\n",
    "df_val[[\"id_venda_alucar\", \"id_data\", \"valor_venda\"]].to_sql(\n",
    "    \"fato_vendas_alucar\", engine_silver, if_exists=\"replace\", index=False\n",
    ")\n"
   ]
  },
  {
   "cell_type": "code",
   "execution_count": 134,
   "id": "f8cc263f",
   "metadata": {},
   "outputs": [
    {
     "data": {
      "text/plain": [
       "207"
      ]
     },
     "execution_count": 134,
     "metadata": {},
     "output_type": "execute_result"
    }
   ],
   "source": [
    "# 8) fato_vendas_consigcar\n",
    "# Vem de: 00_base2.db.\"00_vendas_clientes_consigcar\"\n",
    "df_vc = pd.read_sql(\n",
    "    'SELECT rowid AS id_venda_consigcar, '\n",
    "    'Nome AS id_cliente, '\n",
    "    '\"Tipo Produto\" AS tipo_produto, '\n",
    "    'rowid AS id_parcelamento, '\n",
    "    'Vendedor AS id_vendedor, '\n",
    "    '\"Data do Pagamento\" AS data '\n",
    "    'FROM \"00_vendas_clientes_consigcar\"',\n",
    "    engine_bronze2\n",
    ")\n",
    "\n",
    "df_vc[\"id_data\"] = (\n",
    "    pd.to_datetime(df_vc[\"data\"], errors=\"coerce\", dayfirst=True)\n",
    "    .dt.strftime(\"%Y%m%d\")\n",
    "    .astype(\"Int64\")\n",
    ")\n",
    "\n",
    "df_vc[[\n",
    "    \"id_venda_consigcar\", \"id_cliente\", \"tipo_produto\",\n",
    "    \"id_parcelamento\", \"id_vendedor\", \"id_data\"\n",
    "]].to_sql(\n",
    "    \"fato_vendas_consigcar\",\n",
    "    engine_silver,\n",
    "    if_exists=\"replace\",\n",
    "    index=False\n",
    ")\n"
   ]
  },
  {
   "cell_type": "code",
   "execution_count": 135,
   "id": "d9bf77b5",
   "metadata": {},
   "outputs": [
    {
     "data": {
      "text/plain": [
       "49"
      ]
     },
     "execution_count": 135,
     "metadata": {},
     "output_type": "execute_result"
    }
   ],
   "source": [
    "# 9) fato_vendas_mensais_consigcar\n",
    "df_det = pd.read_sql(\"SELECT * FROM fato_vendas_consigcar\", engine_silver)\n",
    "df_grp = df_det.groupby([\"id_vendedor\",\"id_data\"]).agg(\n",
    "    valor_total=(\"id_venda_consigcar\",\"count\"),\n",
    "    quantidade_vendas=(\"id_venda_consigcar\",\"count\")\n",
    ").reset_index()\n",
    "\n",
    "def classifica_meta(q):\n",
    "    if q >= 42: return \"Meta 2\"\n",
    "    if q >= 30: return \"Meta 1\"\n",
    "    if q >= 18: return \"Bônus 1\"\n",
    "    return \"NA\"\n",
    "\n",
    "df_grp[\"bonus_meta\"] = df_grp[\"quantidade_vendas\"].apply(classifica_meta)\n",
    "df_grp.to_sql(\"fato_vendas_mensais_consigcar\", engine_silver, if_exists=\"replace\", index=False)"
   ]
  },
  {
   "cell_type": "code",
   "execution_count": 136,
   "id": "69eeb39f",
   "metadata": {},
   "outputs": [],
   "source": [
    "# Transformar o banco de dados em DBML para acompanhamento da modelagem\n",
    "\n",
    "dbml = sql_to_dbml(engine_silver)\n",
    "with open(\"../modelagem/01_silver.dbml\", \"w\", encoding=\"utf-8\") as f:\n",
    "    f.write(dbml)"
   ]
  }
 ],
 "metadata": {
  "kernelspec": {
   "display_name": ".venv",
   "language": "python",
   "name": "python3"
  },
  "language_info": {
   "codemirror_mode": {
    "name": "ipython",
    "version": 3
   },
   "file_extension": ".py",
   "mimetype": "text/x-python",
   "name": "python",
   "nbconvert_exporter": "python",
   "pygments_lexer": "ipython3",
   "version": "3.13.2"
  }
 },
 "nbformat": 4,
 "nbformat_minor": 5
}
