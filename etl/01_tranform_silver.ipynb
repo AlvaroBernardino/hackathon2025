{
 "cells": [
  {
   "cell_type": "code",
   "execution_count": 106,
   "id": "dc579002",
   "metadata": {},
   "outputs": [],
   "source": [
    "# Bibliotecas\n",
    "\n",
    "import pandas as pd\n",
    "import os\n",
    "from sqlalchemy import create_engine, inspect, text\n",
    "from io import BytesIO\n",
    "import requests\n",
    "from datetime import datetime\n",
    "from dateutil.relativedelta import relativedelta\n",
    "from utils import sql_to_dbml\n",
    "from utils import classificar_despesa\n",
    "from utils import convert_iddata"
   ]
  },
  {
   "cell_type": "code",
   "execution_count": 107,
   "id": "bfc76ab0",
   "metadata": {},
   "outputs": [],
   "source": [
    "# Dicionários e variáveis\n",
    "db_path_silver = \"../database/silver/01_silver.db\"\n",
    "dbml_path = \"../modelagem/01_silver.dbml\""
   ]
  },
  {
   "cell_type": "markdown",
   "id": "5d799863",
   "metadata": {},
   "source": [
    "## Criação das tabelas"
   ]
  },
  {
   "cell_type": "code",
   "execution_count": 108,
   "id": "12b0fff1",
   "metadata": {},
   "outputs": [],
   "source": [
    "# Cria conexão com banco de dados SQLite\n",
    "engine = create_engine(f\"sqlite:///{db_path_silver}\")"
   ]
  },
  {
   "cell_type": "code",
   "execution_count": 109,
   "id": "cb0da085",
   "metadata": {},
   "outputs": [],
   "source": [
    "# Cria tabelas\n",
    "create_scripts = [\n",
    "    \"\"\"\n",
    "    CREATE TABLE IF NOT EXISTS s_dim_tempo (\n",
    "        id_data INTEGER PRIMARY KEY,\n",
    "        data DATE,\n",
    "        dia TINYINT,\n",
    "        mes TINYINT,\n",
    "        ano SMALLINT,\n",
    "        nome_mes VARCHAR(15),\n",
    "        dia_da_semana VARCHAR(10),\n",
    "        trimestre TINYINT\n",
    "    );\n",
    "    \"\"\",\n",
    "    \"\"\"\n",
    "    CREATE TABLE IF NOT EXISTS s_dim_cliente (\n",
    "        id_cliente INTEGER PRIMARY KEY,\n",
    "        nome_cliente TEXT,\n",
    "        whatsapp VARCHAR(20)\n",
    "    );\n",
    "    \"\"\",\n",
    "    \"\"\"\n",
    "    CREATE TABLE IF NOT EXISTS s_dim_vendedor (\n",
    "        id_vendedor INTEGER PRIMARY KEY,\n",
    "        nome_vendedor TEXT\n",
    "    );\n",
    "    \"\"\",\n",
    "    \"\"\"\n",
    "    CREATE TABLE IF NOT EXISTS s_dim_parcelamento (\n",
    "        id_parcelamento INTEGER PRIMARY KEY,\n",
    "        num_parcelas SMALLINT,\n",
    "        valor_parcela DECIMAL(10,2),\n",
    "        valor_total DECIMAL(10,2),\n",
    "        data_primeira_parcela INTEGER,\n",
    "        data_ultima_parcela INTEGER\n",
    "    );\n",
    "    \"\"\",\n",
    "    \"\"\"\n",
    "    CREATE TABLE IF NOT EXISTS s_fato_vendas_alucar (\n",
    "        id_venda_alucar INTEGER PRIMARY KEY,\n",
    "        id_cliente INTEGER,\n",
    "        id_data INTEGER,\n",
    "        valor_venda DECIMAL(10,2),\n",
    "        FOREIGN KEY(id_cliente) REFERENCES s_dim_cliente(id_cliente),\n",
    "        FOREIGN KEY(id_data) REFERENCES s_dim_tempo(id_data)\n",
    "    );\n",
    "    \"\"\",\n",
    "    \"\"\"\n",
    "    CREATE TABLE IF NOT EXISTS s_fato_vendas_consigcar (\n",
    "        id_venda_consigcar INTEGER PRIMARY KEY,\n",
    "        id_cliente INTEGER,\n",
    "        tipo_produto VARCHAR(20),\n",
    "        id_parcelamento INTEGER,\n",
    "        id_vendedor INTEGER,\n",
    "        id_data INTEGER,\n",
    "        FOREIGN KEY(id_cliente) REFERENCES s_dim_cliente(id_cliente),\n",
    "        FOREIGN KEY(id_parcelamento) REFERENCES s_dim_parcelamento(id_parcelamento),\n",
    "        FOREIGN KEY(id_vendedor) REFERENCES s_dim_vendedor(id_vendedor),\n",
    "        FOREIGN KEY(id_data) REFERENCES s_dim_tempo(id_data)\n",
    "    );\n",
    "    \"\"\",\n",
    "    \"\"\"\n",
    "    CREATE TABLE IF NOT EXISTS s_fato_despesas (\n",
    "        id_despesa INTEGER PRIMARY KEY,\n",
    "        origem TEXT,\n",
    "        categoria TEXT,\n",
    "        nome_despesa TEXT,\n",
    "        valor DECIMAL(10,2),\n",
    "        id_data INTEGER,\n",
    "        FOREIGN KEY(id_data) REFERENCES s_dim_tempo(id_data)\n",
    "    );\n",
    "    \"\"\",\n",
    "    \"\"\"\n",
    "    CREATE TABLE IF NOT EXISTS s_fato_faturamento_pagseguro (\n",
    "        id_faturamento INTEGER PRIMARY KEY,\n",
    "        id_data INTEGER,\n",
    "        valor_faturado DECIMAL(10,2),\n",
    "        FOREIGN KEY(id_data) REFERENCES s_dim_tempo(id_data)\n",
    "    );\n",
    "    \"\"\",\n",
    "    \"\"\"\n",
    "    CREATE TABLE IF NOT EXISTS s_fato_vendas_diaria_vendedor (\n",
    "        id_vendedor INTEGER NOT NULL,\n",
    "        id_data INTEGER NOT NULL,\n",
    "        total_vendas SMALLINT NOT NULL,\n",
    "        valor_total DECIMAL(10,2) NOT NULL,\n",
    "        PRIMARY KEY (id_vendedor, id_data),\n",
    "        FOREIGN KEY (id_vendedor) REFERENCES s_dim_vendedor(id_vendedor),\n",
    "        FOREIGN KEY (id_data) REFERENCES s_dim_tempo(id_data)\n",
    "    );\n",
    "    \"\"\",\n",
    "    \"\"\"\n",
    "    CREATE TABLE IF NOT EXISTS s_dim_pagamentos_programados (\n",
    "        id_venda_consigcar BIGINT,\n",
    "        valor FLOAT,\n",
    "        id_data BIGINT,\n",
    "        PRIMARY KEY (id_venda_consigcar, id_data),\n",
    "        FOREIGN KEY (id_venda_consigcar) REFERENCES s_fato_vendas_consigcar(id_venda_consigcar)\n",
    "    );\n",
    "    \"\"\",\n",
    "    \"\"\"\n",
    "    CREATE TABLE IF NOT EXISTS s_fato_metas_alucar (\n",
    "        id_data INTEGER PRIMARY KEY,\n",
    "        meta_vendas_1_cum INTEGER,\n",
    "        meta_vendas_1_mes INTEGER,\n",
    "        meta_vendas_2_cum INTEGER,\n",
    "        meta_vendas_2_mes INTEGER,\n",
    "        FOREIGN KEY(id_data) REFERENCES s_dim_tempo(id_data)\n",
    "    );\n",
    "    \"\"\",\n",
    "    \"\"\"\n",
    "    CREATE TABLE IF NOT EXISTS s_fato_metas_consigcar (\n",
    "        id_data INTEGER PRIMARY KEY,\n",
    "        meta_vendas_1_cum INTEGER,\n",
    "        meta_vendas_1_mes INTEGER,\n",
    "        meta_vendas_2_cum INTEGER,\n",
    "        meta_vendas_2_mes INTEGER,\n",
    "        FOREIGN KEY(id_data) REFERENCES s_dim_tempo(id_data)\n",
    "    );\n",
    "    \"\"\",\n",
    "    \"\"\"\n",
    "    CREATE TABLE IF NOT EXISTS s_fato_vendas_clientes_alucar_estimativa (\n",
    "        id_data INTEGER PRIMARY KEY,\n",
    "        valor_receita_estimativa DECIMAL(10,2),\n",
    "        FOREIGN KEY(id_data) REFERENCES s_dim_tempo(id_data)\n",
    "    );\n",
    "    \"\"\"\n",
    "]\n",
    "\n",
    "# Executa cada comando separadamente\n",
    "with engine.begin() as conn:\n",
    "    for stmt in create_scripts:\n",
    "        conn.execute(text(stmt))"
   ]
  },
  {
   "cell_type": "code",
   "execution_count": 110,
   "id": "ab2c911c",
   "metadata": {},
   "outputs": [],
   "source": [
    "# Transformar o banco de dados em DBML para acompanhamento da modelagem\n",
    "dbml = sql_to_dbml(engine)\n",
    "\n",
    "with open(dbml_path, \"w\", encoding=\"utf-8\") as f:\n",
    "    f.write(dbml)"
   ]
  },
  {
   "cell_type": "markdown",
   "id": "5d462284",
   "metadata": {},
   "source": [
    "## Carregamento e transformação dos dados da camada Bronze"
   ]
  },
  {
   "cell_type": "code",
   "execution_count": 111,
   "id": "5f3d224b",
   "metadata": {},
   "outputs": [],
   "source": [
    "# Paths dos bancos Bronze e Silver\n",
    "db_path_bronze1 = \"../database/bronze/00_base1.db\"\n",
    "db_path_bronze2 = \"../database/bronze/00_base2.db\"\n",
    "db_path_silver  = \"../database/silver/01_silver.db\""
   ]
  },
  {
   "cell_type": "code",
   "execution_count": 112,
   "id": "865b7f18",
   "metadata": {},
   "outputs": [],
   "source": [
    "# Engines de conexão\n",
    "engine_bronze1 = create_engine(f\"sqlite:///{db_path_bronze1}\")\n",
    "engine_bronze2 = create_engine(f\"sqlite:///{db_path_bronze2}\")\n",
    "engine_silver  = create_engine(f\"sqlite:///{db_path_silver}\")"
   ]
  },
  {
   "cell_type": "code",
   "execution_count": 113,
   "id": "021f026f",
   "metadata": {},
   "outputs": [
    {
     "data": {
      "text/plain": [
       "288"
      ]
     },
     "execution_count": 113,
     "metadata": {},
     "output_type": "execute_result"
    }
   ],
   "source": [
    "# 1) s_dim_cliente\n",
    "# Vem de: b_vendas_clientes_consigcar e b_vendas_clientes_alucar\n",
    "# Unir dados das duas tabelas com empresa de origem e whatsapp quando disponível\n",
    "\n",
    "# Busca clientes da Consigcar\n",
    "df_clientes_consig = pd.read_sql(\n",
    "    'SELECT DISTINCT Nome AS nome_cliente, WhatsApp AS whatsapp '\n",
    "    'FROM \"b_vendas_clientes_consigcar\"',\n",
    "    engine_bronze2\n",
    ")\n",
    "df_clientes_consig['empresa'] = 'Consigcar'\n",
    "\n",
    "# Busca clientes da Alucar \n",
    "df_clientes_alu = pd.read_sql(\n",
    "    'SELECT DISTINCT \"Nome_(Alucar)\" AS nome_cliente '\n",
    "    'FROM \"b_vendas_clientes_alucar\"',\n",
    "    engine_bronze1\n",
    ")\n",
    "df_clientes_alu['whatsapp'] = pd.NA\n",
    "df_clientes_alu['empresa'] = 'Alucar'\n",
    "\n",
    "# Concatena os dois dataframes\n",
    "df_clientes = pd.concat([df_clientes_consig, df_clientes_alu], ignore_index=True)\n",
    "\n",
    "# Remove duplicatas mantendo a primeira ocorrência\n",
    "df_clientes = df_clientes.drop_duplicates(subset=['nome_cliente'])\n",
    "\n",
    "# Salva na tabela s_dim_cliente\n",
    "df_clientes.to_sql(\"s_dim_cliente\", engine_silver, if_exists=\"replace\", index_label=\"id_cliente\")"
   ]
  },
  {
   "cell_type": "code",
   "execution_count": 114,
   "id": "b944035b",
   "metadata": {},
   "outputs": [
    {
     "data": {
      "text/plain": [
       "7"
      ]
     },
     "execution_count": 114,
     "metadata": {},
     "output_type": "execute_result"
    }
   ],
   "source": [
    "# 2) s_dim_vendedor\n",
    "# Vem de: 00_base2.db.Vendedor\n",
    "df_vend = pd.read_sql(\n",
    "    'SELECT DISTINCT Vendedor AS nome_vendedor '\n",
    "    'FROM \"b_vendas_clientes_consigcar\"',\n",
    "    engine_bronze2\n",
    ")\n",
    "df_vend.to_sql(\"s_dim_vendedor\", engine_silver, if_exists=\"replace\", index_label=\"id_vendedor\")"
   ]
  },
  {
   "cell_type": "code",
   "execution_count": 115,
   "id": "aaecb2e7",
   "metadata": {},
   "outputs": [
    {
     "data": {
      "text/plain": [
       "4748"
      ]
     },
     "execution_count": 115,
     "metadata": {},
     "output_type": "execute_result"
    }
   ],
   "source": [
    "# 3) s_dim_tempo\n",
    "# Configurar o locale para português\n",
    "import locale\n",
    "locale.setlocale(locale.LC_TIME, 'pt_BR.UTF-8')\n",
    "\n",
    "# Gera calendário de 2018-01-01 a 2030-12-31\n",
    "start = datetime(2018,1,1)\n",
    "end   = datetime(2030,12,31)\n",
    "dates = []\n",
    "while start <= end:\n",
    "    dates.append(start)\n",
    "    start += relativedelta(days=1)\n",
    "\n",
    "df_tempo = pd.DataFrame({\n",
    "    \"id_data\": [int(d.strftime(\"%Y%m%d\")) for d in dates],\n",
    "    \"data\": dates,\n",
    "})\n",
    "df_tempo[\"dia\"]           = df_tempo[\"data\"].dt.day\n",
    "df_tempo[\"mes\"]           = df_tempo[\"data\"].dt.month\n",
    "df_tempo[\"ano\"]           = df_tempo[\"data\"].dt.year\n",
    "df_tempo[\"nome_mes\"]      = df_tempo[\"data\"].dt.strftime(\"%B\")\n",
    "df_tempo[\"dia_da_semana\"] = df_tempo[\"data\"].dt.day_name(locale='pt_BR')\n",
    "df_tempo[\"trimestre\"]     = df_tempo[\"data\"].dt.quarter\n",
    "\n",
    "df_tempo.to_sql(\"s_dim_tempo\", engine_silver, if_exists=\"replace\", index=False)"
   ]
  },
  {
   "cell_type": "code",
   "execution_count": 116,
   "id": "dbcb2a73",
   "metadata": {},
   "outputs": [
    {
     "data": {
      "text/plain": [
       "420"
      ]
     },
     "execution_count": 116,
     "metadata": {},
     "output_type": "execute_result"
    }
   ],
   "source": [
    "# 4) s_fato_despesas\n",
    "# Vem de: 00_base1.db.\"b_despesas_alucar\", \"b_despesas_consigcar\"\n",
    "\n",
    "# Leitura dos dados de despesas da Alucar\n",
    "df_alucar = pd.read_sql(\n",
    "    'SELECT DESPESAS AS nome_despesa, Valor AS valor, Mês AS mes '\n",
    "    'FROM \"b_despesas_alucar\"',\n",
    "    engine_bronze1\n",
    ")\n",
    "df_alucar[\"origem\"] = \"Alucar\"\n",
    "\n",
    "# Leitura dos dados de despesas da ConsigCar\n",
    "df_consig = pd.read_sql(\n",
    "    'SELECT DESPESAS AS nome_despesa, Valor AS valor, Mês AS mes '\n",
    "    'FROM \"b_despesas_consigcar\"',\n",
    "    engine_bronze1\n",
    ")\n",
    "df_consig[\"origem\"] = \"Consigcar\"\n",
    "\n",
    "# Junta ambas as tabelas\n",
    "df_desp = pd.concat([df_alucar, df_consig], ignore_index=True)\n",
    "\n",
    "# Remove o \"R$\" da coluna valor, substitui vírgula por ponto e converte para float\n",
    "df_desp['valor'] = (df_desp['valor']\n",
    "                    .str.replace('R$', '', regex=False)\n",
    "                    .str.replace('.', '', regex=False)\n",
    "                    .str.replace(',', '.', regex=False)\n",
    "                    .str.strip()\n",
    "                    .astype(float))\n",
    "\n",
    "# Dicionário para mapear nomes dos meses em português para números\n",
    "meses = {\n",
    "    'janeiro': '01', 'fevereiro': '02', 'março': '03', 'abril': '04',\n",
    "    'maio': '05', 'junho': '06', 'julho': '07', 'agosto': '08',\n",
    "    'setembro': '09', 'outubro': '10', 'novembro': '11', 'dezembro': '12'\n",
    "}\n",
    "\n",
    "# Função para converter o nome do mês para o formato de data desejado\n",
    "def converter_mes(mes):\n",
    "    mes = mes.lower().strip()\n",
    "    for nome, numero in meses.items():\n",
    "        if mes.startswith(nome):\n",
    "            return f\"2025-{numero}-01\"\n",
    "    return None\n",
    "\n",
    "# Converte o mês para a data no formato correto\n",
    "df_desp['data'] = df_desp['mes'].apply(converter_mes)\n",
    "\n",
    "# Converte para datetime e depois para o formato YYYYMMDD para id_data\n",
    "df_desp[\"id_data\"] = pd.to_datetime(df_desp[\"data\"]).dt.strftime(\"%Y%m%d\").astype(\"Int64\")\n",
    "\n",
    "# Coluna categoria (placeholder)\n",
    "df_desp['categoria'] = df_desp['nome_despesa'].apply(classificar_despesa)\n",
    "\n",
    "# Exporta para camada silver\n",
    "df_desp[[\"origem\", \"categoria\", \"nome_despesa\", \"valor\", \"id_data\"]].to_sql(\n",
    "    \"s_fato_despesas\", engine_silver, if_exists=\"replace\", index_label=\"id_despesa\"\n",
    ")\n",
    "\n",
    "# print(df_desp.iloc[10:20])\n"
   ]
  },
  {
   "cell_type": "code",
   "execution_count": 117,
   "id": "87a7b738",
   "metadata": {},
   "outputs": [
    {
     "data": {
      "text/plain": [
       "5"
      ]
     },
     "execution_count": 117,
     "metadata": {},
     "output_type": "execute_result"
    }
   ],
   "source": [
    "# 5) s_fato_faturamento_pagseguro\n",
    "# Vem de: 00_base1.db.\"b_receita_pagseguro_consigcar\"\n",
    "df_pag = pd.read_sql(\n",
    "    'SELECT Data AS data, Valor AS valor_faturado '\n",
    "    'FROM \"b_receita_pagseguro_consigcar\"',\n",
    "    engine_bronze1\n",
    ")\n",
    "\n",
    "df_pag[\"id_data\"] = (\n",
    "    pd.to_datetime(df_pag[\"data\"], dayfirst=False)\n",
    "    .dt.strftime(\"%Y%m%d\")\n",
    "    .astype(\"Int64\")\n",
    ")\n",
    "\n",
    "# Converter valor_faturado to float64\n",
    "df_pag[\"valor_faturado\"] = (\n",
    "    df_pag[\"valor_faturado\"]\n",
    "    .str.replace('R$', '', regex=False)  # Remove R$ symbol\n",
    "    .str.replace('.', '', regex=False)   # Remove thousands separator\n",
    "    .str.replace(',', '.', regex=False)  # Replace decimal comma with point\n",
    "    .str.strip()                         # Remove whitespace\n",
    "    .astype('float64')                   # Convert to float64\n",
    ")\n",
    "\n",
    "# Salvar na tabela s_fato_faturamento_pagseguro\n",
    "df_pag[[\"id_data\",\"valor_faturado\"]].to_sql(\n",
    "    \"s_fato_faturamento_pagseguro\", engine_silver, if_exists=\"replace\", index_label=\"id_faturamento\"\n",
    ")"
   ]
  },
  {
   "cell_type": "code",
   "execution_count": 118,
   "id": "7f4d95f8",
   "metadata": {},
   "outputs": [
    {
     "data": {
      "text/plain": [
       "81"
      ]
     },
     "execution_count": 118,
     "metadata": {},
     "output_type": "execute_result"
    }
   ],
   "source": [
    "# 6) s_fato_vendas_alucar\n",
    "# Vem de: 00_base1.db.\"b_vendas_clientes_alucar\"\n",
    "df_val = pd.read_sql(\n",
    "    'SELECT rowid AS id_venda_alucar, '\n",
    "    'Data AS data, '\n",
    "    '\"Valor_Receita\" AS valor_venda, '\n",
    "    '\"Nome_(Alucar)\" AS nome_cliente '\n",
    "    'FROM \"b_vendas_clientes_alucar\"',\n",
    "    engine_bronze1\n",
    ")\n",
    "\n",
    "# Obter id_cliente da s_dim_cliente baseado no nome_cliente\n",
    "df_clientes = pd.read_sql('SELECT id_cliente, nome_cliente FROM s_dim_cliente', engine_silver)\n",
    "df_val = df_val.merge(df_clientes, on='nome_cliente', how='left')\n",
    "\n",
    "# Convertendo data para YYYYMMDD\n",
    "df_val[\"id_data\"] = pd.to_datetime(df_val[\"data\"], format=\"%Y-%m-%d\").dt.strftime(\"%Y%m%d\").astype(\"Int64\")\n",
    "\n",
    "# Converter valor_venda de string (R$ X.XXX,XX) para float\n",
    "df_val[\"valor_venda\"] = (df_val[\"valor_venda\"]\n",
    "    .str.replace('R$', '', regex=False)  # Remove R$\n",
    "    .str.replace('.', '', regex=False)   # Remove pontos dos milhares\n",
    "    .str.replace(',', '.', regex=False)  # Substitui vírgula por ponto decimal\n",
    "    .str.strip()                         # Remove espaços\n",
    "    .astype(float)                       # Converte para float\n",
    "    .round(2)                           # Arredonda para 2 casas decimais\n",
    ")\n",
    "\n",
    "# Selecionar e salvar colunas relevantes na tabela s_fato\n",
    "df_val[[\"id_venda_alucar\", \"id_cliente\", \"id_data\", \"valor_venda\"]].to_sql(\n",
    "    \"s_fato_vendas_alucar\", \n",
    "    engine_silver,\n",
    "    if_exists=\"replace\", \n",
    "    index=False\n",
    ")\n",
    "\n",
    "\n"
   ]
  },
  {
   "cell_type": "code",
   "execution_count": 119,
   "id": "f8cc263f",
   "metadata": {},
   "outputs": [
    {
     "data": {
      "text/plain": [
       "207"
      ]
     },
     "execution_count": 119,
     "metadata": {},
     "output_type": "execute_result"
    }
   ],
   "source": [
    "# 7) s_fato_vendas_consigcar\n",
    "# Vem de: 00_base2.db.\"b_vendas_clientes_consigcar\"\n",
    "# Leitura dos dados da camada bronze\n",
    "df_cons = pd.read_sql(\n",
    "    'SELECT rowid AS id_venda_consigcar, '\n",
    "    'Nome AS nome_cliente, '\n",
    "    '\"Tipo Produto\" AS tipo_produto, '\n",
    "    '\"Quantidade de vezes\" AS num_parcelas, '\n",
    "    '\"Valor parcela\" AS valor_parcela, '\n",
    "    'Vendedor AS nome_vendedor, '\n",
    "    '\"Data do pagamento\" AS data_primeira_parcela '\n",
    "    'FROM \"b_vendas_clientes_consigcar\"',\n",
    "    engine_bronze2\n",
    ")\n",
    "\n",
    "# Calcular valor_total\n",
    "df_cons['valor_total'] = df_cons['num_parcelas'] * df_cons['valor_parcela']\n",
    "\n",
    "# Garantir que data_primeira_parcela esteja como datetime (caso já tenha sido convertida antes)\n",
    "df_cons['data_primeira_parcela'] = pd.to_datetime(df_cons['data_primeira_parcela'], errors='coerce')\n",
    "\n",
    "# Calcular data_ultima_parcela: data_primeira_parcela + (num_parcelas - 1) meses\n",
    "df_cons['data_ultima_parcela'] = df_cons.apply(\n",
    "    lambda row: row['data_primeira_parcela'] + relativedelta(months=int(row['num_parcelas']) - 1)\n",
    "    if pd.notnull(row['data_primeira_parcela']) and pd.notnull(row['num_parcelas']) else pd.NaT,\n",
    "    axis=1\n",
    ")\n",
    "\n",
    "# Formatar ambas as datas no final: YYYYMMDD como string, depois Int64\n",
    "df_cons['data_primeira_parcela'] = df_cons['data_primeira_parcela'].dt.strftime(\"%Y%m%d\").astype('Int64')\n",
    "df_cons['data_ultima_parcela'] = df_cons['data_ultima_parcela'].dt.strftime(\"%Y%m%d\").astype('Int64')\n",
    "\n",
    "# Obter id_cliente da s_dim_cliente baseado no nome_cliente\n",
    "df_clientes = pd.read_sql('SELECT id_cliente, nome_cliente FROM s_dim_cliente', engine_silver)\n",
    "df_cons = df_cons.merge(df_clientes, on='nome_cliente', how='left')\n",
    "\n",
    "# Obter id_vendedor da s_dim_vendedor\n",
    "df_vend = pd.read_sql('SELECT id_vendedor, nome_vendedor FROM s_dim_vendedor', engine_silver)\n",
    "df_cons = df_cons.merge(df_vend, on='nome_vendedor', how='left')\n",
    "\n",
    "# Selecionar e salvar colunas relevantes na tabela s_fato\n",
    "colunas_s_fato = [\n",
    "    \"id_venda_consigcar\", \"id_cliente\", \"tipo_produto\", \"id_vendedor\",\n",
    "    \"num_parcelas\", \"valor_parcela\", \"valor_total\",\n",
    "    \"data_primeira_parcela\", \"data_ultima_parcela\"\n",
    "]\n",
    "df_cons[colunas_s_fato].to_sql(\n",
    "    \"s_fato_vendas_consigcar\", \n",
    "    engine_silver,\n",
    "    if_exists=\"replace\",\n",
    "    index=False\n",
    ")\n",
    "\n",
    "# Verificar se há valores nulos após os merges\n",
    "#null_counts = df_cons[[\"id_cliente\", \"id_vendedor\"]].isnull().sum()\n",
    "#print(\"Contagem de valores nulos após os merges:\")\n",
    "#print(null_counts)\n",
    "\n",
    "# Se houver valores nulos, pode ser necessário investigar e tratar esses casos\n"
   ]
  },
  {
   "cell_type": "code",
   "execution_count": 120,
   "id": "dc2438a1",
   "metadata": {},
   "outputs": [
    {
     "data": {
      "text/plain": [
       "135"
      ]
     },
     "execution_count": 120,
     "metadata": {},
     "output_type": "execute_result"
    }
   ],
   "source": [
    "# 8) s_fato_vendas_diaria_vendedor\n",
    "# Vem de: s_fato_vendas_consigcar\n",
    "\n",
    "# Criar uma CTE para agregar vendas por vendedor e data\n",
    "query = \"\"\"\n",
    "WITH vendas_por_dia AS (\n",
    "    SELECT \n",
    "        v.id_vendedor,\n",
    "        t.id_data,\n",
    "        COUNT(*) as total_vendas,\n",
    "        SUM(v.valor_total) as valor_total\n",
    "    FROM s_fato_vendas_consigcar v\n",
    "    JOIN s_dim_tempo t ON CAST(v.data_primeira_parcela AS VARCHAR) = t.id_data\n",
    "    GROUP BY v.id_vendedor, t.id_data\n",
    ")\n",
    "SELECT *\n",
    "FROM vendas_por_dia\n",
    "\"\"\"\n",
    "\n",
    "# Executar a query e carregar em um DataFrame\n",
    "df_vendas_mensais = pd.read_sql(query, engine_silver)\n",
    "\n",
    "# Salvar a tabela s_fato_vendas_diaria_vendedor no banco de dados\n",
    "df_vendas_mensais.to_sql(\n",
    "    \"s_fato_vendas_diaria_vendedor\",\n",
    "    engine_silver,\n",
    "    if_exists=\"replace\", \n",
    "    index=False\n",
    ")"
   ]
  },
  {
   "cell_type": "code",
   "execution_count": 121,
   "id": "d2fb427c",
   "metadata": {},
   "outputs": [
    {
     "data": {
      "text/plain": [
       "2484"
      ]
     },
     "execution_count": 121,
     "metadata": {},
     "output_type": "execute_result"
    }
   ],
   "source": [
    "# 9) s_dim_pagamentos_programados\n",
    "# Vem de: s_fato_vendas_consigcar\n",
    "\n",
    "# Carregar os dados da tabela s_fato_vendas_consigcar\n",
    "df_vendas = pd.read_sql_table('s_fato_vendas_consigcar', engine_silver)\n",
    "\n",
    "# Função para gerar as datas de pagamento para cada venda\n",
    "def gerar_datas_pagamento(row):\n",
    "    data_inicial = pd.to_datetime(str(row['data_primeira_parcela']), format='%Y%m%d')\n",
    "    datas = [data_inicial + pd.DateOffset(months=i) for i in range(row['num_parcelas'])]\n",
    "    return pd.DataFrame({\n",
    "        'id_venda_consigcar': row['id_venda_consigcar'],\n",
    "        'valor': row['valor_parcela'],\n",
    "        'id_data': [data.strftime('%Y%m%d') for data in datas]\n",
    "    })\n",
    "\n",
    "# Aplicar a função para cada venda e concatenar os resultados\n",
    "df_pagamentos = pd.concat(df_vendas.apply(gerar_datas_pagamento, axis=1).tolist(), ignore_index=True)\n",
    "\n",
    "# Ordenar o DataFrame\n",
    "df_pagamentos = df_pagamentos.sort_values(['id_venda_consigcar', 'id_data'])\n",
    "\n",
    "# Salvar o DataFrame na tabela s_dim_pagamentos_programados\n",
    "df_pagamentos.to_sql('s_dim_pagamentos_programados', engine_silver, if_exists='replace', index=False)\n"
   ]
  },
  {
   "cell_type": "code",
   "execution_count": 122,
   "id": "f61b49f1",
   "metadata": {},
   "outputs": [
    {
     "data": {
      "text/plain": [
       "12"
      ]
     },
     "execution_count": 122,
     "metadata": {},
     "output_type": "execute_result"
    }
   ],
   "source": [
    "# 10) s_fato_metas_alucar\n",
    "# Vem de: 00_base1.db.\"b_metas_plr\"\n",
    "\n",
    "# Carregar os dados da tabela de metas\n",
    "df_metas_alu = pd.read_sql_table('b_metas_plr', engine_bronze1)\n",
    "\n",
    "# Converter a coluna Data para id_data\n",
    "df_metas_alu['id_data'] = convert_iddata(df_metas_alu, 'Data')\n",
    "\n",
    "# Selecionar e renomear colunas\n",
    "df_metas_alu = df_metas_alu[['id_data', 'Meta_1_ALUCAR', 'Meta_2_ALUCAR']]\n",
    "df_metas_alu = df_metas_alu.rename(columns={\n",
    "    'Meta_1_ALUCAR': 'meta_vendas_1_cum',\n",
    "    'Meta_2_ALUCAR': 'meta_vendas_2_cum'\n",
    "})\n",
    "\n",
    "# Calcular metas mensais\n",
    "df_metas_alu['meta_vendas_1_mes'] = df_metas_alu['meta_vendas_1_cum'].diff()\n",
    "df_metas_alu['meta_vendas_2_mes'] = df_metas_alu['meta_vendas_2_cum'].diff()\n",
    "\n",
    "# Para o primeiro mês, usar o valor cumulativo diretamente\n",
    "first_month_mask = df_metas_alu['id_data'].astype(str).str[-4:-2] == '01'\n",
    "df_metas_alu.loc[first_month_mask, 'meta_vendas_1_mes'] = df_metas_alu.loc[first_month_mask, 'meta_vendas_1_cum'].astype('int64')\n",
    "df_metas_alu.loc[first_month_mask, 'meta_vendas_2_mes'] = df_metas_alu.loc[first_month_mask, 'meta_vendas_2_cum'].astype('int64')\n",
    "\n",
    "# Salvar na tabela s_fato_metas_alucar\n",
    "df_metas_alu.to_sql('s_fato_metas_alucar', engine_silver, if_exists='replace', index=False)\n"
   ]
  },
  {
   "cell_type": "code",
   "execution_count": 123,
   "id": "3961b487",
   "metadata": {},
   "outputs": [
    {
     "data": {
      "text/plain": [
       "12"
      ]
     },
     "execution_count": 123,
     "metadata": {},
     "output_type": "execute_result"
    }
   ],
   "source": [
    "# 11) s_fato_metas_consigcar\n",
    "# Vem de: 00_base1.db.\"b_metas_plr\"\n",
    "\n",
    "# Carregar os dados da tabela de metas\n",
    "df_metas_consig = pd.read_sql_table('b_metas_plr', engine_bronze1)\n",
    "\n",
    "# Converter a coluna Data para id_data\n",
    "df_metas_consig['id_data'] = convert_iddata(df_metas_consig, 'Data')\n",
    "\n",
    "# Selecionar e renomear colunas\n",
    "df_metas_consig = df_metas_consig[['id_data', 'Meta_1_ConsigCar', 'Meta_2_ConsigCar']]\n",
    "df_metas_consig = df_metas_consig.rename(columns={\n",
    "    'Meta_1_ConsigCar': 'meta_vendas_1_cum',\n",
    "    'Meta_2_ConsigCar': 'meta_vendas_2_cum'\n",
    "})\n",
    "\n",
    "# Calcular metas mensais\n",
    "df_metas_consig['meta_vendas_1_mes'] = df_metas_consig['meta_vendas_1_cum'].diff()\n",
    "df_metas_consig['meta_vendas_2_mes'] = df_metas_consig['meta_vendas_2_cum'].diff()\n",
    "\n",
    "# Para o primeiro mês, usar o valor cumulativo diretamente\n",
    "first_month_mask = df_metas_consig['id_data'].astype(str).str[-4:-2] == '01'\n",
    "df_metas_consig.loc[first_month_mask, 'meta_vendas_1_mes'] = df_metas_consig.loc[first_month_mask, 'meta_vendas_1_cum'].astype('int64')\n",
    "df_metas_consig.loc[first_month_mask, 'meta_vendas_2_mes'] = df_metas_consig.loc[first_month_mask, 'meta_vendas_2_cum'].astype('int64')\n",
    "\n",
    "# Salvar na tabela s_fato_metas_consigcar\n",
    "df_metas_consig.to_sql('s_fato_metas_consigcar', engine_silver, if_exists='replace', index=False)"
   ]
  },
  {
   "cell_type": "code",
   "execution_count": 124,
   "id": "0718896b",
   "metadata": {},
   "outputs": [
    {
     "data": {
      "text/plain": [
       "88"
      ]
     },
     "execution_count": 124,
     "metadata": {},
     "output_type": "execute_result"
    }
   ],
   "source": [
    "# 12) s_fato_vendas_clientes_alucar_estimativa\n",
    "# Vem de: 00_base1.db.\"b_vendas_clientes_alucar_estimativa\"\n",
    "# Carregar dados da tabela de estimativa de vendas\n",
    "df_vendas_estimativa = pd.read_sql_table('b_vendas_clientes_alucar_estimativa', engine_bronze1)\n",
    "\n",
    "# Converter a coluna Data para id_data\n",
    "df_vendas_estimativa['id_data'] = convert_iddata(df_vendas_estimativa, 'Data')\n",
    "\n",
    "# Selecionar e renomear colunas\n",
    "df_vendas_estimativa = df_vendas_estimativa[['id_data', 'Valor_Receita']]\n",
    "df_vendas_estimativa = df_vendas_estimativa.rename(columns={'Valor_Receita': 'valor_receita_estimativa'})\n",
    "\n",
    "# Remover 'R$' e converter para valor numérico\n",
    "df_vendas_estimativa['valor_receita_estimativa'] = (\n",
    "    df_vendas_estimativa['valor_receita_estimativa']\n",
    "    .str.replace('R$', '')\n",
    "    .str.replace('.', '')\n",
    "    .str.replace(',', '.')\n",
    "    .astype(float)\n",
    ")\n",
    "\n",
    "# Salvar na tabela s_fato_vendas_clientes_alucar_estimativa\n",
    "df_vendas_estimativa.to_sql('s_fato_vendas_clientes_alucar_estimativa', engine_silver, if_exists='replace', index=False)"
   ]
  },
  {
   "cell_type": "code",
   "execution_count": 125,
   "id": "7f2acab8",
   "metadata": {},
   "outputs": [
    {
     "data": {
      "text/plain": [
       "13"
      ]
     },
     "execution_count": 125,
     "metadata": {},
     "output_type": "execute_result"
    }
   ],
   "source": [
    "# 13) s_fato_consigcar_estimativa\n",
    "# Carregar dados da tabela de estimativa de receita consigcar\n",
    "df_consig_estimativa = pd.read_sql_table('b_receita_consigcar_estimativa', engine_bronze1)\n",
    "\n",
    "# Converter a coluna Data para id_data\n",
    "df_consig_estimativa['id_data'] = pd.to_datetime(df_consig_estimativa['Data']).dt.strftime('%Y%m%d').astype('Int64')\n",
    "\n",
    "# Selecionar e renomear colunas\n",
    "df_consig_estimativa = df_consig_estimativa[['id_data', 'Valor']]\n",
    "df_consig_estimativa = df_consig_estimativa.rename(columns={'Valor': 'valor_receita_estimativa'})\n",
    "\n",
    "# Remover 'R$' e converter para valor numérico\n",
    "df_consig_estimativa['valor_receita_estimativa'] = (\n",
    "    df_consig_estimativa['valor_receita_estimativa']\n",
    "    .str.replace('R$', '')\n",
    "    .str.replace('.', '')\n",
    "    .str.replace(',', '.')\n",
    "    .astype(float)\n",
    ")\n",
    "\n",
    "# Salvar na tabela s_fato_consigcar_estimativa\n",
    "df_consig_estimativa.to_sql('s_fato_consigcar_estimativa', engine_silver, if_exists='replace', index=False)\n",
    "\n",
    "# print(df_consig_estimativa)"
   ]
  },
  {
   "cell_type": "code",
   "execution_count": 126,
   "id": "69eeb39f",
   "metadata": {},
   "outputs": [],
   "source": [
    "# Transformar o banco de dados em DBML para acompanhamento da modelagem\n",
    "\n",
    "dbml = sql_to_dbml(engine_silver)\n",
    "with open(\"../modelagem/01_silver.dbml\", \"w\", encoding=\"utf-8\") as f:\n",
    "    f.write(dbml)"
   ]
  }
 ],
 "metadata": {
  "kernelspec": {
   "display_name": "Python 3",
   "language": "python",
   "name": "python3"
  },
  "language_info": {
   "codemirror_mode": {
    "name": "ipython",
    "version": 3
   },
   "file_extension": ".py",
   "mimetype": "text/x-python",
   "name": "python",
   "nbconvert_exporter": "python",
   "pygments_lexer": "ipython3",
   "version": "3.13.2"
  }
 },
 "nbformat": 4,
 "nbformat_minor": 5
}
