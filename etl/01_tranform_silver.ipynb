{
 "cells": [
  {
   "cell_type": "code",
   "execution_count": 24,
   "id": "dc579002",
   "metadata": {},
   "outputs": [],
   "source": [
    "# Bibliotecas\n",
    "\n",
    "import pandas as pd\n",
    "import os\n",
    "from sqlalchemy import create_engine, inspect, text\n",
    "from io import BytesIO\n",
    "import requests\n",
    "from datetime import datetime\n",
    "from dateutil.relativedelta import relativedelta\n",
    "from utils import sql_to_dbml # Importando a função sql_to_dbml do arquivo utils.py"
   ]
  },
  {
   "cell_type": "code",
   "execution_count": 25,
   "id": "bfc76ab0",
   "metadata": {},
   "outputs": [],
   "source": [
    "# Dicionários e variáveis\n",
    "db_path_silver = \"../database/silver/01_silver.db\"\n",
    "dbml_path = \"../modelagem/01_silver.dbml\""
   ]
  },
  {
   "cell_type": "markdown",
   "id": "5d799863",
   "metadata": {},
   "source": [
    "## Criação das tabelas"
   ]
  },
  {
   "cell_type": "code",
   "execution_count": 26,
   "id": "12b0fff1",
   "metadata": {},
   "outputs": [],
   "source": [
    "# Cria conexão com banco de dados SQLite\n",
    "engine = create_engine(f\"sqlite:///{db_path_silver}\")"
   ]
  },
  {
   "cell_type": "code",
   "execution_count": 27,
   "id": "cb0da085",
   "metadata": {},
   "outputs": [],
   "source": [
    "# Cria as tabelas no banco de dados\n",
    "\n",
    "create_scripts = [\n",
    "    \"\"\"\n",
    "    CREATE TABLE IF NOT EXISTS dim_tempo (\n",
    "        id_data INTEGER PRIMARY KEY,\n",
    "        data DATE,\n",
    "        dia INTEGER,\n",
    "        mes INTEGER,\n",
    "        ano INTEGER,\n",
    "        nome_mes TEXT,\n",
    "        dia_da_semana TEXT,\n",
    "        trimestre INTEGER\n",
    "    );\n",
    "    \"\"\",\n",
    "    \"\"\"\n",
    "    CREATE TABLE IF NOT EXISTS dim_cliente (\n",
    "        id_cliente INTEGER PRIMARY KEY,\n",
    "        nome_cliente TEXT,\n",
    "        whatsapp TEXT\n",
    "    );\n",
    "    \"\"\",\n",
    "    \"\"\"\n",
    "    CREATE TABLE IF NOT EXISTS dim_vendedor (\n",
    "        id_vendedor INTEGER PRIMARY KEY,\n",
    "        nome_vendedor TEXT\n",
    "    );\n",
    "    \"\"\",\n",
    "    \"\"\"\n",
    "    CREATE TABLE IF NOT EXISTS dim_parcelamento (\n",
    "        id_parcelamento INTEGER PRIMARY KEY,\n",
    "        num_parcelas INTEGER,\n",
    "        valor_parcela REAL,\n",
    "        valor_total REAL,\n",
    "        data_primeira_parcela INTEGER,\n",
    "        data_ultima_parcela INTEGER\n",
    "    );\n",
    "    \"\"\",\n",
    "    \"\"\"\n",
    "    CREATE TABLE IF NOT EXISTS fato_vendas_alucar (\n",
    "        id_venda_alucar INTEGER PRIMARY KEY,\n",
    "        id_cliente INTEGER,\n",
    "        id_data INTEGER,\n",
    "        valor_venda REAL,\n",
    "        FOREIGN KEY(id_cliente) REFERENCES dim_cliente(id_cliente),\n",
    "        FOREIGN KEY(id_data) REFERENCES dim_tempo(id_data)\n",
    "    );\n",
    "    \"\"\",\n",
    "    \"\"\"\n",
    "    CREATE TABLE IF NOT EXISTS fato_vendas_consigcar (\n",
    "        id_venda_consigcar INTEGER PRIMARY KEY,\n",
    "        id_cliente INTEGER,\n",
    "        tipo_produto TEXT,\n",
    "        id_parcelamento INTEGER,\n",
    "        id_vendedor INTEGER,\n",
    "        id_data INTEGER,\n",
    "        FOREIGN KEY(id_cliente) REFERENCES dim_cliente(id_cliente),\n",
    "        FOREIGN KEY(id_parcelamento) REFERENCES dim_parcelamento(id_parcelamento),\n",
    "        FOREIGN KEY(id_vendedor) REFERENCES dim_vendedor(id_vendedor),\n",
    "        FOREIGN KEY(id_data) REFERENCES dim_tempo(id_data)\n",
    "    );\n",
    "    \"\"\",\n",
    "    \"\"\"\n",
    "    CREATE TABLE IF NOT EXISTS fato_despesas (\n",
    "        id_despesa INTEGER PRIMARY KEY,\n",
    "        origem TEXT,\n",
    "        categoria TEXT,\n",
    "        nome_despesa TEXT,\n",
    "        valor REAL,\n",
    "        id_data INTEGER,\n",
    "        FOREIGN KEY(id_data) REFERENCES dim_tempo(id_data)\n",
    "    );\n",
    "    \"\"\",\n",
    "    \"\"\"\n",
    "    CREATE TABLE IF NOT EXISTS fato_faturamento_pagseguro (\n",
    "        id_faturamento INTEGER PRIMARY KEY,\n",
    "        id_data INTEGER,\n",
    "        valor_faturado REAL,\n",
    "        FOREIGN KEY(id_data) REFERENCES dim_tempo(id_data)\n",
    "    );\n",
    "    \"\"\",\n",
    "    \"\"\"\n",
    "    CREATE TABLE IF NOT EXISTS fato_vendas_mensais_consigcar (\n",
    "        id_vendedor INTEGER,\n",
    "        id_data INTEGER,\n",
    "        valor_total REAL,\n",
    "        quantidade_vendas INTEGER,\n",
    "        bonus_salario REAL,\n",
    "        PRIMARY KEY (id_vendedor, id_data),\n",
    "        FOREIGN KEY(id_vendedor) REFERENCES dim_vendedor(id_vendedor),\n",
    "        FOREIGN KEY(id_data) REFERENCES dim_tempo(id_data)\n",
    "    );\n",
    "    \"\"\"\n",
    "]\n",
    "\n",
    "# Executa cada comando separadamente\n",
    "with engine.begin() as conn:\n",
    "    for stmt in create_scripts:\n",
    "        conn.execute(text(stmt))"
   ]
  },
  {
   "cell_type": "code",
   "execution_count": 28,
   "id": "ab2c911c",
   "metadata": {},
   "outputs": [],
   "source": [
    "# Transformar o banco de dados em DBML para acompanhamento da modelagem\n",
    "dbml = sql_to_dbml(engine)\n",
    "\n",
    "with open(dbml_path, \"w\", encoding=\"utf-8\") as f:\n",
    "    f.write(dbml)"
   ]
  },
  {
   "cell_type": "markdown",
   "id": "5d462284",
   "metadata": {},
   "source": [
    "## Carregamento e transformação dos dados da camada Bronze"
   ]
  },
  {
   "cell_type": "code",
   "execution_count": 29,
   "id": "5f3d224b",
   "metadata": {},
   "outputs": [],
   "source": [
    "# Paths dos bancos Bronze e Silver\n",
    "db_path_bronze1 = \"../database/bronze/00_base1.db\"\n",
    "db_path_bronze2 = \"../database/bronze/00_base2.db\"\n",
    "db_path_silver  = \"../database/silver/01_silver.db\""
   ]
  },
  {
   "cell_type": "code",
   "execution_count": 30,
   "id": "865b7f18",
   "metadata": {},
   "outputs": [],
   "source": [
    "# Engines de conexão\n",
    "engine_bronze1 = create_engine(f\"sqlite:///{db_path_bronze1}\")\n",
    "engine_bronze2 = create_engine(f\"sqlite:///{db_path_bronze2}\")\n",
    "engine_silver  = create_engine(f\"sqlite:///{db_path_silver}\")"
   ]
  },
  {
   "cell_type": "code",
   "execution_count": 31,
   "id": "021f026f",
   "metadata": {},
   "outputs": [
    {
     "ename": "PendingRollbackError",
     "evalue": "Can't reconnect until invalid transaction is rolled back.  Please rollback() fully before proceeding (Background on this error at: https://sqlalche.me/e/20/8s2b)",
     "output_type": "error",
     "traceback": [
      "\u001b[31m---------------------------------------------------------------------------\u001b[39m",
      "\u001b[31mPendingRollbackError\u001b[39m                      Traceback (most recent call last)",
      "\u001b[36mCell\u001b[39m\u001b[36m \u001b[39m\u001b[32mIn[31]\u001b[39m\u001b[32m, line 8\u001b[39m\n\u001b[32m      1\u001b[39m \u001b[38;5;66;03m# 1) dim_cliente\u001b[39;00m\n\u001b[32m      2\u001b[39m \u001b[38;5;66;03m# Vem de: 00_base2.db.\"00_vendas_clientes_consigcar\".Nome, .WhatsApp\u001b[39;00m\n\u001b[32m      3\u001b[39m df_clientes = pd.read_sql(\n\u001b[32m      4\u001b[39m     \u001b[33m'\u001b[39m\u001b[33mSELECT DISTINCT Nome AS nome_cliente, WhatsApp AS whatsapp \u001b[39m\u001b[33m'\u001b[39m\n\u001b[32m      5\u001b[39m     \u001b[33m'\u001b[39m\u001b[33mFROM \u001b[39m\u001b[33m\"\u001b[39m\u001b[33m00_vendas_clientes_consigcar\u001b[39m\u001b[33m\"\u001b[39m\u001b[33m'\u001b[39m,\n\u001b[32m      6\u001b[39m     engine_bronze2\n\u001b[32m      7\u001b[39m )\n\u001b[32m----> \u001b[39m\u001b[32m8\u001b[39m \u001b[43mdf_clientes\u001b[49m\u001b[43m.\u001b[49m\u001b[43mto_sql\u001b[49m\u001b[43m(\u001b[49m\u001b[33;43m\"\u001b[39;49m\u001b[33;43mdim_cliente\u001b[39;49m\u001b[33;43m\"\u001b[39;49m\u001b[43m,\u001b[49m\u001b[43m \u001b[49m\u001b[43mengine_silver\u001b[49m\u001b[43m,\u001b[49m\u001b[43m \u001b[49m\u001b[43mif_exists\u001b[49m\u001b[43m=\u001b[49m\u001b[33;43m\"\u001b[39;49m\u001b[33;43mreplace\u001b[39;49m\u001b[33;43m\"\u001b[39;49m\u001b[43m,\u001b[49m\u001b[43m \u001b[49m\u001b[43mindex_label\u001b[49m\u001b[43m=\u001b[49m\u001b[33;43m\"\u001b[39;49m\u001b[33;43mid_cliente\u001b[39;49m\u001b[33;43m\"\u001b[39;49m\u001b[43m)\u001b[49m\n",
      "\u001b[36mFile \u001b[39m\u001b[32mc:\\Users\\alvar\\git\\alu_consig_car\\hackathon2025\\hackathon2025\\.venv\\Lib\\site-packages\\pandas\\util\\_decorators.py:333\u001b[39m, in \u001b[36mdeprecate_nonkeyword_arguments.<locals>.decorate.<locals>.wrapper\u001b[39m\u001b[34m(*args, **kwargs)\u001b[39m\n\u001b[32m    327\u001b[39m \u001b[38;5;28;01mif\u001b[39;00m \u001b[38;5;28mlen\u001b[39m(args) > num_allow_args:\n\u001b[32m    328\u001b[39m     warnings.warn(\n\u001b[32m    329\u001b[39m         msg.format(arguments=_format_argument_list(allow_args)),\n\u001b[32m    330\u001b[39m         \u001b[38;5;167;01mFutureWarning\u001b[39;00m,\n\u001b[32m    331\u001b[39m         stacklevel=find_stack_level(),\n\u001b[32m    332\u001b[39m     )\n\u001b[32m--> \u001b[39m\u001b[32m333\u001b[39m \u001b[38;5;28;01mreturn\u001b[39;00m \u001b[43mfunc\u001b[49m\u001b[43m(\u001b[49m\u001b[43m*\u001b[49m\u001b[43margs\u001b[49m\u001b[43m,\u001b[49m\u001b[43m \u001b[49m\u001b[43m*\u001b[49m\u001b[43m*\u001b[49m\u001b[43mkwargs\u001b[49m\u001b[43m)\u001b[49m\n",
      "\u001b[36mFile \u001b[39m\u001b[32mc:\\Users\\alvar\\git\\alu_consig_car\\hackathon2025\\hackathon2025\\.venv\\Lib\\site-packages\\pandas\\core\\generic.py:3087\u001b[39m, in \u001b[36mNDFrame.to_sql\u001b[39m\u001b[34m(self, name, con, schema, if_exists, index, index_label, chunksize, dtype, method)\u001b[39m\n\u001b[32m   2889\u001b[39m \u001b[38;5;250m\u001b[39m\u001b[33;03m\"\"\"\u001b[39;00m\n\u001b[32m   2890\u001b[39m \u001b[33;03mWrite records stored in a DataFrame to a SQL database.\u001b[39;00m\n\u001b[32m   2891\u001b[39m \n\u001b[32m   (...)\u001b[39m\u001b[32m   3083\u001b[39m \u001b[33;03m[(1,), (None,), (2,)]\u001b[39;00m\n\u001b[32m   3084\u001b[39m \u001b[33;03m\"\"\"\u001b[39;00m  \u001b[38;5;66;03m# noqa: E501\u001b[39;00m\n\u001b[32m   3085\u001b[39m \u001b[38;5;28;01mfrom\u001b[39;00m\u001b[38;5;250m \u001b[39m\u001b[34;01mpandas\u001b[39;00m\u001b[34;01m.\u001b[39;00m\u001b[34;01mio\u001b[39;00m\u001b[38;5;250m \u001b[39m\u001b[38;5;28;01mimport\u001b[39;00m sql\n\u001b[32m-> \u001b[39m\u001b[32m3087\u001b[39m \u001b[38;5;28;01mreturn\u001b[39;00m \u001b[43msql\u001b[49m\u001b[43m.\u001b[49m\u001b[43mto_sql\u001b[49m\u001b[43m(\u001b[49m\n\u001b[32m   3088\u001b[39m \u001b[43m    \u001b[49m\u001b[38;5;28;43mself\u001b[39;49m\u001b[43m,\u001b[49m\n\u001b[32m   3089\u001b[39m \u001b[43m    \u001b[49m\u001b[43mname\u001b[49m\u001b[43m,\u001b[49m\n\u001b[32m   3090\u001b[39m \u001b[43m    \u001b[49m\u001b[43mcon\u001b[49m\u001b[43m,\u001b[49m\n\u001b[32m   3091\u001b[39m \u001b[43m    \u001b[49m\u001b[43mschema\u001b[49m\u001b[43m=\u001b[49m\u001b[43mschema\u001b[49m\u001b[43m,\u001b[49m\n\u001b[32m   3092\u001b[39m \u001b[43m    \u001b[49m\u001b[43mif_exists\u001b[49m\u001b[43m=\u001b[49m\u001b[43mif_exists\u001b[49m\u001b[43m,\u001b[49m\n\u001b[32m   3093\u001b[39m \u001b[43m    \u001b[49m\u001b[43mindex\u001b[49m\u001b[43m=\u001b[49m\u001b[43mindex\u001b[49m\u001b[43m,\u001b[49m\n\u001b[32m   3094\u001b[39m \u001b[43m    \u001b[49m\u001b[43mindex_label\u001b[49m\u001b[43m=\u001b[49m\u001b[43mindex_label\u001b[49m\u001b[43m,\u001b[49m\n\u001b[32m   3095\u001b[39m \u001b[43m    \u001b[49m\u001b[43mchunksize\u001b[49m\u001b[43m=\u001b[49m\u001b[43mchunksize\u001b[49m\u001b[43m,\u001b[49m\n\u001b[32m   3096\u001b[39m \u001b[43m    \u001b[49m\u001b[43mdtype\u001b[49m\u001b[43m=\u001b[49m\u001b[43mdtype\u001b[49m\u001b[43m,\u001b[49m\n\u001b[32m   3097\u001b[39m \u001b[43m    \u001b[49m\u001b[43mmethod\u001b[49m\u001b[43m=\u001b[49m\u001b[43mmethod\u001b[49m\u001b[43m,\u001b[49m\n\u001b[32m   3098\u001b[39m \u001b[43m\u001b[49m\u001b[43m)\u001b[49m\n",
      "\u001b[36mFile \u001b[39m\u001b[32mc:\\Users\\alvar\\git\\alu_consig_car\\hackathon2025\\hackathon2025\\.venv\\Lib\\site-packages\\pandas\\io\\sql.py:841\u001b[39m, in \u001b[36mto_sql\u001b[39m\u001b[34m(frame, name, con, schema, if_exists, index, index_label, chunksize, dtype, method, engine, **engine_kwargs)\u001b[39m\n\u001b[32m    836\u001b[39m \u001b[38;5;28;01melif\u001b[39;00m \u001b[38;5;129;01mnot\u001b[39;00m \u001b[38;5;28misinstance\u001b[39m(frame, DataFrame):\n\u001b[32m    837\u001b[39m     \u001b[38;5;28;01mraise\u001b[39;00m \u001b[38;5;167;01mNotImplementedError\u001b[39;00m(\n\u001b[32m    838\u001b[39m         \u001b[33m\"\u001b[39m\u001b[33m'\u001b[39m\u001b[33mframe\u001b[39m\u001b[33m'\u001b[39m\u001b[33m argument should be either a Series or a DataFrame\u001b[39m\u001b[33m\"\u001b[39m\n\u001b[32m    839\u001b[39m     )\n\u001b[32m--> \u001b[39m\u001b[32m841\u001b[39m \u001b[38;5;28;01mwith\u001b[39;00m pandasSQL_builder(con, schema=schema, need_transaction=\u001b[38;5;28;01mTrue\u001b[39;00m) \u001b[38;5;28;01mas\u001b[39;00m pandas_sql:\n\u001b[32m    842\u001b[39m     \u001b[38;5;28;01mreturn\u001b[39;00m pandas_sql.to_sql(\n\u001b[32m    843\u001b[39m         frame,\n\u001b[32m    844\u001b[39m         name,\n\u001b[32m   (...)\u001b[39m\u001b[32m    853\u001b[39m         **engine_kwargs,\n\u001b[32m    854\u001b[39m     )\n",
      "\u001b[36mFile \u001b[39m\u001b[32mc:\\Users\\alvar\\git\\alu_consig_car\\hackathon2025\\hackathon2025\\.venv\\Lib\\site-packages\\pandas\\io\\sql.py:1645\u001b[39m, in \u001b[36mSQLDatabase.__exit__\u001b[39m\u001b[34m(self, *args)\u001b[39m\n\u001b[32m   1643\u001b[39m \u001b[38;5;28;01mdef\u001b[39;00m\u001b[38;5;250m \u001b[39m\u001b[34m__exit__\u001b[39m(\u001b[38;5;28mself\u001b[39m, *args) -> \u001b[38;5;28;01mNone\u001b[39;00m:\n\u001b[32m   1644\u001b[39m     \u001b[38;5;28;01mif\u001b[39;00m \u001b[38;5;129;01mnot\u001b[39;00m \u001b[38;5;28mself\u001b[39m.returns_generator:\n\u001b[32m-> \u001b[39m\u001b[32m1645\u001b[39m         \u001b[38;5;28;43mself\u001b[39;49m\u001b[43m.\u001b[49m\u001b[43mexit_stack\u001b[49m\u001b[43m.\u001b[49m\u001b[43mclose\u001b[49m\u001b[43m(\u001b[49m\u001b[43m)\u001b[49m\n",
      "\u001b[36mFile \u001b[39m\u001b[32m~\\AppData\\Local\\Programs\\Python\\Python313\\Lib\\contextlib.py:627\u001b[39m, in \u001b[36mExitStack.close\u001b[39m\u001b[34m(self)\u001b[39m\n\u001b[32m    625\u001b[39m \u001b[38;5;28;01mdef\u001b[39;00m\u001b[38;5;250m \u001b[39m\u001b[34mclose\u001b[39m(\u001b[38;5;28mself\u001b[39m):\n\u001b[32m    626\u001b[39m \u001b[38;5;250m    \u001b[39m\u001b[33;03m\"\"\"Immediately unwind the context stack.\"\"\"\u001b[39;00m\n\u001b[32m--> \u001b[39m\u001b[32m627\u001b[39m     \u001b[38;5;28;43mself\u001b[39;49m\u001b[43m.\u001b[49m\u001b[34;43m__exit__\u001b[39;49m\u001b[43m(\u001b[49m\u001b[38;5;28;43;01mNone\u001b[39;49;00m\u001b[43m,\u001b[49m\u001b[43m \u001b[49m\u001b[38;5;28;43;01mNone\u001b[39;49;00m\u001b[43m,\u001b[49m\u001b[43m \u001b[49m\u001b[38;5;28;43;01mNone\u001b[39;49;00m\u001b[43m)\u001b[49m\n",
      "\u001b[36mFile \u001b[39m\u001b[32m~\\AppData\\Local\\Programs\\Python\\Python313\\Lib\\contextlib.py:619\u001b[39m, in \u001b[36mExitStack.__exit__\u001b[39m\u001b[34m(self, *exc_details)\u001b[39m\n\u001b[32m    615\u001b[39m \u001b[38;5;28;01mtry\u001b[39;00m:\n\u001b[32m    616\u001b[39m     \u001b[38;5;66;03m# bare \"raise exc\" replaces our carefully\u001b[39;00m\n\u001b[32m    617\u001b[39m     \u001b[38;5;66;03m# set-up context\u001b[39;00m\n\u001b[32m    618\u001b[39m     fixed_ctx = exc.__context__\n\u001b[32m--> \u001b[39m\u001b[32m619\u001b[39m     \u001b[38;5;28;01mraise\u001b[39;00m exc\n\u001b[32m    620\u001b[39m \u001b[38;5;28;01mexcept\u001b[39;00m \u001b[38;5;167;01mBaseException\u001b[39;00m:\n\u001b[32m    621\u001b[39m     exc.__context__ = fixed_ctx\n",
      "\u001b[36mFile \u001b[39m\u001b[32m~\\AppData\\Local\\Programs\\Python\\Python313\\Lib\\contextlib.py:604\u001b[39m, in \u001b[36mExitStack.__exit__\u001b[39m\u001b[34m(self, *exc_details)\u001b[39m\n\u001b[32m    602\u001b[39m \u001b[38;5;28;01melse\u001b[39;00m:\n\u001b[32m    603\u001b[39m     exc_details = \u001b[38;5;28mtype\u001b[39m(exc), exc, exc.__traceback__\n\u001b[32m--> \u001b[39m\u001b[32m604\u001b[39m \u001b[38;5;28;01mif\u001b[39;00m \u001b[43mcb\u001b[49m\u001b[43m(\u001b[49m\u001b[43m*\u001b[49m\u001b[43mexc_details\u001b[49m\u001b[43m)\u001b[49m:\n\u001b[32m    605\u001b[39m     suppressed_exc = \u001b[38;5;28;01mTrue\u001b[39;00m\n\u001b[32m    606\u001b[39m     pending_raise = \u001b[38;5;28;01mFalse\u001b[39;00m\n",
      "\u001b[36mFile \u001b[39m\u001b[32mc:\\Users\\alvar\\git\\alu_consig_car\\hackathon2025\\hackathon2025\\.venv\\Lib\\site-packages\\sqlalchemy\\engine\\util.py:147\u001b[39m, in \u001b[36mTransactionalContext.__exit__\u001b[39m\u001b[34m(self, type_, value, traceback)\u001b[39m\n\u001b[32m    145\u001b[39m     \u001b[38;5;28mself\u001b[39m.commit()\n\u001b[32m    146\u001b[39m \u001b[38;5;28;01mexcept\u001b[39;00m:\n\u001b[32m--> \u001b[39m\u001b[32m147\u001b[39m \u001b[43m    \u001b[49m\u001b[38;5;28;43;01mwith\u001b[39;49;00m\u001b[43m \u001b[49m\u001b[43mutil\u001b[49m\u001b[43m.\u001b[49m\u001b[43msafe_reraise\u001b[49m\u001b[43m(\u001b[49m\u001b[43m)\u001b[49m\u001b[43m:\u001b[49m\n\u001b[32m    148\u001b[39m \u001b[43m        \u001b[49m\u001b[38;5;28;43;01mif\u001b[39;49;00m\u001b[43m \u001b[49m\u001b[38;5;28;43mself\u001b[39;49m\u001b[43m.\u001b[49m\u001b[43m_rollback_can_be_called\u001b[49m\u001b[43m(\u001b[49m\u001b[43m)\u001b[49m\u001b[43m:\u001b[49m\n\u001b[32m    149\u001b[39m \u001b[43m            \u001b[49m\u001b[38;5;28;43mself\u001b[39;49m\u001b[43m.\u001b[49m\u001b[43mrollback\u001b[49m\u001b[43m(\u001b[49m\u001b[43m)\u001b[49m\n",
      "\u001b[36mFile \u001b[39m\u001b[32mc:\\Users\\alvar\\git\\alu_consig_car\\hackathon2025\\hackathon2025\\.venv\\Lib\\site-packages\\sqlalchemy\\util\\langhelpers.py:224\u001b[39m, in \u001b[36msafe_reraise.__exit__\u001b[39m\u001b[34m(self, type_, value, traceback)\u001b[39m\n\u001b[32m    222\u001b[39m     \u001b[38;5;28;01massert\u001b[39;00m exc_value \u001b[38;5;129;01mis\u001b[39;00m \u001b[38;5;129;01mnot\u001b[39;00m \u001b[38;5;28;01mNone\u001b[39;00m\n\u001b[32m    223\u001b[39m     \u001b[38;5;28mself\u001b[39m._exc_info = \u001b[38;5;28;01mNone\u001b[39;00m  \u001b[38;5;66;03m# remove potential circular references\u001b[39;00m\n\u001b[32m--> \u001b[39m\u001b[32m224\u001b[39m     \u001b[38;5;28;01mraise\u001b[39;00m exc_value.with_traceback(exc_tb)\n\u001b[32m    225\u001b[39m \u001b[38;5;28;01melse\u001b[39;00m:\n\u001b[32m    226\u001b[39m     \u001b[38;5;28mself\u001b[39m._exc_info = \u001b[38;5;28;01mNone\u001b[39;00m  \u001b[38;5;66;03m# remove potential circular references\u001b[39;00m\n",
      "\u001b[36mFile \u001b[39m\u001b[32mc:\\Users\\alvar\\git\\alu_consig_car\\hackathon2025\\hackathon2025\\.venv\\Lib\\site-packages\\sqlalchemy\\engine\\util.py:145\u001b[39m, in \u001b[36mTransactionalContext.__exit__\u001b[39m\u001b[34m(self, type_, value, traceback)\u001b[39m\n\u001b[32m    143\u001b[39m \u001b[38;5;28;01mif\u001b[39;00m type_ \u001b[38;5;129;01mis\u001b[39;00m \u001b[38;5;28;01mNone\u001b[39;00m \u001b[38;5;129;01mand\u001b[39;00m \u001b[38;5;28mself\u001b[39m._transaction_is_active():\n\u001b[32m    144\u001b[39m     \u001b[38;5;28;01mtry\u001b[39;00m:\n\u001b[32m--> \u001b[39m\u001b[32m145\u001b[39m         \u001b[38;5;28;43mself\u001b[39;49m\u001b[43m.\u001b[49m\u001b[43mcommit\u001b[49m\u001b[43m(\u001b[49m\u001b[43m)\u001b[49m\n\u001b[32m    146\u001b[39m     \u001b[38;5;28;01mexcept\u001b[39;00m:\n\u001b[32m    147\u001b[39m         \u001b[38;5;28;01mwith\u001b[39;00m util.safe_reraise():\n",
      "\u001b[36mFile \u001b[39m\u001b[32mc:\\Users\\alvar\\git\\alu_consig_car\\hackathon2025\\hackathon2025\\.venv\\Lib\\site-packages\\sqlalchemy\\engine\\base.py:2628\u001b[39m, in \u001b[36mTransaction.commit\u001b[39m\u001b[34m(self)\u001b[39m\n\u001b[32m   2612\u001b[39m \u001b[38;5;250m\u001b[39m\u001b[33;03m\"\"\"Commit this :class:`.Transaction`.\u001b[39;00m\n\u001b[32m   2613\u001b[39m \n\u001b[32m   2614\u001b[39m \u001b[33;03mThe implementation of this may vary based on the type of transaction in\u001b[39;00m\n\u001b[32m   (...)\u001b[39m\u001b[32m   2625\u001b[39m \n\u001b[32m   2626\u001b[39m \u001b[33;03m\"\"\"\u001b[39;00m\n\u001b[32m   2627\u001b[39m \u001b[38;5;28;01mtry\u001b[39;00m:\n\u001b[32m-> \u001b[39m\u001b[32m2628\u001b[39m     \u001b[38;5;28;43mself\u001b[39;49m\u001b[43m.\u001b[49m\u001b[43m_do_commit\u001b[49m\u001b[43m(\u001b[49m\u001b[43m)\u001b[49m\n\u001b[32m   2629\u001b[39m \u001b[38;5;28;01mfinally\u001b[39;00m:\n\u001b[32m   2630\u001b[39m     \u001b[38;5;28;01massert\u001b[39;00m \u001b[38;5;129;01mnot\u001b[39;00m \u001b[38;5;28mself\u001b[39m.is_active\n",
      "\u001b[36mFile \u001b[39m\u001b[32mc:\\Users\\alvar\\git\\alu_consig_car\\hackathon2025\\hackathon2025\\.venv\\Lib\\site-packages\\sqlalchemy\\engine\\base.py:2733\u001b[39m, in \u001b[36mRootTransaction._do_commit\u001b[39m\u001b[34m(self)\u001b[39m\n\u001b[32m   2730\u001b[39m \u001b[38;5;28;01massert\u001b[39;00m \u001b[38;5;28mself\u001b[39m.connection._transaction \u001b[38;5;129;01mis\u001b[39;00m \u001b[38;5;28mself\u001b[39m\n\u001b[32m   2732\u001b[39m \u001b[38;5;28;01mtry\u001b[39;00m:\n\u001b[32m-> \u001b[39m\u001b[32m2733\u001b[39m     \u001b[38;5;28;43mself\u001b[39;49m\u001b[43m.\u001b[49m\u001b[43m_connection_commit_impl\u001b[49m\u001b[43m(\u001b[49m\u001b[43m)\u001b[49m\n\u001b[32m   2734\u001b[39m \u001b[38;5;28;01mfinally\u001b[39;00m:\n\u001b[32m   2735\u001b[39m     \u001b[38;5;66;03m# whether or not commit succeeds, cancel any\u001b[39;00m\n\u001b[32m   2736\u001b[39m     \u001b[38;5;66;03m# nested transactions, make this transaction \"inactive\"\u001b[39;00m\n\u001b[32m   2737\u001b[39m     \u001b[38;5;66;03m# and remove it as a reset agent\u001b[39;00m\n\u001b[32m   2738\u001b[39m     \u001b[38;5;28;01mif\u001b[39;00m \u001b[38;5;28mself\u001b[39m.connection._nested_transaction:\n",
      "\u001b[36mFile \u001b[39m\u001b[32mc:\\Users\\alvar\\git\\alu_consig_car\\hackathon2025\\hackathon2025\\.venv\\Lib\\site-packages\\sqlalchemy\\engine\\base.py:2704\u001b[39m, in \u001b[36mRootTransaction._connection_commit_impl\u001b[39m\u001b[34m(self)\u001b[39m\n\u001b[32m   2703\u001b[39m \u001b[38;5;28;01mdef\u001b[39;00m\u001b[38;5;250m \u001b[39m\u001b[34m_connection_commit_impl\u001b[39m(\u001b[38;5;28mself\u001b[39m) -> \u001b[38;5;28;01mNone\u001b[39;00m:\n\u001b[32m-> \u001b[39m\u001b[32m2704\u001b[39m     \u001b[38;5;28;43mself\u001b[39;49m\u001b[43m.\u001b[49m\u001b[43mconnection\u001b[49m\u001b[43m.\u001b[49m\u001b[43m_commit_impl\u001b[49m\u001b[43m(\u001b[49m\u001b[43m)\u001b[49m\n",
      "\u001b[36mFile \u001b[39m\u001b[32mc:\\Users\\alvar\\git\\alu_consig_car\\hackathon2025\\hackathon2025\\.venv\\Lib\\site-packages\\sqlalchemy\\engine\\base.py:1143\u001b[39m, in \u001b[36mConnection._commit_impl\u001b[39m\u001b[34m(self)\u001b[39m\n\u001b[32m   1141\u001b[39m     \u001b[38;5;28mself\u001b[39m.engine.dialect.do_commit(\u001b[38;5;28mself\u001b[39m.connection)\n\u001b[32m   1142\u001b[39m \u001b[38;5;28;01mexcept\u001b[39;00m \u001b[38;5;167;01mBaseException\u001b[39;00m \u001b[38;5;28;01mas\u001b[39;00m e:\n\u001b[32m-> \u001b[39m\u001b[32m1143\u001b[39m     \u001b[38;5;28;43mself\u001b[39;49m\u001b[43m.\u001b[49m\u001b[43m_handle_dbapi_exception\u001b[49m\u001b[43m(\u001b[49m\u001b[43me\u001b[49m\u001b[43m,\u001b[49m\u001b[43m \u001b[49m\u001b[38;5;28;43;01mNone\u001b[39;49;00m\u001b[43m,\u001b[49m\u001b[43m \u001b[49m\u001b[38;5;28;43;01mNone\u001b[39;49;00m\u001b[43m,\u001b[49m\u001b[43m \u001b[49m\u001b[38;5;28;43;01mNone\u001b[39;49;00m\u001b[43m,\u001b[49m\u001b[43m \u001b[49m\u001b[38;5;28;43;01mNone\u001b[39;49;00m\u001b[43m)\u001b[49m\n",
      "\u001b[36mFile \u001b[39m\u001b[32mc:\\Users\\alvar\\git\\alu_consig_car\\hackathon2025\\hackathon2025\\.venv\\Lib\\site-packages\\sqlalchemy\\engine\\base.py:2354\u001b[39m, in \u001b[36mConnection._handle_dbapi_exception\u001b[39m\u001b[34m(self, e, statement, parameters, cursor, context, is_sub_exec)\u001b[39m\n\u001b[32m   2352\u001b[39m     \u001b[38;5;28;01melse\u001b[39;00m:\n\u001b[32m   2353\u001b[39m         \u001b[38;5;28;01massert\u001b[39;00m exc_info[\u001b[32m1\u001b[39m] \u001b[38;5;129;01mis\u001b[39;00m \u001b[38;5;129;01mnot\u001b[39;00m \u001b[38;5;28;01mNone\u001b[39;00m\n\u001b[32m-> \u001b[39m\u001b[32m2354\u001b[39m         \u001b[38;5;28;01mraise\u001b[39;00m exc_info[\u001b[32m1\u001b[39m].with_traceback(exc_info[\u001b[32m2\u001b[39m])\n\u001b[32m   2355\u001b[39m \u001b[38;5;28;01mfinally\u001b[39;00m:\n\u001b[32m   2356\u001b[39m     \u001b[38;5;28;01mdel\u001b[39;00m \u001b[38;5;28mself\u001b[39m._reentrant_error\n",
      "\u001b[36mFile \u001b[39m\u001b[32mc:\\Users\\alvar\\git\\alu_consig_car\\hackathon2025\\hackathon2025\\.venv\\Lib\\site-packages\\sqlalchemy\\engine\\base.py:1141\u001b[39m, in \u001b[36mConnection._commit_impl\u001b[39m\u001b[34m(self)\u001b[39m\n\u001b[32m   1139\u001b[39m         \u001b[38;5;28mself\u001b[39m._log_info(\u001b[33m\"\u001b[39m\u001b[33mCOMMIT\u001b[39m\u001b[33m\"\u001b[39m)\n\u001b[32m   1140\u001b[39m \u001b[38;5;28;01mtry\u001b[39;00m:\n\u001b[32m-> \u001b[39m\u001b[32m1141\u001b[39m     \u001b[38;5;28mself\u001b[39m.engine.dialect.do_commit(\u001b[38;5;28;43mself\u001b[39;49m\u001b[43m.\u001b[49m\u001b[43mconnection\u001b[49m)\n\u001b[32m   1142\u001b[39m \u001b[38;5;28;01mexcept\u001b[39;00m \u001b[38;5;167;01mBaseException\u001b[39;00m \u001b[38;5;28;01mas\u001b[39;00m e:\n\u001b[32m   1143\u001b[39m     \u001b[38;5;28mself\u001b[39m._handle_dbapi_exception(e, \u001b[38;5;28;01mNone\u001b[39;00m, \u001b[38;5;28;01mNone\u001b[39;00m, \u001b[38;5;28;01mNone\u001b[39;00m, \u001b[38;5;28;01mNone\u001b[39;00m)\n",
      "\u001b[36mFile \u001b[39m\u001b[32mc:\\Users\\alvar\\git\\alu_consig_car\\hackathon2025\\hackathon2025\\.venv\\Lib\\site-packages\\sqlalchemy\\engine\\base.py:583\u001b[39m, in \u001b[36mConnection.connection\u001b[39m\u001b[34m(self)\u001b[39m\n\u001b[32m    581\u001b[39m \u001b[38;5;28;01mif\u001b[39;00m \u001b[38;5;28mself\u001b[39m._dbapi_connection \u001b[38;5;129;01mis\u001b[39;00m \u001b[38;5;28;01mNone\u001b[39;00m:\n\u001b[32m    582\u001b[39m     \u001b[38;5;28;01mtry\u001b[39;00m:\n\u001b[32m--> \u001b[39m\u001b[32m583\u001b[39m         \u001b[38;5;28;01mreturn\u001b[39;00m \u001b[38;5;28;43mself\u001b[39;49m\u001b[43m.\u001b[49m\u001b[43m_revalidate_connection\u001b[49m\u001b[43m(\u001b[49m\u001b[43m)\u001b[49m\n\u001b[32m    584\u001b[39m     \u001b[38;5;28;01mexcept\u001b[39;00m (exc.PendingRollbackError, exc.ResourceClosedError):\n\u001b[32m    585\u001b[39m         \u001b[38;5;28;01mraise\u001b[39;00m\n",
      "\u001b[36mFile \u001b[39m\u001b[32mc:\\Users\\alvar\\git\\alu_consig_car\\hackathon2025\\hackathon2025\\.venv\\Lib\\site-packages\\sqlalchemy\\engine\\base.py:675\u001b[39m, in \u001b[36mConnection._revalidate_connection\u001b[39m\u001b[34m(self)\u001b[39m\n\u001b[32m    673\u001b[39m \u001b[38;5;28;01mif\u001b[39;00m \u001b[38;5;28mself\u001b[39m.__can_reconnect \u001b[38;5;129;01mand\u001b[39;00m \u001b[38;5;28mself\u001b[39m.invalidated:\n\u001b[32m    674\u001b[39m     \u001b[38;5;28;01mif\u001b[39;00m \u001b[38;5;28mself\u001b[39m._transaction \u001b[38;5;129;01mis\u001b[39;00m \u001b[38;5;129;01mnot\u001b[39;00m \u001b[38;5;28;01mNone\u001b[39;00m:\n\u001b[32m--> \u001b[39m\u001b[32m675\u001b[39m         \u001b[38;5;28;43mself\u001b[39;49m\u001b[43m.\u001b[49m\u001b[43m_invalid_transaction\u001b[49m\u001b[43m(\u001b[49m\u001b[43m)\u001b[49m\n\u001b[32m    676\u001b[39m     \u001b[38;5;28mself\u001b[39m._dbapi_connection = \u001b[38;5;28mself\u001b[39m.engine.raw_connection()\n\u001b[32m    677\u001b[39m     \u001b[38;5;28;01mreturn\u001b[39;00m \u001b[38;5;28mself\u001b[39m._dbapi_connection\n",
      "\u001b[36mFile \u001b[39m\u001b[32mc:\\Users\\alvar\\git\\alu_consig_car\\hackathon2025\\hackathon2025\\.venv\\Lib\\site-packages\\sqlalchemy\\engine\\base.py:665\u001b[39m, in \u001b[36mConnection._invalid_transaction\u001b[39m\u001b[34m(self)\u001b[39m\n\u001b[32m    664\u001b[39m \u001b[38;5;28;01mdef\u001b[39;00m\u001b[38;5;250m \u001b[39m\u001b[34m_invalid_transaction\u001b[39m(\u001b[38;5;28mself\u001b[39m) -> NoReturn:\n\u001b[32m--> \u001b[39m\u001b[32m665\u001b[39m     \u001b[38;5;28;01mraise\u001b[39;00m exc.PendingRollbackError(\n\u001b[32m    666\u001b[39m         \u001b[33m\"\u001b[39m\u001b[33mCan\u001b[39m\u001b[33m'\u001b[39m\u001b[33mt reconnect until invalid \u001b[39m\u001b[38;5;132;01m%s\u001b[39;00m\u001b[33mtransaction is rolled \u001b[39m\u001b[33m\"\u001b[39m\n\u001b[32m    667\u001b[39m         \u001b[33m\"\u001b[39m\u001b[33mback.  Please rollback() fully before proceeding\u001b[39m\u001b[33m\"\u001b[39m\n\u001b[32m    668\u001b[39m         % (\u001b[33m\"\u001b[39m\u001b[33msavepoint \u001b[39m\u001b[33m\"\u001b[39m \u001b[38;5;28;01mif\u001b[39;00m \u001b[38;5;28mself\u001b[39m._nested_transaction \u001b[38;5;129;01mis\u001b[39;00m \u001b[38;5;129;01mnot\u001b[39;00m \u001b[38;5;28;01mNone\u001b[39;00m \u001b[38;5;28;01melse\u001b[39;00m \u001b[33m\"\u001b[39m\u001b[33m\"\u001b[39m),\n\u001b[32m    669\u001b[39m         code=\u001b[33m\"\u001b[39m\u001b[33m8s2b\u001b[39m\u001b[33m\"\u001b[39m,\n\u001b[32m    670\u001b[39m     )\n",
      "\u001b[31mPendingRollbackError\u001b[39m: Can't reconnect until invalid transaction is rolled back.  Please rollback() fully before proceeding (Background on this error at: https://sqlalche.me/e/20/8s2b)"
     ]
    }
   ],
   "source": [
    "# 1) dim_cliente\n",
    "# Vem de: 00_base2.db.\"00_vendas_clientes_consigcar\".Nome, .WhatsApp\n",
    "df_clientes = pd.read_sql(\n",
    "    'SELECT DISTINCT Nome AS nome_cliente, WhatsApp AS whatsapp '\n",
    "    'FROM \"00_vendas_clientes_consigcar\"',\n",
    "    engine_bronze2\n",
    ")\n",
    "df_clientes.to_sql(\"dim_cliente\", engine_silver, if_exists=\"replace\", index_label=\"id_cliente\")"
   ]
  },
  {
   "cell_type": "code",
   "execution_count": 128,
   "id": "b944035b",
   "metadata": {},
   "outputs": [
    {
     "data": {
      "text/plain": [
       "7"
      ]
     },
     "execution_count": 128,
     "metadata": {},
     "output_type": "execute_result"
    }
   ],
   "source": [
    "# 2) dim_vendedor\n",
    "# Vem de: 00_base2.db.Vendedor\n",
    "df_vend = pd.read_sql(\n",
    "    'SELECT DISTINCT Vendedor AS nome_vendedor '\n",
    "    'FROM \"00_vendas_clientes_consigcar\"',\n",
    "    engine_bronze2\n",
    ")\n",
    "df_vend.to_sql(\"dim_vendedor\", engine_silver, if_exists=\"replace\", index_label=\"id_vendedor\")"
   ]
  },
  {
   "cell_type": "code",
   "execution_count": 6,
   "id": "aaecb2e7",
   "metadata": {},
   "outputs": [
    {
     "data": {
      "text/plain": [
       "4748"
      ]
     },
     "execution_count": 6,
     "metadata": {},
     "output_type": "execute_result"
    }
   ],
   "source": [
    "# 3) dim_tempo\n",
    "# Configurar o locale para português\n",
    "import locale\n",
    "locale.setlocale(locale.LC_TIME, 'pt_BR.UTF-8')\n",
    "\n",
    "# Gera calendário de 2018-01-01 a 2030-12-31\n",
    "start = datetime(2018,1,1)\n",
    "end   = datetime(2030,12,31)\n",
    "dates = []\n",
    "while start <= end:\n",
    "    dates.append(start)\n",
    "    start += relativedelta(days=1)\n",
    "\n",
    "df_tempo = pd.DataFrame({\n",
    "    \"id_data\": [int(d.strftime(\"%Y%m%d\")) for d in dates],\n",
    "    \"data\": dates,\n",
    "})\n",
    "df_tempo[\"dia\"]           = df_tempo[\"data\"].dt.day\n",
    "df_tempo[\"mes\"]           = df_tempo[\"data\"].dt.month\n",
    "df_tempo[\"ano\"]           = df_tempo[\"data\"].dt.year\n",
    "df_tempo[\"nome_mes\"]      = df_tempo[\"data\"].dt.strftime(\"%B\")\n",
    "df_tempo[\"dia_da_semana\"] = df_tempo[\"data\"].dt.day_name(locale='pt_BR')\n",
    "df_tempo[\"trimestre\"]     = df_tempo[\"data\"].dt.quarter\n",
    "\n",
    "df_tempo.to_sql(\"dim_tempo\", engine_silver, if_exists=\"replace\", index=False)"
   ]
  },
  {
   "cell_type": "code",
   "execution_count": 130,
   "id": "1b1c3488",
   "metadata": {},
   "outputs": [
    {
     "data": {
      "text/plain": [
       "207"
      ]
     },
     "execution_count": 130,
     "metadata": {},
     "output_type": "execute_result"
    }
   ],
   "source": [
    "# 4) dim_parcelamento\n",
    "# Vem de: 00_base2.db.\"00_vendas_clientes_consigcar\"\n",
    "\n",
    "df_parc = pd.read_sql(\n",
    "    'SELECT rowid AS id_parcelamento, '\n",
    "    '\"Quantidade de vezes\" AS num_parcelas, '\n",
    "    '\"Valor parcela\" AS valor_parcela, '\n",
    "    '\"Data do Pagamento\" AS data_pagamento '\n",
    "    'FROM \"00_vendas_clientes_consigcar\"',\n",
    "    engine_bronze2\n",
    ")\n",
    "\n",
    "# Limpeza prévia de strings suspeitas e conversão robusta de datas\n",
    "df_parc[\"data_pagamento\"] = df_parc[\"data_pagamento\"].astype(str).str.extract(\n",
    "    r'(\\d{1,2}[/\\-]\\d{1,2}[/\\-]\\d{2,4})'\n",
    ")[0]\n",
    "\n",
    "# Converte a data do pagamento para formato AAAAMMDD\n",
    "df_parc[\"data_primeira_parcela\"] = (\n",
    "    pd.to_datetime(df_parc[\"data_pagamento\"], format=\"mixed\", dayfirst=True, errors=\"coerce\")\n",
    "    .dt.strftime(\"%Y%m%d\")\n",
    "    .astype(\"Int64\")\n",
    ")\n",
    "\n",
    "# Calcula a data da última parcela com base na quantidade de parcelas\n",
    "df_parc[\"data_ultima_parcela\"] = (\n",
    "    pd.to_datetime(df_parc[\"data_pagamento\"], format=\"mixed\", dayfirst=True, errors=\"coerce\")\n",
    "    + pd.to_timedelta((df_parc[\"num_parcelas\"] - 1) * 30, unit=\"D\")  # Aproximação: 1 mês = 30 dias\n",
    ")\n",
    "df_parc[\"data_ultima_parcela\"] = (\n",
    "    df_parc[\"data_ultima_parcela\"].dt.strftime(\"%Y%m%d\").astype(\"Int64\")\n",
    ")\n",
    "\n",
    "# Calcula o valor total da compra (parcela * quantidade)\n",
    "df_parc[\"valor_total\"] = (df_parc[\"num_parcelas\"] * df_parc[\"valor_parcela\"]).round(2)\n",
    "\n",
    "# Exporta a tabela para a camada silver\n",
    "df_parc[[\n",
    "    \"id_parcelamento\", \"num_parcelas\", \"valor_parcela\",\n",
    "    \"valor_total\", \"data_primeira_parcela\", \"data_ultima_parcela\"\n",
    "]].to_sql(\"dim_parcelamento\", engine_silver, if_exists=\"replace\", index=False)\n"
   ]
  },
  {
   "cell_type": "code",
   "execution_count": 11,
   "id": "dbcb2a73",
   "metadata": {},
   "outputs": [
    {
     "data": {
      "text/plain": [
       "420"
      ]
     },
     "execution_count": 11,
     "metadata": {},
     "output_type": "execute_result"
    }
   ],
   "source": [
    "# 5) fato_despesas\n",
    "# Vem de: 00_base1.db.\"00_despesas_alucar\", \"00_despesas_consigcar\"\n",
    "\n",
    "# Leitura dos dados de despesas da Alucar\n",
    "df_alucar = pd.read_sql(\n",
    "    'SELECT DESPESAS AS nome_despesa, Valor AS valor, Mês AS mes '\n",
    "    'FROM \"00_despesas_alucar\"',\n",
    "    engine_bronze1\n",
    ")\n",
    "df_alucar[\"origem\"] = \"Alucar\"\n",
    "\n",
    "# Leitura dos dados de despesas da ConsigCar\n",
    "df_consig = pd.read_sql(\n",
    "    'SELECT DESPESAS AS nome_despesa, Valor AS valor, Mês AS mes '\n",
    "    'FROM \"00_despesas_consigcar\"',\n",
    "    engine_bronze1\n",
    ")\n",
    "df_consig[\"origem\"] = \"ConsigCar\"\n",
    "\n",
    "# Junta ambas as tabelas\n",
    "df_desp = pd.concat([df_alucar, df_consig], ignore_index=True)\n",
    "\n",
    "# Remove o \"R$\" da coluna valor, substitui vírgula por ponto e converte para float\n",
    "df_desp['valor'] = (df_desp['valor']\n",
    "                    .str.replace('R$', '', regex=False)\n",
    "                    .str.replace('.', '', regex=False)\n",
    "                    .str.replace(',', '.', regex=False)\n",
    "                    .str.strip()\n",
    "                    .astype(float))\n",
    "\n",
    "# Dicionário para mapear nomes dos meses em português para números\n",
    "meses = {\n",
    "    'janeiro': '01', 'fevereiro': '02', 'março': '03', 'abril': '04',\n",
    "    'maio': '05', 'junho': '06', 'julho': '07', 'agosto': '08',\n",
    "    'setembro': '09', 'outubro': '10', 'novembro': '11', 'dezembro': '12'\n",
    "}\n",
    "\n",
    "# Função para converter o nome do mês para o formato de data desejado\n",
    "def converter_mes(mes):\n",
    "    mes = mes.lower().strip()\n",
    "    for nome, numero in meses.items():\n",
    "        if mes.startswith(nome):\n",
    "            return f\"2025-{numero}-01\"\n",
    "    return None\n",
    "\n",
    "# Converte o mês para a data no formato correto\n",
    "df_desp['data'] = df_desp['mes'].apply(converter_mes)\n",
    "\n",
    "# Converte para datetime e depois para o formato YYYYMMDD para id_data\n",
    "df_desp[\"id_data\"] = pd.to_datetime(df_desp[\"data\"]).dt.strftime(\"%Y%m%d\").astype(\"Int64\")\n",
    "\n",
    "# Coluna categoria (placeholder)\n",
    "df_desp[\"categoria\"] = \"NA\"  # Atualizar futuramente se a info vier do Excel\n",
    "\n",
    "# Exporta para camada silver\n",
    "df_desp[[\"origem\", \"categoria\", \"nome_despesa\", \"valor\", \"id_data\"]].to_sql(\n",
    "    \"fato_despesas\", engine_silver, if_exists=\"replace\", index_label=\"id_despesa\"\n",
    ")\n"
   ]
  },
  {
   "cell_type": "code",
   "execution_count": 132,
   "id": "87a7b738",
   "metadata": {},
   "outputs": [
    {
     "data": {
      "text/plain": [
       "4"
      ]
     },
     "execution_count": 132,
     "metadata": {},
     "output_type": "execute_result"
    }
   ],
   "source": [
    "# 6) fato_faturamento_pagseguro\n",
    "# Vem de: 00_base1.db.\"00_receita_pagseguro_consigcar\"\n",
    "df_pag = pd.read_sql(\n",
    "    'SELECT Data AS data, Valor AS valor_faturado '\n",
    "    'FROM \"00_receita_pagseguro_consigcar\"',\n",
    "    engine_bronze1\n",
    ")\n",
    "df_pag[\"id_data\"] = (\n",
    "    pd.to_datetime(df_pag[\"data\"], dayfirst=True)\n",
    "    .dt.strftime(\"%Y%m%d\")\n",
    "    .astype(int)\n",
    ")\n",
    "\n",
    "df_pag[[\"id_data\",\"valor_faturado\"]].to_sql(\n",
    "    \"fato_faturamento_pagseguro\", engine_silver, if_exists=\"replace\", index_label=\"id_faturamento\"\n",
    ")"
   ]
  },
  {
   "cell_type": "code",
   "execution_count": null,
   "id": "7f4d95f8",
   "metadata": {},
   "outputs": [
    {
     "data": {
      "text/plain": [
       "81"
      ]
     },
     "execution_count": 22,
     "metadata": {},
     "output_type": "execute_result"
    }
   ],
   "source": [
    "# 7) fato_vendas_alucar\n",
    "# Vem de: 00_base1.db.\"00_vendas_clientes_alucar\"\n",
    "df_val = pd.read_sql(\n",
    "    'SELECT rowid AS id_venda_alucar, '\n",
    "    'Data AS data, '\n",
    "    '\"Valor Receita\" AS valor_venda '\n",
    "    'FROM \"00_vendas_clientes_alucar\"',\n",
    "    engine_bronze1\n",
    ")\n",
    "\n",
    "# Tratamento da data para criar id_data\n",
    "df_val[\"id_data\"] = (\n",
    "    pd.to_datetime(df_val[\"data\"], errors=\"coerce\", dayfirst=True)\n",
    "    .dt.strftime(\"%Y%m%d\")\n",
    "    .astype(\"Int64\")  # Usamos Int64 p/ permitir nulos se houver erro no parsing\n",
    ")\n",
    "\n",
    "df_val[[\"id_venda_alucar\", \"id_data\", \"valor_venda\"]].to_sql(\n",
    "    \"fato_vendas_alucar\", engine_silver, if_exists=\"replace\", index=False\n",
    ")\n"
   ]
  },
  {
   "cell_type": "code",
   "execution_count": 23,
   "id": "f8cc263f",
   "metadata": {},
   "outputs": [
    {
     "ename": "ValueError",
     "evalue": "Units 'M', 'Y', and 'y' are no longer supported, as they do not represent unambiguous timedelta values durations.",
     "output_type": "error",
     "traceback": [
      "\u001b[31m---------------------------------------------------------------------------\u001b[39m",
      "\u001b[31mValueError\u001b[39m                                Traceback (most recent call last)",
      "\u001b[36mCell\u001b[39m\u001b[36m \u001b[39m\u001b[32mIn[23]\u001b[39m\u001b[32m, line 21\u001b[39m\n\u001b[32m     19\u001b[39m \u001b[38;5;66;03m# Formatar data_primeira_parcela e calcular data_ultima_parcela\u001b[39;00m\n\u001b[32m     20\u001b[39m df_cons[\u001b[33m'\u001b[39m\u001b[33mdata_primeira_parcela\u001b[39m\u001b[33m'\u001b[39m] = pd.to_datetime(df_cons[\u001b[33m'\u001b[39m\u001b[33mdata_pagamento\u001b[39m\u001b[33m'\u001b[39m], errors=\u001b[33m'\u001b[39m\u001b[33mcoerce\u001b[39m\u001b[33m'\u001b[39m).dt.strftime(\u001b[33m\"\u001b[39m\u001b[33m%\u001b[39m\u001b[33mY\u001b[39m\u001b[33m%\u001b[39m\u001b[33mm\u001b[39m\u001b[38;5;132;01m%d\u001b[39;00m\u001b[33m\"\u001b[39m).astype(\u001b[33m'\u001b[39m\u001b[33mInt64\u001b[39m\u001b[33m'\u001b[39m)\n\u001b[32m---> \u001b[39m\u001b[32m21\u001b[39m df_cons[\u001b[33m'\u001b[39m\u001b[33mdata_ultima_parcela\u001b[39m\u001b[33m'\u001b[39m] = pd.to_datetime(df_cons[\u001b[33m'\u001b[39m\u001b[33mdata_pagamento\u001b[39m\u001b[33m'\u001b[39m], errors=\u001b[33m'\u001b[39m\u001b[33mcoerce\u001b[39m\u001b[33m'\u001b[39m) + \u001b[43mpd\u001b[49m\u001b[43m.\u001b[49m\u001b[43mto_timedelta\u001b[49m\u001b[43m(\u001b[49m\u001b[43mdf_cons\u001b[49m\u001b[43m[\u001b[49m\u001b[33;43m'\u001b[39;49m\u001b[33;43mnum_parcelas\u001b[39;49m\u001b[33;43m'\u001b[39;49m\u001b[43m]\u001b[49m\u001b[43m.\u001b[49m\u001b[43mastype\u001b[49m\u001b[43m(\u001b[49m\u001b[33;43m'\u001b[39;49m\u001b[33;43mInt64\u001b[39;49m\u001b[33;43m'\u001b[39;49m\u001b[43m)\u001b[49m\u001b[43m \u001b[49m\u001b[43m-\u001b[49m\u001b[43m \u001b[49m\u001b[32;43m1\u001b[39;49m\u001b[43m,\u001b[49m\u001b[43m \u001b[49m\u001b[43munit\u001b[49m\u001b[43m=\u001b[49m\u001b[33;43m'\u001b[39;49m\u001b[33;43mM\u001b[39;49m\u001b[33;43m'\u001b[39;49m\u001b[43m)\u001b[49m\n\u001b[32m     22\u001b[39m df_cons[\u001b[33m'\u001b[39m\u001b[33mdata_ultima_parcela\u001b[39m\u001b[33m'\u001b[39m] = df_cons[\u001b[33m'\u001b[39m\u001b[33mdata_ultima_parcela\u001b[39m\u001b[33m'\u001b[39m].dt.strftime(\u001b[33m\"\u001b[39m\u001b[33m%\u001b[39m\u001b[33mY\u001b[39m\u001b[33m%\u001b[39m\u001b[33mm\u001b[39m\u001b[38;5;132;01m%d\u001b[39;00m\u001b[33m\"\u001b[39m).astype(\u001b[33m'\u001b[39m\u001b[33mInt64\u001b[39m\u001b[33m'\u001b[39m)\n\u001b[32m     24\u001b[39m \u001b[38;5;66;03m# Obter id_cliente da dim_cliente baseado no nome_cliente\u001b[39;00m\n",
      "\u001b[36mFile \u001b[39m\u001b[32mc:\\Users\\alvar\\git\\alu_consig_car\\hackathon2025\\hackathon2025\\.venv\\Lib\\site-packages\\pandas\\core\\tools\\timedeltas.py:184\u001b[39m, in \u001b[36mto_timedelta\u001b[39m\u001b[34m(arg, unit, errors)\u001b[39m\n\u001b[32m    182\u001b[39m \u001b[38;5;28;01mif\u001b[39;00m unit \u001b[38;5;129;01mis\u001b[39;00m \u001b[38;5;129;01mnot\u001b[39;00m \u001b[38;5;28;01mNone\u001b[39;00m:\n\u001b[32m    183\u001b[39m     unit = parse_timedelta_unit(unit)\n\u001b[32m--> \u001b[39m\u001b[32m184\u001b[39m     \u001b[43mdisallow_ambiguous_unit\u001b[49m\u001b[43m(\u001b[49m\u001b[43munit\u001b[49m\u001b[43m)\u001b[49m\n\u001b[32m    186\u001b[39m \u001b[38;5;28;01mif\u001b[39;00m errors \u001b[38;5;129;01mnot\u001b[39;00m \u001b[38;5;129;01min\u001b[39;00m (\u001b[33m\"\u001b[39m\u001b[33mignore\u001b[39m\u001b[33m\"\u001b[39m, \u001b[33m\"\u001b[39m\u001b[33mraise\u001b[39m\u001b[33m\"\u001b[39m, \u001b[33m\"\u001b[39m\u001b[33mcoerce\u001b[39m\u001b[33m\"\u001b[39m):\n\u001b[32m    187\u001b[39m     \u001b[38;5;28;01mraise\u001b[39;00m \u001b[38;5;167;01mValueError\u001b[39;00m(\u001b[33m\"\u001b[39m\u001b[33merrors must be one of \u001b[39m\u001b[33m'\u001b[39m\u001b[33mignore\u001b[39m\u001b[33m'\u001b[39m\u001b[33m, \u001b[39m\u001b[33m'\u001b[39m\u001b[33mraise\u001b[39m\u001b[33m'\u001b[39m\u001b[33m, or \u001b[39m\u001b[33m'\u001b[39m\u001b[33mcoerce\u001b[39m\u001b[33m'\u001b[39m\u001b[33m.\u001b[39m\u001b[33m\"\u001b[39m)\n",
      "\u001b[36mFile \u001b[39m\u001b[32mtimedeltas.pyx:825\u001b[39m, in \u001b[36mpandas._libs.tslibs.timedeltas.disallow_ambiguous_unit\u001b[39m\u001b[34m()\u001b[39m\n",
      "\u001b[36mFile \u001b[39m\u001b[32mtimedeltas.pyx:827\u001b[39m, in \u001b[36mpandas._libs.tslibs.timedeltas.disallow_ambiguous_unit\u001b[39m\u001b[34m()\u001b[39m\n",
      "\u001b[31mValueError\u001b[39m: Units 'M', 'Y', and 'y' are no longer supported, as they do not represent unambiguous timedelta values durations."
     ]
    }
   ],
   "source": [
    "# 8) fato_vendas_consigcar\n",
    "# Vem de: 00_base2.db.\"00_vendas_clientes_consigcar\"\n",
    "# Leitura dos dados da camada bronze\n",
    "df_cons = pd.read_sql(\n",
    "    'SELECT rowid AS id_venda_consigcar, '\n",
    "    'Nome AS nome_cliente, '\n",
    "    '\"Tipo Produto\" AS tipo_produto, '\n",
    "    '\"Quantidade de vezes\" AS num_parcelas, '\n",
    "    '\"Valor da parcela\" AS valor_parcela, '\n",
    "    'Vendedor AS nome_vendedor, '\n",
    "    '\"Data do pagamento\" AS data_pagamento '\n",
    "    'FROM \"00_vendas_clientes_consigcar\"',\n",
    "    engine_bronze2\n",
    ")\n",
    "\n",
    "# Calcular valor_total\n",
    "df_cons['valor_total'] = df_cons['num_parcelas'] * df_cons['valor_parcela']\n",
    "\n",
    "# Formatar data_primeira_parcela e calcular data_ultima_parcela\n",
    "df_cons['data_primeira_parcela'] = pd.to_datetime(df_cons['data_pagamento'], errors='coerce').dt.strftime(\"%Y%m%d\").astype('Int64')\n",
    "df_cons['data_ultima_parcela'] = pd.to_datetime(df_cons['data_pagamento'], errors='coerce') + pd.to_timedelta(df_cons['num_parcelas'].astype('Int64') - 1, unit='M')\n",
    "df_cons['data_ultima_parcela'] = df_cons['data_ultima_parcela'].dt.strftime(\"%Y%m%d\").astype('Int64')\n",
    "\n",
    "# Obter id_cliente da dim_cliente baseado no nome_cliente\n",
    "df_clientes = pd.read_sql('SELECT id_cliente, nome_cliente FROM dim_cliente', engine_silver)\n",
    "df_cons = df_cons.merge(df_clientes, on='nome_cliente', how='left')\n",
    "\n",
    "# Obter id_vendedor da dim_vendedor\n",
    "df_vend = pd.read_sql('SELECT id_vendedor, nome_vendedor FROM dim_vendedor', engine_silver)\n",
    "df_cons = df_cons.merge(df_vend, on='nome_vendedor', how='left')\n",
    "\n",
    "# Selecionar e salvar colunas relevantes na tabela fato\n",
    "colunas_fato = [\n",
    "    \"id_venda_consigcar\", \"id_cliente\", \"tipo_produto\", \"id_vendedor\",\n",
    "    \"num_parcelas\", \"valor_parcela\", \"valor_total\",\n",
    "    \"data_primeira_parcela\", \"data_ultima_parcela\"\n",
    "]\n",
    "df_cons[colunas_fato].to_sql(\n",
    "    \"fato_vendas_consigcar\", \n",
    "    engine_silver,\n",
    "    if_exists=\"replace\",\n",
    "    index=False\n",
    ")\n",
    "\n",
    "# Verificar se há valores nulos após os merges\n",
    "null_counts = df_cons[[\"id_cliente\", \"id_vendedor\"]].isnull().sum()\n",
    "print(\"Contagem de valores nulos após os merges:\")\n",
    "print(null_counts)\n",
    "\n",
    "# Se houver valores nulos, pode ser necessário investigar e tratar esses casos\n"
   ]
  },
  {
   "cell_type": "code",
   "execution_count": 135,
   "id": "d9bf77b5",
   "metadata": {},
   "outputs": [
    {
     "data": {
      "text/plain": [
       "49"
      ]
     },
     "execution_count": 135,
     "metadata": {},
     "output_type": "execute_result"
    }
   ],
   "source": [
    "# 9) fato_vendas_mensais_consigcar\n",
    "df_det = pd.read_sql(\"SELECT * FROM fato_vendas_consigcar\", engine_silver)\n",
    "df_grp = df_det.groupby([\"id_vendedor\",\"id_data\"]).agg(\n",
    "    valor_total=(\"id_venda_consigcar\",\"count\"),\n",
    "    quantidade_vendas=(\"id_venda_consigcar\",\"count\")\n",
    ").reset_index()\n",
    "\n",
    "def classifica_meta(q):\n",
    "    if q >= 42: return \"Meta 2\"\n",
    "    if q >= 30: return \"Meta 1\"\n",
    "    if q >= 18: return \"Bônus 1\"\n",
    "    return \"NA\"\n",
    "\n",
    "df_grp[\"bonus_meta\"] = df_grp[\"quantidade_vendas\"].apply(classifica_meta)\n",
    "df_grp.to_sql(\"fato_vendas_mensais_consigcar\", engine_silver, if_exists=\"replace\", index=False)"
   ]
  },
  {
   "cell_type": "code",
   "execution_count": 136,
   "id": "69eeb39f",
   "metadata": {},
   "outputs": [],
   "source": [
    "# Transformar o banco de dados em DBML para acompanhamento da modelagem\n",
    "\n",
    "dbml = sql_to_dbml(engine_silver)\n",
    "with open(\"../modelagem/01_silver.dbml\", \"w\", encoding=\"utf-8\") as f:\n",
    "    f.write(dbml)"
   ]
  }
 ],
 "metadata": {
  "kernelspec": {
   "display_name": ".venv",
   "language": "python",
   "name": "python3"
  },
  "language_info": {
   "codemirror_mode": {
    "name": "ipython",
    "version": 3
   },
   "file_extension": ".py",
   "mimetype": "text/x-python",
   "name": "python",
   "nbconvert_exporter": "python",
   "pygments_lexer": "ipython3",
   "version": "3.13.2"
  }
 },
 "nbformat": 4,
 "nbformat_minor": 5
}
