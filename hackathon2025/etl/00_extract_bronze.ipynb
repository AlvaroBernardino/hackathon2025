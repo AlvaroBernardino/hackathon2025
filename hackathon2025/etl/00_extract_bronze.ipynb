{
 "cells": [
  {
   "cell_type": "code",
   "execution_count": 1,
   "id": "1e210583",
   "metadata": {},
   "outputs": [],
   "source": [
    "# Bibliotecas\n",
    "import pandas as pd\n",
    "import os\n",
    "from sqlalchemy import create_engine, inspect\n",
    "from io import BytesIO\n",
    "import requests\n",
    "from utils import sql_to_dbml, edit_sheet # Importando as funções do arquivo utils.py"
   ]
  },
  {
   "cell_type": "code",
   "execution_count": 2,
   "id": "ce90ccf8",
   "metadata": {},
   "outputs": [],
   "source": [
    "# Dicionários\n",
    "# com os caminhos do arquivos e atributos da tabela\n",
    "\n",
    "base1 = {\n",
    "    \"sheet_id\": \"1cucnW4yVosO5n5BFgwXYv6rVy8yj6NTasM83RTCMOug\",\n",
    "    \"gid_receita\": \"373473243\",\n",
    "    \"gid_despesas\": \"1859279676\",\n",
    "    \"encoding\": \"latin1\",\n",
    "    \"db_path\": os.path.abspath(\"../database/bronze/00_base1.db\"),\n",
    "    \"dbml_path\": os.path.abspath(\"../modelagem/00_base1.dbml\"),\n",
    "}\n",
    "\n",
    "base2 = {\n",
    "    \"url\": \"https://empregadados-my.sharepoint.com/personal/bianca_empregadados_com_br/_layouts/15/download.aspx?share=EZYutqfo5ldNhDw2lMYRxrIBnpPI6c7OTjBBS_F5yz860Q\",\n",
    "    \"db_path\": os.path.abspath(\"../database/bronze/00_base2.db\"),\n",
    "    \"dbml_path\": os.path.abspath(\"../modelagem/00_base2.dbml\"),\n",
    "    \"encoding\": \"latin1\",\n",
    "}"
   ]
  },
  {
   "cell_type": "markdown",
   "id": "cd207722",
   "metadata": {},
   "source": [
    "## Extraindo Base 1 (Vendas)"
   ]
  },
  {
   "cell_type": "markdown",
   "id": "db74cfe7",
   "metadata": {},
   "source": [
    "### Aba Receita"
   ]
  },
  {
   "cell_type": "code",
   "execution_count": 3,
   "id": "73e7e9de",
   "metadata": {},
   "outputs": [],
   "source": [
    "#Lendo e armazenando em um dataframe as tabelas\n",
    "df_Receita = pd.read_csv(f\"https://docs.google.com/spreadsheets/d/{base1['sheet_id']}/export?format=csv&gid={base1['gid_receita']}\", index_col=False)\n",
    "df_Receita = edit_sheet(df_Receita)"
   ]
  },
  {
   "cell_type": "code",
   "execution_count": 4,
   "id": "4fcca908",
   "metadata": {},
   "outputs": [
    {
     "data": {
      "text/plain": [
       "5"
      ]
     },
     "execution_count": 4,
     "metadata": {},
     "output_type": "execute_result"
    }
   ],
   "source": [
    "# Inciando tratamento\n",
    "\n",
    "# Exclusão de linhas sem dados nas colunas Data e Mês\n",
    "df_Receita = df_Receita.dropna(subset=[\"Data\", \"Mes\"])\n",
    "\n",
    "# Transformação da coluna data\n",
    "df_Receita['Data'] = pd.to_datetime(df_Receita['Data'], dayfirst = True).dt.date\n",
    "\n",
    "# Transformação das colunas Mês e Ano para inteiro\n",
    "df_Receita[\"Mes\"] = df_Receita[\"Mes\"].astype(int)\n",
    "df_Receita[\"Ano\"] = df_Receita[\"Ano\"].astype(int)\n",
    "\n",
    "# Separação das colunas da Alucar e Consigcar\n",
    "df_Receita_Alucar = df_Receita.iloc[:, 0:5] \\\n",
    "                    .reset_index(drop = True)\n",
    "\n",
    "df_Receita_ConsigCar = df_Receita.iloc[:, [1,6]] \\\n",
    "                        .dropna(subset=[\"Valor\"]) \\\n",
    "                        .reset_index(drop = True)\n",
    "\n",
    "df_Receita_Alucar_estimativa = df_Receita_Alucar.reset_index(drop = True)\n",
    "\n",
    "# Separação do dataframe da Receita da Alucar e estimativa da Alucar\n",
    "df_Receita_Alucar_estimativa = df_Receita_Alucar[df_Receita_Alucar[\"Nome_(Alucar)\"] == 'Estimativa'] \\\n",
    "                                .reset_index(drop = True)\n",
    "\n",
    "df_Receita_Alucar = df_Receita_Alucar[df_Receita_Alucar[\"Nome_(Alucar)\"] != 'Estimativa']\n",
    "\n",
    "# Criando dataframe Consigcar estimado\n",
    "df_Receita_ConsigCar_estimativa = df_Receita[df_Receita[\"Faturamento_ConsigCar\"] == \"Pagseguro\"] \\\n",
    "    .iloc[:, [1,6]].reset_index(drop = True)\n",
    "\n",
    "for i in range(1,len(df_Receita_ConsigCar_estimativa)):\n",
    "    if pd.isna(df_Receita_ConsigCar_estimativa.loc[i,'Data']):\n",
    "        df_Receita_ConsigCar_estimativa.loc[i,'Data'] = df_Receita_ConsigCar_estimativa.loc[i-1, 'Data'] + pd.DateOffset(months=1)\n",
    "\n",
    "df_Receita_ConsigCar_estimativa['Data'] = pd.to_datetime(df_Receita_ConsigCar_estimativa['Data']).dt.date\n",
    "\n",
    "# Cria conexão com banco de dados SQLite\n",
    "engine = create_engine(f\"sqlite:///{base1['db_path']}\")\n",
    "\n",
    "# Insere as tabelas no banco\n",
    "df_Receita_Alucar.to_sql(\"b_vendas_clientes_alucar\", con=engine, if_exists=\"replace\", index=False)\n",
    "df_Receita_Alucar_estimativa.to_sql(\"b_vendas_clientes_alucar_estimativa\", con=engine, if_exists=\"replace\", index=False)\n",
    "df_Receita_ConsigCar.to_sql(\"b_receita_pagseguro_consigcar\", con=engine, if_exists=\"replace\", index=False)\n",
    "df_Receita_ConsigCar_estimativa.to_sql(\"b_receita_consigcar_estimativa\", con=engine, if_exists=\"replace\", index=False)\n"
   ]
  },
  {
   "cell_type": "markdown",
   "id": "2f4a2fce",
   "metadata": {},
   "source": [
    "### Aba Despesas "
   ]
  },
  {
   "cell_type": "code",
   "execution_count": 5,
   "id": "187a90a7",
   "metadata": {},
   "outputs": [
    {
     "data": {
      "text/plain": [
       "156"
      ]
     },
     "execution_count": 5,
     "metadata": {},
     "output_type": "execute_result"
    }
   ],
   "source": [
    "# Lendo e armazenando em um dataframe as tabelas\n",
    "df_Despesas = pd.read_csv(f\"https://docs.google.com/spreadsheets/d/{base1[\"sheet_id\"]}/export?format=csv&gid={base1[\"gid_despesas\"]}\", index_col=False)\n",
    "\n",
    "# Excluindo colunas desnecessárias\n",
    "df_Despesas.columns = df_Despesas.iloc[0]\n",
    "df_Despesas = df_Despesas[1:]\n",
    "df_Despesas.reset_index(drop = True, inplace = True)\n",
    "\n",
    "#Separando Despesas da Alucar e ConsigCar\n",
    "\n",
    "# Encontrar o índice da linha que contém TOTAL na coluna Despesa\n",
    "index_total = df_Despesas[df_Despesas['DESPESAS'].str.contains(\"TOTAL\", na=False)].index.min()\n",
    "\n",
    "# Selecionar todas as linhas até a linha anterior à que contém TOTAL\n",
    "df_Despesas_Alucar = df_Despesas.iloc[:index_total].copy()\n",
    "df_Despesas_Alucar = df_Despesas_Alucar.reset_index(drop = True) \\\n",
    "                                       .melt(id_vars=[\"DESPESAS\"], var_name=\"Mês\", value_name=\"Valor\")\n",
    "\n",
    "# Selecionar as linhas referentes a ConsigCar\n",
    "df_Despesas_ConsigCar = df_Despesas.iloc[index_total+4:-1] \\\n",
    "                        .copy().reset_index(drop = True) \\\n",
    "                        .melt(id_vars=[\"DESPESAS\"], var_name=\"Mês\", value_name=\"Valor\")\n",
    "\n",
    "# Cria conexão com banco de dados SQLite\n",
    "engine = create_engine(f\"sqlite:///{base1[\"db_path\"]}\")\n",
    "\n",
    "# Insere as tabelas no banco\n",
    "df_Despesas_Alucar.to_sql(\"b_despesas_alucar\", con=engine, if_exists=\"replace\", index=False)\n",
    "df_Despesas_ConsigCar.to_sql(\"b_despesas_consigcar\", con=engine, if_exists=\"replace\", index=False)\n"
   ]
  },
  {
   "cell_type": "code",
   "execution_count": 6,
   "id": "7c8d12db",
   "metadata": {},
   "outputs": [],
   "source": [
    "# Transformar o banco de dados em DBML para acompanhamento da modelagem\n",
    "dbml = sql_to_dbml(engine)\n",
    "\n",
    "with open(base1[\"dbml_path\"], \"w\", encoding=\"utf-8\") as f:\n",
    "    f.write(dbml)"
   ]
  },
  {
   "cell_type": "markdown",
   "id": "06682d62",
   "metadata": {},
   "source": [
    "### Extraindo Base 2"
   ]
  },
  {
   "cell_type": "code",
   "execution_count": 7,
   "id": "0b78cf61",
   "metadata": {},
   "outputs": [
    {
     "name": "stderr",
     "output_type": "stream",
     "text": [
      "<>:7: SyntaxWarning: invalid escape sequence '\\$'\n",
      "<>:7: SyntaxWarning: invalid escape sequence '\\.'\n",
      "<>:7: SyntaxWarning: invalid escape sequence '\\$'\n",
      "<>:7: SyntaxWarning: invalid escape sequence '\\.'\n",
      "C:\\Users\\alvar\\AppData\\Local\\Temp\\ipykernel_17252\\3873260986.py:7: SyntaxWarning: invalid escape sequence '\\$'\n",
      "  df['Valor parcela'] = df['Valor parcela'].replace({'R\\$': '', '\\.': '', ',': '.'}, regex=True).astype(float)\n",
      "C:\\Users\\alvar\\AppData\\Local\\Temp\\ipykernel_17252\\3873260986.py:7: SyntaxWarning: invalid escape sequence '\\.'\n",
      "  df['Valor parcela'] = df['Valor parcela'].replace({'R\\$': '', '\\.': '', ',': '.'}, regex=True).astype(float)\n"
     ]
    },
    {
     "data": {
      "text/plain": [
       "207"
      ]
     },
     "execution_count": 7,
     "metadata": {},
     "output_type": "execute_result"
    }
   ],
   "source": [
    "# Lendo e aramazenando em um dataframe as tabelas\n",
    "\n",
    "response = requests.get(base2[\"url\"])\n",
    "df = pd.read_excel(BytesIO(response.content))\n",
    "\n",
    "# Remove 'R$', pontos e converte a vírgula decimal para ponto\n",
    "df['Valor parcela'] = df['Valor parcela'].replace({'R\\$': '', '\\.': '', ',': '.'}, regex=True).astype(float)\n",
    "\n",
    "# Converte a coluna de data e remove a hora\n",
    "df['Data do Pagamento'] = pd.to_datetime(df['Data do Pagamento']).dt.date\n",
    "\n",
    "# Cria conexão com banco de dados SQLite\n",
    "engine = create_engine(f\"sqlite:///{base2['db_path']}\")\n",
    "\n",
    "# Insere a tabela no banco\n",
    "df.to_sql(\"b_vendas_clientes_consigcar\", con=engine, if_exists=\"replace\", index=False)"
   ]
  },
  {
   "cell_type": "code",
   "execution_count": 8,
   "id": "dd61f061",
   "metadata": {},
   "outputs": [],
   "source": [
    "# Transformar o banco de dados em DBML para acompanhamento da modelagem\n",
    "dbml = sql_to_dbml(engine)\n",
    "\n",
    "with open(base2[\"dbml_path\"], \"w\", encoding=\"utf-8\") as f:\n",
    "    f.write(dbml)"
   ]
  }
 ],
 "metadata": {
  "kernelspec": {
   "display_name": ".venv",
   "language": "python",
   "name": "python3"
  },
  "language_info": {
   "codemirror_mode": {
    "name": "ipython",
    "version": 3
   },
   "file_extension": ".py",
   "mimetype": "text/x-python",
   "name": "python",
   "nbconvert_exporter": "python",
   "pygments_lexer": "ipython3",
   "version": "3.13.2"
  }
 },
 "nbformat": 4,
 "nbformat_minor": 5
}
